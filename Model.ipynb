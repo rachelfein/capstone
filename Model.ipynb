{
 "cells": [
  {
   "cell_type": "code",
   "execution_count": 1,
   "metadata": {},
   "outputs": [
    {
     "name": "stderr",
     "output_type": "stream",
     "text": [
      "/Users/rachelfein/opt/anaconda3/envs/predictive-env/lib/python3.9/site-packages/xgboost/compat.py:36: FutureWarning: pandas.Int64Index is deprecated and will be removed from pandas in a future version. Use pandas.Index with the appropriate dtype instead.\n",
      "  from pandas import MultiIndex, Int64Index\n"
     ]
    }
   ],
   "source": [
    "# import all packages needed for modeling\n",
    "import pandas as pd\n",
    "import numpy as np\n",
    "import seaborn as sns\n",
    "from feature_engine.encoding import OrdinalEncoder\n",
    "import matplotlib.pyplot as plt\n",
    "import matplotlib as mpl\n",
    "from scipy import stats\n",
    "from scipy.special import boxcox\n",
    "from scipy.special import inv_boxcox\n",
    "import scipy.stats as stats\n",
    "from sklearn.model_selection import train_test_split\n",
    "from sklearn.preprocessing import StandardScaler\n",
    "from sklearn.preprocessing import FunctionTransformer\n",
    "from sklearn.model_selection import GridSearchCV\n",
    "from sklearn.linear_model import LinearRegression\n",
    "from sklearn.metrics import mean_absolute_error\n",
    "from sklearn.metrics import mean_squared_error\n",
    "from sklearn.metrics import r2_score\n",
    "from sklearn.ensemble import RandomForestClassifier\n",
    "from sklearn.ensemble import RandomForestRegressor\n",
    "import statsmodels.api as sm\n",
    "from statsmodels.stats.outliers_influence import variance_inflation_factor\n",
    "import xgboost as xgb\n",
    "import warnings\n",
    "import pylab\n",
    "from patsy import dmatrices\n",
    "\n",
    "from sklearn.feature_selection import SelectKBest, SelectPercentile\n",
    "from sklearn.decomposition import PCA"
   ]
  },
  {
   "cell_type": "markdown",
   "metadata": {},
   "source": [
    "## End of preprocessing notebook, next notebook is modeling"
   ]
  },
  {
   "cell_type": "code",
   "execution_count": 2,
   "metadata": {},
   "outputs": [],
   "source": [
    "# Import df from EDA & Preprocessing Notebook\n",
    "X_train = pd.read_csv('Data/X_train_ol.csv')\n",
    "X_test = pd.read_csv('Data/X_test_ol.csv')\n",
    "y_train = pd.read_csv('Data/y_train_ol.csv')\n",
    "y_test = pd.read_csv('Data/y_test_ol.csv')"
   ]
  },
  {
   "cell_type": "markdown",
   "metadata": {},
   "source": [
    "# Baseline Model\n",
    "The baseline model will be a Linear Regression model.\n",
    "\n",
    "I will make a funtion to evaluate our model's performance. A breif overview of the different metrics:\n",
    "- Mean Absolute Error (MAE): A basic metric that gives us the absolute difference between actual and predicted values. Idealy the final model would have a smaller MAE than the baseline model since we aim to lower the amount of error by tuning models.\n",
    "- Mean Squared Error (MSE): Finds the squared difference between the actual and predicted values. The MSE is helpful since it avoids the cancellation of negative terms (unlike MAE). However, outliers will be more damaging since it penalizes the outliers more than MAE. \n",
    "- Root Mean Square Error(RMSE): Is the square root of the MSE. RMSE is easier to interpret than MSE since the output is in the same units as the variable"
   ]
  },
  {
   "cell_type": "code",
   "execution_count": 3,
   "metadata": {},
   "outputs": [
    {
     "data": {
      "text/plain": [
       "StandardScaler()"
      ]
     },
     "execution_count": 3,
     "metadata": {},
     "output_type": "execute_result"
    }
   ],
   "source": [
    "# need to set up standard scaler to transform predictions back to orginal form for interpretation\n",
    "\n",
    "# make scaler for y_train\n",
    "scaler_y = StandardScaler()\n",
    "# make scaler for X_train\n",
    "scaler = StandardScaler()\n",
    "\n",
    "# fit X_train\n",
    "scaler.fit(X_train)\n",
    "# fit y_train\n",
    "scaler_y.fit(y_train)"
   ]
  },
  {
   "cell_type": "code",
   "execution_count": 4,
   "metadata": {},
   "outputs": [],
   "source": [
    "# function to view model's performance\n",
    "def performance_metrics(model, X_test, y_test):\n",
    "    \n",
    "    # get prediction on X_train\n",
    "    train_pred = model.predict(X_train)\n",
    "    # get prediction on X_test\n",
    "    # reshape to work with tree models\n",
    "    train_pred = train_pred.reshape(-1,1)\n",
    "    # inverse transform StandardScaler\n",
    "    train_pred_inv_SS = scaler_y.inverse_transform(train_pred)\n",
    "    # inverse transform BoxCox, lambda is from preprocessing notebook\n",
    "    train_pred_inv_BC = (inv_boxcox(train_pred_inv_SS,-0.0207010))\n",
    "    \n",
    "    \n",
    "    \n",
    "    test_pred = model.predict(X_test)\n",
    "    # reshape to work with tree models\n",
    "    test_pred = test_pred.reshape(-1,1)\n",
    "    # inverse transform StandardScaler\n",
    "    test_pred_inv_SS = scaler_y.inverse_transform(test_pred)\n",
    "    # inverse transform BoxCox, lambda is from preprocessing notebook\n",
    "    test_pred_inv_BC = (inv_boxcox(test_pred_inv_SS,-0.0207010))\n",
    "    \n",
    "    print(f'Test Mean Absolute Error : {round(mean_absolute_error(y_test,test_pred_inv_BC),2)}')\n",
    "    print(f'Test Mean Squared Error: {round(mean_squared_error(y_test,test_pred_inv_BC),2)}')\n",
    "    print(f'Test Root Mean Square Error :$ {round(np.sqrt(mean_squared_error(y_test,test_pred_inv_BC)),2)}')\n",
    "    print(f'Train Root Mean Square Error :$ {round(np.sqrt(mean_squared_error(y_train,train_pred_inv_BC)),2)}')"
   ]
  },
  {
   "cell_type": "code",
   "execution_count": 5,
   "metadata": {},
   "outputs": [
    {
     "name": "stdout",
     "output_type": "stream",
     "text": [
      "Test Mean Absolute Error : 233.35\n",
      "Test Mean Squared Error: 111676.51\n",
      "Test Root Mean Square Error :$ 334.18\n",
      "Train Root Mean Square Error :$ 2.07\n"
     ]
    }
   ],
   "source": [
    "lr_base = LinearRegression()\n",
    "lr_base.fit(X_train, y_train)\n",
    "\n",
    "performance_metrics(lr_base, X_test, y_test)"
   ]
  },
  {
   "cell_type": "markdown",
   "metadata": {},
   "source": [
    "To rely on a linear regression model it must meet the assumptions of linear regression. We will take a look at the assuptions next, "
   ]
  },
  {
   "cell_type": "code",
   "execution_count": 6,
   "metadata": {},
   "outputs": [],
   "source": [
    "# get residuals to look at assumptions of linear regression\n",
    "test_pred = lr_base.predict(X_test)\n",
    "residuals = y_test - test_pred"
   ]
  },
  {
   "cell_type": "code",
   "execution_count": 7,
   "metadata": {},
   "outputs": [
    {
     "data": {
      "text/plain": [
       "<AxesSubplot:ylabel='Density'>"
      ]
     },
     "execution_count": 7,
     "metadata": {},
     "output_type": "execute_result"
    },
    {
     "data": {
      "image/png": "[encoded data removed]",
      "text/plain": [
       "<Figure size 432x288 with 1 Axes>"
      ]
     },
     "metadata": {
      "needs_background": "light"
     },
     "output_type": "display_data"
    }
   ],
   "source": [
    "# look at normailty: the residuals of the Linear regression model are skewed\n",
    "warnings.filterwarnings('ignore')\n",
    "sns.distplot(residuals)"
   ]
  },
  {
   "cell_type": "code",
   "execution_count": 8,
   "metadata": {},
   "outputs": [
    {
     "data": {
      "image/png": "[encoded data removed]",
      "text/plain": [
       "<Figure size 432x180 with 1 Axes>"
      ]
     },
     "metadata": {
      "needs_background": "light"
     },
     "output_type": "display_data"
    }
   ],
   "source": [
    "#The residuals do show a slight cone shape pattern \n",
    "fig, ax = plt.subplots(figsize=(6,2.5))\n",
    "_ = ax.scatter(test_pred, residuals)"
   ]
  },
  {
   "cell_type": "code",
   "execution_count": 9,
   "metadata": {},
   "outputs": [
    {
     "name": "stdout",
     "output_type": "stream",
     "text": [
      "                       feature       VIF\n",
      "0               maximum_nights  1.007739\n",
      "1              availability_30  1.268117\n",
      "2             availability_365  1.270027\n",
      "3            number_of_reviews  1.111386\n",
      "4         review_scores_rating  3.491498\n",
      "5    review_scores_cleanliness  2.255183\n",
      "6        review_scores_checkin  2.052931\n",
      "7  review_scores_communication  2.405259\n",
      "8       review_scores_location  1.320121\n"
     ]
    }
   ],
   "source": [
    "# Double check for multicollinearity\n",
    "X = X_train[['maximum_nights', 'availability_30', 'availability_365',\n",
    "       'number_of_reviews', 'review_scores_rating',\n",
    "       'review_scores_cleanliness', 'review_scores_checkin',\n",
    "       'review_scores_communication', 'review_scores_location']]\n",
    "\n",
    "# VIF dataframe\n",
    "vif_data = pd.DataFrame()\n",
    "vif_data[\"feature\"] = X.columns\n",
    "  \n",
    "# calculating VIF for each feature\n",
    "vif_data[\"VIF\"] = [variance_inflation_factor(X.values, i)\n",
    "                          for i in range(len(X.columns))]\n",
    "  \n",
    "print(vif_data)"
   ]
  },
  {
   "cell_type": "markdown",
   "metadata": {},
   "source": [
    "We see the baseline model has a RMSE of 334 dollars indicates it is a very poor performing model. Since the average price overall is around 190 dollars, a error of 334 dollars is very off from the actual price."
   ]
  },
  {
   "cell_type": "markdown",
   "metadata": {},
   "source": [
    "## Model 2\n",
    "For regression there are many different model types to choose from. Next, I am going to try a Random Forrest Model which is a little more robust to outliers than a Linear Regression model is. "
   ]
  },
  {
   "cell_type": "code",
   "execution_count": 10,
   "metadata": {},
   "outputs": [
    {
     "name": "stdout",
     "output_type": "stream",
     "text": [
      "Test Mean Absolute Error : 233.33\n",
      "Test Mean Squared Error: 111981.0\n",
      "Test Root Mean Square Error :$ 334.64\n",
      "Train Root Mean Square Error :$ 3.27\n"
     ]
    }
   ],
   "source": [
    "# Import Random Forest\n",
    "forest_baseline = RandomForestRegressor()\n",
    "forest_baseline.fit(X_train, y_train.values.ravel())\n",
    "\n",
    "# view performance metrics\n",
    "performance_metrics(forest_baseline, X_test, y_test)\n"
   ]
  },
  {
   "cell_type": "markdown",
   "metadata": {},
   "source": [
    "The RandomForest model did not perform better than the linear regression model"
   ]
  },
  {
   "cell_type": "code",
   "execution_count": 11,
   "metadata": {},
   "outputs": [
    {
     "data": {
      "text/plain": [
       "{'criterion': 'squared_error',\n",
       " 'max_depth': 75,\n",
       " 'max_features': 'auto',\n",
       " 'min_samples_leaf': 10,\n",
       " 'min_samples_split': 2}"
      ]
     },
     "execution_count": 11,
     "metadata": {},
     "output_type": "execute_result"
    }
   ],
   "source": [
    "# Use gridsearch to find a better RandomForest model\n",
    "# I will start with a spread of different parameter options\n",
    "param = {\n",
    "    'criterion': ['squared_error'],\n",
    "    'max_depth': [10, 50, 75],\n",
    "    'max_features': ['auto', 'sqrt'],\n",
    "    'min_samples_leaf': [10, 30, 50],\n",
    "    'min_samples_split': [2, 5, 10],\n",
    "}\n",
    "\n",
    "gridsearch_rf1 = GridSearchCV(estimator=forest_baseline,\n",
    "                          param_grid=param, cv= 3, scoring='neg_mean_squared_error')\n",
    "\n",
    "# Run search & takes a while to run\n",
    "gridsearch_rf1.fit(X_train, y_train.values.ravel())\n",
    "gridsearch_rf1.best_params_"
   ]
  },
  {
   "cell_type": "code",
   "execution_count": 12,
   "metadata": {},
   "outputs": [
    {
     "name": "stdout",
     "output_type": "stream",
     "text": [
      "Test Mean Absolute Error : 235.49\n",
      "Test Mean Squared Error: 127982.78\n",
      "Test Root Mean Square Error :$ 357.75\n",
      "Train Root Mean Square Error :$ 2.25\n"
     ]
    }
   ],
   "source": [
    "# view performance metrics\n",
    "performance_metrics(gridsearch_rf1, X_test, y_test)"
   ]
  },
  {
   "cell_type": "code",
   "execution_count": 16,
   "metadata": {},
   "outputs": [
    {
     "name": "stdout",
     "output_type": "stream",
     "text": [
      "(54, 16)\n"
     ]
    },
    {
     "data": {
      "text/html": [
       "<div>\n",
       "<style scoped>\n",
       "    .dataframe tbody tr th:only-of-type {\n",
       "        vertical-align: middle;\n",
       "    }\n",
       "\n",
       "    .dataframe tbody tr th {\n",
       "        vertical-align: top;\n",
       "    }\n",
       "\n",
       "    .dataframe thead th {\n",
       "        text-align: right;\n",
       "    }\n",
       "</style>\n",
       "<table border=\"1\" class=\"dataframe\">\n",
       "  <thead>\n",
       "    <tr style=\"text-align: right;\">\n",
       "      <th></th>\n",
       "      <th>mean_fit_time</th>\n",
       "      <th>std_fit_time</th>\n",
       "      <th>mean_score_time</th>\n",
       "      <th>std_score_time</th>\n",
       "      <th>param_criterion</th>\n",
       "      <th>param_max_depth</th>\n",
       "      <th>param_max_features</th>\n",
       "      <th>param_min_samples_leaf</th>\n",
       "      <th>param_min_samples_split</th>\n",
       "      <th>params</th>\n",
       "      <th>split0_test_score</th>\n",
       "      <th>split1_test_score</th>\n",
       "      <th>split2_test_score</th>\n",
       "      <th>mean_test_score</th>\n",
       "      <th>std_test_score</th>\n",
       "      <th>rank_test_score</th>\n",
       "    </tr>\n",
       "  </thead>\n",
       "  <tbody>\n",
       "    <tr>\n",
       "      <th>0</th>\n",
       "      <td>0.820353</td>\n",
       "      <td>0.010693</td>\n",
       "      <td>0.016310</td>\n",
       "      <td>0.000562</td>\n",
       "      <td>squared_error</td>\n",
       "      <td>75</td>\n",
       "      <td>auto</td>\n",
       "      <td>10</td>\n",
       "      <td>5</td>\n",
       "      <td>{'criterion': 'squared_error', 'max_depth': 75...</td>\n",
       "      <td>-0.400907</td>\n",
       "      <td>-0.456423</td>\n",
       "      <td>-0.474814</td>\n",
       "      <td>-0.444048</td>\n",
       "      <td>0.031416</td>\n",
       "      <td>1</td>\n",
       "    </tr>\n",
       "    <tr>\n",
       "      <th>1</th>\n",
       "      <td>0.810430</td>\n",
       "      <td>0.009488</td>\n",
       "      <td>0.015656</td>\n",
       "      <td>0.000163</td>\n",
       "      <td>squared_error</td>\n",
       "      <td>50</td>\n",
       "      <td>auto</td>\n",
       "      <td>10</td>\n",
       "      <td>2</td>\n",
       "      <td>{'criterion': 'squared_error', 'max_depth': 50...</td>\n",
       "      <td>-0.402161</td>\n",
       "      <td>-0.457773</td>\n",
       "      <td>-0.472313</td>\n",
       "      <td>-0.444082</td>\n",
       "      <td>0.030231</td>\n",
       "      <td>2</td>\n",
       "    </tr>\n",
       "  </tbody>\n",
       "</table>\n",
       "</div>"
      ],
      "text/plain": [
       "   mean_fit_time  std_fit_time  mean_score_time  std_score_time  \\\n",
       "0       0.820353      0.010693         0.016310        0.000562   \n",
       "1       0.810430      0.009488         0.015656        0.000163   \n",
       "\n",
       "  param_criterion param_max_depth param_max_features param_min_samples_leaf  \\\n",
       "0   squared_error              75               auto                     10   \n",
       "1   squared_error              50               auto                     10   \n",
       "\n",
       "  param_min_samples_split                                             params  \\\n",
       "0                       5  {'criterion': 'squared_error', 'max_depth': 75...   \n",
       "1                       2  {'criterion': 'squared_error', 'max_depth': 50...   \n",
       "\n",
       "   split0_test_score  split1_test_score  split2_test_score  mean_test_score  \\\n",
       "0          -0.400907          -0.456423          -0.474814        -0.444048   \n",
       "1          -0.402161          -0.457773          -0.472313        -0.444082   \n",
       "\n",
       "   std_test_score  rank_test_score  \n",
       "0        0.031416                1  \n",
       "1        0.030231                2  "
      ]
     },
     "execution_count": 16,
     "metadata": {},
     "output_type": "execute_result"
    }
   ],
   "source": [
    "# to better understand how the different parameters performed we can visualize the data\n",
    "results = pd.DataFrame(gridsearch_rf1.cv_results_)\n",
    "results.sort_values(by='mean_test_score', ascending=False, inplace=True)\n",
    "results.reset_index(drop=True, inplace=True)\n",
    "print(results.shape)\n",
    "\n",
    "results.head(2)"
   ]
  },
  {
   "cell_type": "code",
   "execution_count": 17,
   "metadata": {},
   "outputs": [
    {
     "data": {
      "text/plain": [
       "Text(0.5, 0, 'Hyperparameter combinations')"
      ]
     },
     "execution_count": 17,
     "metadata": {},
     "output_type": "execute_result"
    },
    {
     "data": {
      "image/png": "[encoded data removed]",
      "text/plain": [
       "<Figure size 432x288 with 1 Axes>"
      ]
     },
     "metadata": {
      "needs_background": "light"
     },
     "output_type": "display_data"
    }
   ],
   "source": [
    "# plot model performance and error\n",
    "results['mean_test_score'].plot(yerr=[results['std_test_score'], results['std_test_score']], subplots=True)\n",
    "\n",
    "plt.ylabel('Mean test score')\n",
    "plt.xlabel('Hyperparameter combinations')"
   ]
  },
  {
   "cell_type": "markdown",
   "metadata": {},
   "source": [
    "A little better than the baseline Randomforest model but still the linear regression model performed better."
   ]
  },
  {
   "cell_type": "markdown",
   "metadata": {},
   "source": [
    "## Model 4\n",
    "XGBoost"
   ]
  },
  {
   "cell_type": "code",
   "execution_count": 13,
   "metadata": {},
   "outputs": [
    {
     "name": "stdout",
     "output_type": "stream",
     "text": [
      "Test Mean Absolute Error : 232.89\n",
      "Test Mean Squared Error: 111336.73\n",
      "Test Root Mean Square Error :$ 333.67\n",
      "Train Root Mean Square Error :$ 4.56\n"
     ]
    }
   ],
   "source": [
    "# set up xgboost model\n",
    "warnings.filterwarnings('ignore')\n",
    "\n",
    "xgbr = xgb.XGBRegressor()\n",
    "xgbr.fit(X_train, y_train)\n",
    "\n",
    "performance_metrics(xgbr, X_test, y_test)\n"
   ]
  },
  {
   "cell_type": "code",
   "execution_count": 20,
   "metadata": {},
   "outputs": [
    {
     "data": {
      "text/plain": [
       "{'learning_rate': 0.015, 'max_depth': 5, 'n_estimators': 800}"
      ]
     },
     "execution_count": 20,
     "metadata": {},
     "output_type": "execute_result"
    }
   ],
   "source": [
    "# block warning about deprecated int64\n",
    "warnings.filterwarnings('ignore')\n",
    "\n",
    "param_grid = {\"max_depth\":    [5, 6, 7],\n",
    "              \"n_estimators\": [600, 700, 800],\n",
    "              \"learning_rate\": [0.01, 0.015, 0.25]}\n",
    "\n",
    "xgb_search = GridSearchCV(xgbr, param_grid, cv=3, scoring='neg_mean_squared_error').fit(X_train, y_train)\n",
    "\n",
    "# Run search & takes a min or two\n",
    "xgb_search.fit(X_train, y_train.values.ravel())\n",
    "xgb_search.best_params_"
   ]
  },
  {
   "cell_type": "code",
   "execution_count": 21,
   "metadata": {},
   "outputs": [
    {
     "name": "stdout",
     "output_type": "stream",
     "text": [
      "Test Mean Absolute Error : 233.5\n",
      "Test Mean Squared Error: 112266.87\n",
      "Test Root Mean Square Error :$ 335.06\n"
     ]
    }
   ],
   "source": [
    "performance_metrics(xgb_search, X_test, y_test)"
   ]
  },
  {
   "cell_type": "code",
   "execution_count": 14,
   "metadata": {},
   "outputs": [
    {
     "name": "stdout",
     "output_type": "stream",
     "text": [
      "Test Mean Absolute Error : 231.81\n",
      "Test Mean Squared Error: 110500.04\n",
      "Test Root Mean Square Error :$ 332.42\n",
      "Train Root Mean Square Error :$ 6.64\n"
     ]
    }
   ],
   "source": [
    "# make basic decision tree model\n",
    "from sklearn.tree import DecisionTreeRegressor\n",
    "\n",
    "tree_baseline = DecisionTreeRegressor()\n",
    "tree_baseline.fit(X_train, y_train)\n",
    "\n",
    "performance_metrics(tree_baseline,X_test,y_test)"
   ]
  },
  {
   "cell_type": "markdown",
   "metadata": {},
   "source": [
    "## Using Feature Selection to Improve Model\n",
    "Feature selection algorithms can be seen as a combination of search techniques for suggesting which features to use in a model. In the Preprocessing notebook filter methods were used for feature selection, such as looking at corrilation. \n",
    "\n",
    "First atempt to use only the features with a significant F score for xgboost model and the linear regression model since those are our best performing models. Lastly, we will use the LASSO method which is an embedded feature selection method, meaning feature selection is performed during the modeling algorithm's execution. "
   ]
  },
  {
   "cell_type": "code",
   "execution_count": 15,
   "metadata": {},
   "outputs": [
    {
     "data": {
      "image/png": "[encoded data removed]",
      "text/plain": [
       "<Figure size 432x288 with 1 Axes>"
      ]
     },
     "metadata": {
      "needs_background": "light"
     },
     "output_type": "display_data"
    }
   ],
   "source": [
    "# view features of top importance for the xgboost model\n",
    "from xgboost import plot_importance\n",
    "plot_importance(xgbr, max_num_features=20)\n",
    "plt.show()"
   ]
  },
  {
   "cell_type": "code",
   "execution_count": 16,
   "metadata": {},
   "outputs": [
    {
     "data": {
      "text/plain": [
       "SelectFromModel(estimator=XGBRegressor(base_score=None, booster=None,\n",
       "                                       colsample_bylevel=None,\n",
       "                                       colsample_bynode=None,\n",
       "                                       colsample_bytree=None,\n",
       "                                       enable_categorical=False, gamma=None,\n",
       "                                       gpu_id=None, importance_type=None,\n",
       "                                       interaction_constraints=None,\n",
       "                                       learning_rate=None, max_delta_step=None,\n",
       "                                       max_depth=None, min_child_weight=None,\n",
       "                                       missing=nan, monotone_constraints=None,\n",
       "                                       n_estimators=128, n_jobs=None,\n",
       "                                       num_parallel_tree=None, predictor=None,\n",
       "                                       random_state=10, reg_alpha=None,\n",
       "                                       reg_lambda=None, scale_pos_weight=None,\n",
       "                                       subsample=None, tree_method=None,\n",
       "                                       validate_parameters=None,\n",
       "                                       verbosity=None))"
      ]
     },
     "execution_count": 16,
     "metadata": {},
     "output_type": "execute_result"
    }
   ],
   "source": [
    "# use SelectFromModel to find/select top features only\n",
    "from sklearn.feature_selection import SelectFromModel\n",
    "find_features = SelectFromModel(xgb.XGBRegressor(n_estimators=128, random_state=10))\n",
    "find_features.fit(X_train, y_train)"
   ]
  },
  {
   "cell_type": "code",
   "execution_count": 17,
   "metadata": {},
   "outputs": [
    {
     "data": {
      "text/plain": [
       "35"
      ]
     },
     "execution_count": 17,
     "metadata": {},
     "output_type": "execute_result"
    }
   ],
   "source": [
    "# view how many features were selected, number of features were the coef is greater than the mean coef\n",
    "selected_features = X_train.columns[(find_features.get_support())]\n",
    "len(selected_features)"
   ]
  },
  {
   "cell_type": "code",
   "execution_count": 18,
   "metadata": {},
   "outputs": [
    {
     "name": "stdout",
     "output_type": "stream",
     "text": [
      "total features: 127\n",
      "selected features: 35\n",
      "features with coef greater than the mean coef: 35\n"
     ]
    }
   ],
   "source": [
    "# \n",
    "# and now, let's compare the  amount of selected features with the amount of features which importance is above the\n",
    "# mean importance, to make sure we understand the output of\n",
    "# sklearn\n",
    "\n",
    "print('total features: {}'.format((X_train.shape[1])))\n",
    "\n",
    "print('selected features: {}'.format(len(selected_features)))\n",
    "\n",
    "print(\n",
    "    'features with coef greater than the mean coef: {}'.format(\n",
    "        np.sum(find_features.estimator_.feature_importances_ >\n",
    "               find_features.estimator_.feature_importances_.mean())))"
   ]
  },
  {
   "cell_type": "code",
   "execution_count": 11,
   "metadata": {},
   "outputs": [],
   "source": [
    "# make the performance fuction again this time using selecet_test\n",
    "def performance_selection(model, select_test, y_test):\n",
    "    \n",
    "    # get prediction on X_train\n",
    "    train_pred = model.predict(select_train)\n",
    "    # get prediction on X_test\n",
    "    # reshape to work with tree models\n",
    "    train_pred = train_pred.reshape(-1,1)\n",
    "    # inverse transform StandardScaler\n",
    "    train_pred_inv_SS = scaler_y.inverse_transform(train_pred)\n",
    "    # inverse transform BoxCox, lambda is from preprocessing notebook\n",
    "    train_pred_inv_BC = (inv_boxcox(train_pred_inv_SS,-0.0207010))\n",
    "    \n",
    "    # get prediction on X_test\n",
    "    test_pred = model.predict(select_test)\n",
    "    # reshape to work with tree models\n",
    "    test_pred = test_pred.reshape(-1,1)\n",
    "    # inverse transform StandardScaler\n",
    "    test_pred_inv_SS = scaler_y.inverse_transform(test_pred)\n",
    "    # inverse transform BoxCox\n",
    "    test_pred_inv_BC = (inv_boxcox(test_pred_inv_SS,-0.0207010))\n",
    "    \n",
    "    print(f'Test Mean Absolute Error : {round(mean_absolute_error(y_test,test_pred_inv_BC),2)}')\n",
    "    print(f'Test Mean Squared Error: {round(mean_squared_error(y_test,test_pred_inv_BC),2)}')\n",
    "    print(f'Test Root Mean Square Error :$ {round(np.sqrt(mean_squared_error(y_test,test_pred_inv_BC)),2)}')\n",
    "    print(f'Train Root Mean Square Error :$ {round(np.sqrt(mean_squared_error(y_train,train_pred_inv_BC)),2)}')"
   ]
  },
  {
   "cell_type": "code",
   "execution_count": 30,
   "metadata": {},
   "outputs": [],
   "source": [
    "# create X df for selected features\n",
    "select_train = X_train[selected_features]\n",
    "select_test = X_test[selected_features]"
   ]
  },
  {
   "cell_type": "code",
   "execution_count": 34,
   "metadata": {},
   "outputs": [
    {
     "name": "stdout",
     "output_type": "stream",
     "text": [
      "Test Mean Absolute Error : 232.71\n",
      "Test Mean Squared Error: 111053.64\n",
      "Test Root Mean Square Error :$ 333.25\n",
      "Train Root Mean Square Error :$ 4.79\n"
     ]
    }
   ],
   "source": [
    "# view performance\n",
    "performance_selection(xgbr, sel_test, y_test)"
   ]
  },
  {
   "cell_type": "markdown",
   "metadata": {},
   "source": [
    "Using feature importance for XGB model did not help model performance. Next, lets try feature selection with the linear regression model"
   ]
  },
  {
   "cell_type": "code",
   "execution_count": 35,
   "metadata": {},
   "outputs": [
    {
     "data": {
      "text/plain": [
       "SelectFromModel(estimator=LinearRegression())"
      ]
     },
     "execution_count": 35,
     "metadata": {},
     "output_type": "execute_result"
    }
   ],
   "source": [
    "# try feature selection on linear regression model\n",
    "sel_linear = SelectFromModel(LinearRegression())\n",
    "\n",
    "sel_linear.fit(X_train, y_train)"
   ]
  },
  {
   "cell_type": "code",
   "execution_count": 36,
   "metadata": {},
   "outputs": [
    {
     "data": {
      "text/plain": [
       "43"
      ]
     },
     "execution_count": 36,
     "metadata": {},
     "output_type": "execute_result"
    }
   ],
   "source": [
    "# let's count the number of variables selected\n",
    "selected_feat_linear = X_train.columns[(sel_linear.get_support())]\n",
    "\n",
    "len(selected_feat_linear)"
   ]
  },
  {
   "cell_type": "code",
   "execution_count": 37,
   "metadata": {},
   "outputs": [
    {
     "name": "stdout",
     "output_type": "stream",
     "text": [
      "total features: 127\n",
      "selected features: 43\n",
      "features with coefficients greater than the mean coefficient: 43\n"
     ]
    }
   ],
   "source": [
    "print('total features: {}'.format((X_train.shape[1])))\n",
    "\n",
    "print('selected features: {}'.format(len(selected_feat_linear)))\n",
    "\n",
    "print(\n",
    "    'features with coefficients greater than the mean coefficient: {}'.format(\n",
    "        np.sum(\n",
    "            np.abs(sel_linear.estimator_.coef_) > np.abs(\n",
    "                sel_linear.estimator_.coef_).mean())))"
   ]
  },
  {
   "cell_type": "code",
   "execution_count": 40,
   "metadata": {},
   "outputs": [],
   "source": [
    "# create X train and test for just selected features\n",
    "select_train = X_train[selected_feat_linear]\n",
    "select_test = X_test[selected_feat_linear]"
   ]
  },
  {
   "cell_type": "code",
   "execution_count": 41,
   "metadata": {},
   "outputs": [
    {
     "name": "stdout",
     "output_type": "stream",
     "text": [
      "<class 'pandas.core.frame.DataFrame'>\n",
      "RangeIndex: 3793 entries, 0 to 3792\n",
      "Data columns (total 43 columns):\n",
      " #   Column                                          Non-Null Count  Dtype  \n",
      "---  ------                                          --------------  -----  \n",
      " 0   bathrooms                                       3793 non-null   float64\n",
      " 1   bedrooms                                        3793 non-null   float64\n",
      " 2   beds                                            3793 non-null   float64\n",
      " 3   availability_30                                 3793 non-null   float64\n",
      " 4   neighbourhood_Bayou St. John                    3793 non-null   float64\n",
      " 5   neighbourhood_Bywater                           3793 non-null   float64\n",
      " 6   neighbourhood_Leonidas                          3793 non-null   float64\n",
      " 7   neighbourhood_Central Business District         3793 non-null   float64\n",
      " 8   neighbourhood_Irish Channel                     3793 non-null   float64\n",
      " 9   neighbourhood_French Quarter                    3793 non-null   float64\n",
      " 10  neighbourhood_Lower Garden District             3793 non-null   float64\n",
      " 11  neighbourhood_Mid-City                          3793 non-null   float64\n",
      " 12  neighbourhood_St. Roch                          3793 non-null   float64\n",
      " 13  neighbourhood_Treme - Lafitte                   3793 non-null   float64\n",
      " 14  neighbourhood_Central City                      3793 non-null   float64\n",
      " 15  neighbourhood_Fairgrounds                       3793 non-null   float64\n",
      " 16  neighbourhood_Seventh Ward                      3793 non-null   float64\n",
      " 17  neighbourhood_City Park                         3793 non-null   float64\n",
      " 18  neighbourhood_Milan                             3793 non-null   float64\n",
      " 19  neighbourhood_Marigny                           3793 non-null   float64\n",
      " 20  neighbourhood_West Riverside                    3793 non-null   float64\n",
      " 21  neighbourhood_St. Thomas Dev                    3793 non-null   float64\n",
      " 22  neighbourhood_East Riverside                    3793 non-null   float64\n",
      " 23  neighbourhood_Uptown                            3793 non-null   float64\n",
      " 24  neighbourhood_St. Claude                        3793 non-null   float64\n",
      " 25  neighbourhood_Audubon                           3793 non-null   float64\n",
      " 26  neighbourhood_Tulane - Gravier                  3793 non-null   float64\n",
      " 27  neighbourhood_Marlyville - Fontainbleau         3793 non-null   float64\n",
      " 28  neighbourhood_Broadmoor                         3793 non-null   float64\n",
      " 29  neighbourhood_Garden District                   3793 non-null   float64\n",
      " 30  property_type_Entire rental unit                3793 non-null   float64\n",
      " 31  property_type_Entire residential home           3793 non-null   float64\n",
      " 32  property_type_Private room in residential home  3793 non-null   float64\n",
      " 33  property_type_Entire guest suite                3793 non-null   float64\n",
      " 34  property_type_Entire townhouse                  3793 non-null   float64\n",
      " 35  property_type_Room in boutique hotel            3793 non-null   float64\n",
      " 36  property_type_Entire condominium (condo)        3793 non-null   float64\n",
      " 37  property_type_Room in hotel                     3793 non-null   float64\n",
      " 38  property_type_Entire cottage                    3793 non-null   float64\n",
      " 39  property_type_Entire guesthouse                 3793 non-null   float64\n",
      " 40  property_type_Entire serviced apartment         3793 non-null   float64\n",
      " 41  property_type_Entire loft                       3793 non-null   float64\n",
      " 42  room_type_Private room                          3793 non-null   float64\n",
      "dtypes: float64(43)\n",
      "memory usage: 1.2 MB\n"
     ]
    }
   ],
   "source": [
    "# take a look the features that were selected\n",
    "select_train.info()"
   ]
  },
  {
   "cell_type": "markdown",
   "metadata": {},
   "source": [
    "We see here that top important features are all categorical, this is a good indicator to why feature selection is hurting the models so bad. It is important to have some continious features in a predictive model. "
   ]
  },
  {
   "cell_type": "code",
   "execution_count": 42,
   "metadata": {},
   "outputs": [
    {
     "name": "stdout",
     "output_type": "stream",
     "text": [
      "Test Mean Absolute Error : 233.41\n",
      "Test Mean Squared Error: 111808.9\n",
      "Test Root Mean Square Error :$ 334.38\n",
      "Train Root Mean Square Error :$ 1.99\n"
     ]
    }
   ],
   "source": [
    "# fit selected features to linear regression model\n",
    "linear_sel = LinearRegression()\n",
    "linear_sel.fit(select_train, y_train)\n",
    "\n",
    "# view performance of model\n",
    "performance_selection(linear_sel, select_test, y_test)"
   ]
  },
  {
   "cell_type": "markdown",
   "metadata": {},
   "source": [
    "We do not see an improvement in model performance "
   ]
  },
  {
   "cell_type": "code",
   "execution_count": 43,
   "metadata": {},
   "outputs": [
    {
     "data": {
      "text/plain": [
       "SelectFromModel(estimator=Lasso(alpha=1, random_state=10))"
      ]
     },
     "execution_count": 43,
     "metadata": {},
     "output_type": "execute_result"
    }
   ],
   "source": [
    "# set up Lasso for linear regression\n",
    "from sklearn.feature_selection import SelectFromModel\n",
    "from sklearn.linear_model import Lasso\n",
    "lasso = SelectFromModel(Lasso(alpha=1, random_state=10))\n",
    "lasso.fit(X_train, y_train)"
   ]
  },
  {
   "cell_type": "code",
   "execution_count": 44,
   "metadata": {},
   "outputs": [
    {
     "name": "stdout",
     "output_type": "stream",
     "text": [
      "total features: 127\n",
      "selected features: 0\n",
      "features with coefficients shrank to zero: 127\n"
     ]
    }
   ],
   "source": [
    "# make a list with the selected features and print the outputs\n",
    "selected_feat = X_train.columns[(lasso.get_support())]\n",
    "\n",
    "print('total features: {}'.format((X_train.shape[1])))\n",
    "print('selected features: {}'.format(len(selected_feat)))\n",
    "print('features with coefficients shrank to zero: {}'.format(\n",
    "    np.sum(lasso.estimator_.coef_ == 0)))"
   ]
  },
  {
   "cell_type": "markdown",
   "metadata": {},
   "source": [
    "Lasso shows to be not helpful as all coefficients were shrank to zero but one variable. "
   ]
  },
  {
   "cell_type": "markdown",
   "metadata": {},
   "source": [
    "## Using filter method ANOVA "
   ]
  },
  {
   "cell_type": "code",
   "execution_count": 45,
   "metadata": {},
   "outputs": [
    {
     "data": {
      "text/plain": [
       "<AxesSubplot:>"
      ]
     },
     "execution_count": 45,
     "metadata": {},
     "output_type": "execute_result"
    },
    {
     "data": {
      "image/png": "[encoded data removed]",
      "text/plain": [
       "<Figure size 1440x432 with 1 Axes>"
      ]
     },
     "metadata": {
      "needs_background": "light"
     },
     "output_type": "display_data"
    }
   ],
   "source": [
    "# Run ANOVA test to get a understanding of possible dependency \n",
    "anova = f_regression(X_train, y_train)\n",
    "\n",
    "# plot values\n",
    "anova = pd.Series(anova[1])\n",
    "anova.index = X_train.columns\n",
    "anova.sort_values(ascending=False).plot.bar(figsize=(20,6))"
   ]
  },
  {
   "cell_type": "code",
   "execution_count": 47,
   "metadata": {},
   "outputs": [],
   "source": [
    "# select the top 20% of features based on dependancy\n",
    "from sklearn.feature_selection import SelectKBest, SelectPercentile\n",
    "percentile = SelectPercentile(f_regression,\n",
    "                        percentile=20).fit(X_train, y_train)\n",
    "\n",
    "# display selected feature names\n",
    "precent20_cols = X_train.columns[percentile.get_support()]"
   ]
  },
  {
   "cell_type": "code",
   "execution_count": 48,
   "metadata": {},
   "outputs": [
    {
     "data": {
      "text/plain": [
       "Index(['bathrooms', 'bedrooms', 'beds', 'minimum_nights', 'availability_30',\n",
       "       'availability_365', 'number_of_reviews', 'review_scores_rating',\n",
       "       'review_scores_location', 'neighbourhood_Leonidas',\n",
       "       'neighbourhood_Central Business District',\n",
       "       'neighbourhood_French Quarter', 'neighbourhood_St. Claude',\n",
       "       'property_type_Entire rental unit',\n",
       "       'property_type_Entire residential home',\n",
       "       'property_type_Private room in guest suite',\n",
       "       'property_type_Private room in residential home',\n",
       "       'property_type_Shared room in residential home',\n",
       "       'property_type_Entire guest suite', 'property_type_Entire townhouse',\n",
       "       'property_type_Entire condominium (condo)',\n",
       "       'property_type_Private room in rental unit',\n",
       "       'property_type_Entire serviced apartment', 'room_type_Private room',\n",
       "       'room_type_Shared room', 'instant_bookable_t'],\n",
       "      dtype='object')"
      ]
     },
     "execution_count": 48,
     "metadata": {},
     "output_type": "execute_result"
    }
   ],
   "source": [
    "# once again we see that many of these featuers are categorical\n",
    "precent20_cols "
   ]
  },
  {
   "cell_type": "code",
   "execution_count": null,
   "metadata": {},
   "outputs": [],
   "source": [
    "#0.10417087"
   ]
  },
  {
   "cell_type": "code",
   "execution_count": 51,
   "metadata": {},
   "outputs": [],
   "source": [
    "# create X train and test for just selected features\n",
    "select_train = X_train.drop(precent20_cols, axis=1)\n",
    "select_test = X_test.drop(precent20_cols, axis=1)"
   ]
  },
  {
   "cell_type": "code",
   "execution_count": 56,
   "metadata": {},
   "outputs": [
    {
     "name": "stdout",
     "output_type": "stream",
     "text": [
      "Test Mean Absolute Error : 234.22\n",
      "Test Mean Squared Error: 113180.07\n",
      "Test Root Mean Square Error :$ 336.42\n",
      "Train Root Mean Square Error :$ 1.43\n"
     ]
    }
   ],
   "source": [
    "# fit the selected features of linear regression\n",
    "precent20 = LinearRegression()\n",
    "precent20.fit(select_train, y_train)\n",
    "\n",
    "performance_selection(precent20, select_test, y_test)"
   ]
  },
  {
   "cell_type": "markdown",
   "metadata": {},
   "source": [
    "Feature selection methods have only hurt our model so far."
   ]
  },
  {
   "cell_type": "markdown",
   "metadata": {},
   "source": [
    "## Exploring other options\n",
    "- Could be how we elimnated outliers was not the best way.\n",
    "- Could be that adding another continous variable would help a lot like add how far from the airport or tourist attractions"
   ]
  },
  {
   "cell_type": "code",
   "execution_count": 58,
   "metadata": {},
   "outputs": [],
   "source": [
    "# set up pca\n",
    "pca_model = PCA(n_components=115)\n",
    "\n",
    "# fit on X_train\n",
    "pca_model.fit(X_train)"
   ]
  },
  {
   "cell_type": "code",
   "execution_count": 60,
   "metadata": {},
   "outputs": [
    {
     "data": {
      "text/plain": [
       "0.9778788004122567"
      ]
     },
     "execution_count": 60,
     "metadata": {},
     "output_type": "execute_result"
    }
   ],
   "source": [
    "# \n",
    "np.sum(pca_model.explained_variance_ratio_)"
   ]
  },
  {
   "cell_type": "code",
   "execution_count": 63,
   "metadata": {},
   "outputs": [],
   "source": [
    "# get explained variance for X_train\n",
    "explained_variance = []\n",
    "\n",
    "for n in range(1,115):\n",
    "    \n",
    "    pca= PCA(n_components=n)\n",
    "    pca.fit(X_train)\n",
    "    \n",
    "    explained_variance.append(np.sum(pca.explained_variance_ratio_))"
   ]
  },
  {
   "cell_type": "code",
   "execution_count": 64,
   "metadata": {},
   "outputs": [
    {
     "data": {
      "text/plain": [
       "Text(0, 0.5, 'Variance Explained')"
      ]
     },
     "execution_count": 64,
     "metadata": {},
     "output_type": "execute_result"
    },
    {
     "data": {
      "image/png": "[encoded data removed]",
      "text/plain": [
       "<Figure size 432x288 with 1 Axes>"
      ]
     },
     "metadata": {
      "needs_background": "light"
     },
     "output_type": "display_data"
    }
   ],
   "source": [
    "# view the explained variance for the different number of features\n",
    "plt.plot(range(1,115), explained_variance)\n",
    "plt.xlabel('Num of Componets')\n",
    "plt.ylabel('Variance Explained')"
   ]
  },
  {
   "cell_type": "code",
   "execution_count": 71,
   "metadata": {},
   "outputs": [],
   "source": [
    "# pick number of features to use for model based of of plot\n",
    "pca_model_95 = PCA(n_components=95)"
   ]
  },
  {
   "cell_type": "code",
   "execution_count": 72,
   "metadata": {},
   "outputs": [],
   "source": [
    "# create X train and test for just selected features\n",
    "select_train = pca_model_95.fit_transform(X_train)\n",
    "select_test = pca_model_95.transform(X_test)"
   ]
  },
  {
   "cell_type": "code",
   "execution_count": 74,
   "metadata": {},
   "outputs": [
    {
     "data": {
      "text/plain": [
       "LinearRegression()"
      ]
     },
     "execution_count": 74,
     "metadata": {},
     "output_type": "execute_result"
    }
   ],
   "source": [
    "# fit on linear regression model\n",
    "lr_base.fit(select_train, y_train)"
   ]
  },
  {
   "cell_type": "code",
   "execution_count": 76,
   "metadata": {},
   "outputs": [
    {
     "name": "stdout",
     "output_type": "stream",
     "text": [
      "Test Mean Absolute Error : 233.6\n",
      "Test Mean Squared Error: 112195.27\n",
      "Test Root Mean Square Error :$ 334.96\n",
      "Train Root Mean Square Error :$ 1.82\n"
     ]
    }
   ],
   "source": [
    "# view performance\n",
    "performance_selection(lr_base, select_test, y_test)"
   ]
  },
  {
   "cell_type": "markdown",
   "metadata": {},
   "source": [
    "### Removing neighboorhood data\n",
    "\n",
    "Over half the columns is neighboorhoods we can see if there is any change if we dont take neighbourhood into account"
   ]
  },
  {
   "cell_type": "code",
   "execution_count": 12,
   "metadata": {},
   "outputs": [],
   "source": [
    "# remove all neighboorhood columns for both test and train sets\n",
    "select_train = X_train[X_train.columns.drop(list(X_train.filter(regex='neighbourhood')))]\n",
    "select_test = X_test[X_test.columns.drop(list(X_test.filter(regex='neighbourhood')))]"
   ]
  },
  {
   "cell_type": "code",
   "execution_count": 13,
   "metadata": {},
   "outputs": [
    {
     "name": "stdout",
     "output_type": "stream",
     "text": [
      "Test Mean Absolute Error : 233.43\n",
      "Test Mean Squared Error: 111835.18\n",
      "Test Root Mean Square Error :$ 334.42\n",
      "Train Root Mean Square Error :$ 2.16\n"
     ]
    }
   ],
   "source": [
    "# fit model\n",
    "lr_base.fit(select_train, y_train)\n",
    "\n",
    "# view performance \n",
    "performance_selection(lr_base, select_test, y_test)"
   ]
  },
  {
   "cell_type": "code",
   "execution_count": 14,
   "metadata": {},
   "outputs": [
    {
     "name": "stdout",
     "output_type": "stream",
     "text": [
      "<class 'pandas.core.frame.DataFrame'>\n",
      "RangeIndex: 3793 entries, 0 to 3792\n",
      "Data columns (total 61 columns):\n",
      " #   Column                                             Non-Null Count  Dtype  \n",
      "---  ------                                             --------------  -----  \n",
      " 0   host_is_superhost                                  3793 non-null   float64\n",
      " 1   bathrooms                                          3793 non-null   float64\n",
      " 2   bedrooms                                           3793 non-null   float64\n",
      " 3   beds                                               3793 non-null   float64\n",
      " 4   minimum_nights                                     3793 non-null   float64\n",
      " 5   maximum_nights                                     3793 non-null   float64\n",
      " 6   availability_30                                    3793 non-null   float64\n",
      " 7   availability_365                                   3793 non-null   float64\n",
      " 8   number_of_reviews                                  3793 non-null   float64\n",
      " 9   review_scores_rating                               3793 non-null   float64\n",
      " 10  review_scores_cleanliness                          3793 non-null   float64\n",
      " 11  review_scores_checkin                              3793 non-null   float64\n",
      " 12  review_scores_communication                        3793 non-null   float64\n",
      " 13  review_scores_location                             3793 non-null   float64\n",
      " 14  property_type_Entire rental unit                   3793 non-null   float64\n",
      " 15  property_type_Entire residential home              3793 non-null   float64\n",
      " 16  property_type_Private room in guest suite          3793 non-null   float64\n",
      " 17  property_type_Private room in residential home     3793 non-null   float64\n",
      " 18  property_type_Shared room in residential home      3793 non-null   float64\n",
      " 19  property_type_Entire guest suite                   3793 non-null   float64\n",
      " 20  property_type_Entire townhouse                     3793 non-null   float64\n",
      " 21  property_type_Room in boutique hotel               3793 non-null   float64\n",
      " 22  property_type_Entire condominium (condo)           3793 non-null   float64\n",
      " 23  property_type_Private room in rental unit          3793 non-null   float64\n",
      " 24  property_type_Room in hotel                        3793 non-null   float64\n",
      " 25  property_type_Entire cottage                       3793 non-null   float64\n",
      " 26  property_type_Entire guesthouse                    3793 non-null   float64\n",
      " 27  property_type_Private room in bungalow             3793 non-null   float64\n",
      " 28  property_type_Entire bungalow                      3793 non-null   float64\n",
      " 29  property_type_Entire serviced apartment            3793 non-null   float64\n",
      " 30  property_type_Private room in bed and breakfast    3793 non-null   float64\n",
      " 31  property_type_Entire loft                          3793 non-null   float64\n",
      " 32  property_type_Private room in condominium (condo)  3793 non-null   float64\n",
      " 33  property_type_Room in bed and breakfast            3793 non-null   float64\n",
      " 34  property_type_Entire place                         3793 non-null   float64\n",
      " 35  property_type_Entire villa                         3793 non-null   float64\n",
      " 36  property_type_Boat                                 3793 non-null   float64\n",
      " 37  property_type_Private room in hostel               3793 non-null   float64\n",
      " 38  property_type_Shared room in hostel                3793 non-null   float64\n",
      " 39  property_type_Shared room in guesthouse            3793 non-null   float64\n",
      " 40  property_type_Private room in guesthouse           3793 non-null   float64\n",
      " 41  property_type_Entire resort                        3793 non-null   float64\n",
      " 42  property_type_Private room in cottage              3793 non-null   float64\n",
      " 43  property_type_Private room in resort               3793 non-null   float64\n",
      " 44  property_type_Private room in townhouse            3793 non-null   float64\n",
      " 45  property_type_Private room in farm stay            3793 non-null   float64\n",
      " 46  property_type_Shared room in rental unit           3793 non-null   float64\n",
      " 47  property_type_Tiny house                           3793 non-null   float64\n",
      " 48  property_type_Private room in earth house          3793 non-null   float64\n",
      " 49  property_type_Room in aparthotel                   3793 non-null   float64\n",
      " 50  property_type_Shared room in cottage               3793 non-null   float64\n",
      " 51  property_type_Shared room in tiny house            3793 non-null   float64\n",
      " 52  property_type_Barn                                 3793 non-null   float64\n",
      " 53  property_type_Room in serviced apartment           3793 non-null   float64\n",
      " 54  property_type_Farm stay                            3793 non-null   float64\n",
      " 55  property_type_Room in resort                       3793 non-null   float64\n",
      " 56  property_type_Entire home/apt                      3793 non-null   float64\n",
      " 57  property_type_Shared room in condominium (condo)   3793 non-null   float64\n",
      " 58  room_type_Private room                             3793 non-null   float64\n",
      " 59  room_type_Shared room                              3793 non-null   float64\n",
      " 60  instant_bookable_t                                 3793 non-null   float64\n",
      "dtypes: float64(61)\n",
      "memory usage: 1.8 MB\n"
     ]
    }
   ],
   "source": [
    "select_train.info()"
   ]
  },
  {
   "cell_type": "code",
   "execution_count": 15,
   "metadata": {},
   "outputs": [],
   "source": [
    "# remove all neighboorhood columns for both test and train sets\n",
    "select_train = select_train[select_train.columns.drop(list(select_train.filter(regex='property_type')))]\n",
    "select_test = select_test[select_test.columns.drop(list(select_test.filter(regex='property_type')))]"
   ]
  },
  {
   "cell_type": "code",
   "execution_count": 16,
   "metadata": {},
   "outputs": [
    {
     "name": "stdout",
     "output_type": "stream",
     "text": [
      "<class 'pandas.core.frame.DataFrame'>\n",
      "RangeIndex: 3793 entries, 0 to 3792\n",
      "Data columns (total 17 columns):\n",
      " #   Column                       Non-Null Count  Dtype  \n",
      "---  ------                       --------------  -----  \n",
      " 0   host_is_superhost            3793 non-null   float64\n",
      " 1   bathrooms                    3793 non-null   float64\n",
      " 2   bedrooms                     3793 non-null   float64\n",
      " 3   beds                         3793 non-null   float64\n",
      " 4   minimum_nights               3793 non-null   float64\n",
      " 5   maximum_nights               3793 non-null   float64\n",
      " 6   availability_30              3793 non-null   float64\n",
      " 7   availability_365             3793 non-null   float64\n",
      " 8   number_of_reviews            3793 non-null   float64\n",
      " 9   review_scores_rating         3793 non-null   float64\n",
      " 10  review_scores_cleanliness    3793 non-null   float64\n",
      " 11  review_scores_checkin        3793 non-null   float64\n",
      " 12  review_scores_communication  3793 non-null   float64\n",
      " 13  review_scores_location       3793 non-null   float64\n",
      " 14  room_type_Private room       3793 non-null   float64\n",
      " 15  room_type_Shared room        3793 non-null   float64\n",
      " 16  instant_bookable_t           3793 non-null   float64\n",
      "dtypes: float64(17)\n",
      "memory usage: 503.9 KB\n"
     ]
    }
   ],
   "source": [
    "select_train.info()"
   ]
  },
  {
   "cell_type": "code",
   "execution_count": 17,
   "metadata": {},
   "outputs": [
    {
     "name": "stdout",
     "output_type": "stream",
     "text": [
      "Test Mean Absolute Error : 233.45\n",
      "Test Mean Squared Error: 111892.77\n",
      "Test Root Mean Square Error :$ 334.5\n",
      "Train Root Mean Square Error :$ 1.98\n"
     ]
    }
   ],
   "source": [
    "# fit model\n",
    "lr_base.fit(select_train, y_train)\n",
    "\n",
    "# view performance \n",
    "performance_selection(lr_base, select_test, y_test)"
   ]
  },
  {
   "cell_type": "code",
   "execution_count": 18,
   "metadata": {},
   "outputs": [],
   "source": [
    "select_train = select_train[select_train.columns.drop(list(select_train.filter(regex='availability_365')))]\n",
    "select_test = select_test[select_test.columns.drop(list(select_test.filter(regex='availability_365')))]"
   ]
  },
  {
   "cell_type": "code",
   "execution_count": 19,
   "metadata": {},
   "outputs": [
    {
     "name": "stdout",
     "output_type": "stream",
     "text": [
      "Test Mean Absolute Error : 233.45\n",
      "Test Mean Squared Error: 111883.78\n",
      "Test Root Mean Square Error :$ 334.49\n",
      "Train Root Mean Square Error :$ 1.98\n"
     ]
    }
   ],
   "source": [
    "# fit model\n",
    "lr_base.fit(select_train, y_train)\n",
    "\n",
    "# view performance \n",
    "performance_selection(lr_base, select_test, y_test)"
   ]
  },
  {
   "cell_type": "code",
   "execution_count": 20,
   "metadata": {},
   "outputs": [],
   "source": [
    "select_train = select_train[select_train.columns.drop(list(select_train.filter(regex='beds')))]\n",
    "select_test = select_test[select_test.columns.drop(list(select_test.filter(regex='beds')))]"
   ]
  },
  {
   "cell_type": "code",
   "execution_count": 21,
   "metadata": {},
   "outputs": [
    {
     "name": "stdout",
     "output_type": "stream",
     "text": [
      "Test Mean Absolute Error : 233.51\n",
      "Test Mean Squared Error: 111965.09\n",
      "Test Root Mean Square Error :$ 334.61\n",
      "Train Root Mean Square Error :$ 1.93\n"
     ]
    }
   ],
   "source": [
    "# fit model\n",
    "lr_base.fit(select_train, y_train)\n",
    "\n",
    "# view performance \n",
    "performance_selection(lr_base, select_test, y_test)"
   ]
  },
  {
   "cell_type": "code",
   "execution_count": 22,
   "metadata": {},
   "outputs": [
    {
     "name": "stdout",
     "output_type": "stream",
     "text": [
      "<class 'pandas.core.frame.DataFrame'>\n",
      "RangeIndex: 3793 entries, 0 to 3792\n",
      "Data columns (total 15 columns):\n",
      " #   Column                       Non-Null Count  Dtype  \n",
      "---  ------                       --------------  -----  \n",
      " 0   host_is_superhost            3793 non-null   float64\n",
      " 1   bathrooms                    3793 non-null   float64\n",
      " 2   bedrooms                     3793 non-null   float64\n",
      " 3   minimum_nights               3793 non-null   float64\n",
      " 4   maximum_nights               3793 non-null   float64\n",
      " 5   availability_30              3793 non-null   float64\n",
      " 6   number_of_reviews            3793 non-null   float64\n",
      " 7   review_scores_rating         3793 non-null   float64\n",
      " 8   review_scores_cleanliness    3793 non-null   float64\n",
      " 9   review_scores_checkin        3793 non-null   float64\n",
      " 10  review_scores_communication  3793 non-null   float64\n",
      " 11  review_scores_location       3793 non-null   float64\n",
      " 12  room_type_Private room       3793 non-null   float64\n",
      " 13  room_type_Shared room        3793 non-null   float64\n",
      " 14  instant_bookable_t           3793 non-null   float64\n",
      "dtypes: float64(15)\n",
      "memory usage: 444.6 KB\n"
     ]
    }
   ],
   "source": [
    "select_train.info()"
   ]
  },
  {
   "cell_type": "code",
   "execution_count": 23,
   "metadata": {},
   "outputs": [],
   "source": [
    "select_train = select_train[select_train.columns.drop(list(select_train.filter(regex='instant_bookable_t')))]\n",
    "select_test = select_test[select_test.columns.drop(list(select_test.filter(regex='instant_bookable_t')))]"
   ]
  },
  {
   "cell_type": "code",
   "execution_count": 24,
   "metadata": {},
   "outputs": [
    {
     "name": "stdout",
     "output_type": "stream",
     "text": [
      "Test Mean Absolute Error : 233.51\n",
      "Test Mean Squared Error: 111968.29\n",
      "Test Root Mean Square Error :$ 334.62\n",
      "Train Root Mean Square Error :$ 1.93\n"
     ]
    }
   ],
   "source": [
    "# fit model\n",
    "lr_base.fit(select_train, y_train)\n",
    "\n",
    "# view performance \n",
    "performance_selection(lr_base, select_test, y_test)"
   ]
  },
  {
   "cell_type": "markdown",
   "metadata": {},
   "source": [
    "## Results\n",
    "---\n",
    "### Understanding why this model isnt good at making predictions\n",
    "\n",
    "Relevant features: There could not be enough relevant data to build a preductive prediction model. We could try to add more relevant data such as adding more continious features. Some ideas could be distance to the airport, or distance to the top tourist destinations. More features can be added to this model using API to source this data from places such as Google Earth. \n",
    "\n",
    "Re-evalutating pre-processing steps: We know from pre-processing that most the continious features were skewed & far from normal. In hopes of making the data more normal I ilimnated outliers using IQR method removing the bottom and top 15% of outliers, this removed ### rows of data. As well, I used boxcox transformations to help with the skewness. Removing outliers is usally a last case sinero, but since this data was so skewed there was a possibility it could help. \n",
    "\n",
    "Noise: "
   ]
  },
  {
   "cell_type": "markdown",
   "metadata": {},
   "source": [
    "### What can we still learn from this analysis?\n",
    "\n",
    "Use eda to narrow down location. Consider what the visuals represent. \n",
    "Would you rather have a house in a nicer neightboor hood, this can ilivate nuisense such as petty crime, conserned guests, negatives higher start up costs most likely, these clients will most likely be looking for nicer admenities and furnishings. \n",
    "Would you rather have a house that \n"
   ]
  },
  {
   "cell_type": "markdown",
   "metadata": {},
   "source": [
    "## Conclusion\n",
    "---"
   ]
  },
  {
   "cell_type": "code",
   "execution_count": null,
   "metadata": {},
   "outputs": [],
   "source": []
  }
 ],
 "metadata": {
  "kernelspec": {
   "display_name": "predictive-env",
   "language": "python",
   "name": "nlp-env"
  },
  "language_info": {
   "codemirror_mode": {
    "name": "ipython",
    "version": 3
   },
   "file_extension": ".py",
   "mimetype": "text/x-python",
   "name": "python",
   "nbconvert_exporter": "python",
   "pygments_lexer": "ipython3",
   "version": "3.9.12"
  }
 },
 "nbformat": 4,
 "nbformat_minor": 5
}
