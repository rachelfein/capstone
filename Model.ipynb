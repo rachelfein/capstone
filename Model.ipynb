{
 "cells": [
  {
   "cell_type": "markdown",
   "metadata": {},
   "source": [
    "## Table of Contents\n",
    "\n",
    "1. [Overview](#1.-Overview-of-Modeling-Notebook)\n",
    "1. [Preprocessing](#1.-Preprocessing)\n",
    "2. [Modeling](#2.-Modeling)\n",
    "3. [Feature Selection](#3.-Feature-Selection)\n",
    "5. [Results](#5.-Results)\n",
    "6. [Conclusion](#6.-Conclusion)\n",
    "\n",
    "Click here to jump to [Exploratory Data Analysis](./Exploratory_Data_Analysis.ipynb)\n",
    "\n",
    "---"
   ]
  },
  {
   "cell_type": "markdown",
   "metadata": {},
   "source": [
    "## 1. Overview of Modeling Notebook\n",
    "\n",
    "This notebook continues from the [Exploratory Data Analysis](./Exploratory_Data_Analysis.ipynb), where data understand and data visualization took place.\n",
    "\n",
    "During data preprocessing, outliers were removed, categorical data was encoded, skewed columns were transformed, and the data was standardized. Outliers were removed using the IQR method. Categorical data was encoded using OneHotEncoder and OrdinalEncoder both from feature_engine. Skewed columns were transformed using the Box-Cox method in PowerTransformer from Sklearn. The data was standardized using StandardScaler from sklearn. \n",
    "\n",
    "A baseline model was created and future models were compared to the baseline model to determine if the model’s performance was being improved. The main performance metric used to evaluate the success of the model was the Root Mean Square Error. The Mean Absolute Error and Root Square Error were also taken into account when evaluating the model's performance. Multiple different types of models were run and GridsearchCV was used to attempt to improve the models. Feature selection was implemented on the two best performing models (Linear Regression and Random Forest). Feature selection methods implemented were ANOVA, Lasso, and using only features of top importance determined by the coefficients. "
   ]
  },
  {
   "cell_type": "markdown",
   "metadata": {},
   "source": [
    "## 2. Preprocessing\n",
    "\n",
    "### Data preprocessing & Continued Exploratory Analysis\n",
    "Further exploratory analysis will give us a better look at outliers, multicollinearity, normality, and homoscedasticity. Exploratory analysis is a good way to better understand what preprocessing steps need to be made as we prepare for modeling.\n",
    "\n",
    "Before we remove outliers or do any more preprocessing I will split the data into test and training sets to avoid data leakage."
   ]
  },
  {
   "cell_type": "code",
   "execution_count": 81,
   "metadata": {
    "scrolled": true
   },
   "outputs": [],
   "source": [
    "# import all packages needed for modeling\n",
    "import pandas as pd\n",
    "import numpy as np\n",
    "import seaborn as sns\n",
    "from feature_engine.encoding import OrdinalEncoder\n",
    "import matplotlib.pyplot as plt\n",
    "import matplotlib as mpl\n",
    "from scipy import stats\n",
    "from scipy.special import boxcox\n",
    "from scipy.special import inv_boxcox\n",
    "import scipy.stats as stats\n",
    "from sklearn.model_selection import train_test_split\n",
    "from sklearn.preprocessing import StandardScaler\n",
    "from sklearn.preprocessing import FunctionTransformer\n",
    "from sklearn.model_selection import GridSearchCV\n",
    "from sklearn.linear_model import LinearRegression\n",
    "from sklearn.metrics import mean_absolute_error\n",
    "from sklearn.metrics import mean_squared_error\n",
    "from sklearn.metrics import r2_score\n",
    "from sklearn.ensemble import RandomForestClassifier\n",
    "from sklearn.ensemble import RandomForestRegressor\n",
    "import statsmodels.api as sm\n",
    "from statsmodels.stats.outliers_influence import variance_inflation_factor\n",
    "import xgboost as xgb\n",
    "import warnings\n",
    "import pylab\n",
    "from patsy import dmatrices\n",
    "\n",
    "from sklearn.feature_selection import SelectKBest, SelectPercentile\n",
    "from sklearn.decomposition import PCA\n",
    "\n",
    "from sklearn.model_selection import train_test_split\n",
    "from feature_engine.encoding import OrdinalEncoder\n",
    "from feature_engine.encoding import OneHotEncoder as fe_OneHotEncoder\n",
    "from sklearn.preprocessing import FunctionTransformer, PowerTransformer\n",
    "from sklearn.feature_selection import VarianceThreshold\n",
    "from sklearn.feature_selection import SelectFromModel"
   ]
  },
  {
   "cell_type": "code",
   "execution_count": 82,
   "metadata": {},
   "outputs": [],
   "source": [
    "# Import df from EDA & Preprocessing Notebook\n",
    "regression = pd.read_csv('Data/regression.csv')"
   ]
  },
  {
   "cell_type": "code",
   "execution_count": 83,
   "metadata": {},
   "outputs": [],
   "source": [
    "# rename columns to make them easier to understand\n",
    "regression.rename(columns = {'bathrooms_text': 'bathrooms', 'neighbourhood_cleansed':'neighbourhood'}, inplace=True)"
   ]
  },
  {
   "cell_type": "code",
   "execution_count": 84,
   "metadata": {},
   "outputs": [
    {
     "data": {
      "text/plain": [
       "((4515, 24), (1506, 24))"
      ]
     },
     "execution_count": 84,
     "metadata": {},
     "output_type": "execute_result"
    }
   ],
   "source": [
    "# perform a test train split\n",
    "df_train, df_test = train_test_split(regression,random_state=42)\n",
    "df_train.shape,df_test.shape"
   ]
  },
  {
   "cell_type": "markdown",
   "metadata": {},
   "source": [
    "Before outliers are removed we should run through some basic filter methods to make sure that we do not have constant or duplicated features. Even though this dataset does not have a ton of different features, it still is good practice to check for constant features. These are features that show a high percentage of the same value & they should be removed because in essence they are the same."
   ]
  },
  {
   "cell_type": "code",
   "execution_count": 85,
   "metadata": {},
   "outputs": [
    {
     "data": {
      "text/plain": [
       "VarianceThreshold(threshold=0.01)"
      ]
     },
     "execution_count": 85,
     "metadata": {},
     "output_type": "execute_result"
    }
   ],
   "source": [
    "# check for quasi constant numerical variables\n",
    "num_cols = ['bedrooms', 'beds', 'accommodates','price',\n",
    "       'maximum_nights', 'minimum_nights','availability_30',\n",
    "       'availability_365', 'number_of_reviews',\n",
    "       'review_scores_rating','availability_90',\n",
    "       'review_scores_cleanliness', 'review_scores_checkin',\n",
    "       'review_scores_communication', 'review_scores_location',\n",
    "       'review_scores_value']\n",
    "\n",
    "thresh = VarianceThreshold(threshold=0.01)  \n",
    "\n",
    "thresh.fit(df_train[num_cols])"
   ]
  },
  {
   "cell_type": "code",
   "execution_count": 86,
   "metadata": {},
   "outputs": [
    {
     "data": {
      "text/plain": [
       "16"
      ]
     },
     "execution_count": 86,
     "metadata": {},
     "output_type": "execute_result"
    }
   ],
   "source": [
    "# double check that our variables are stored\n",
    "sum(thresh.get_support())"
   ]
  },
  {
   "cell_type": "code",
   "execution_count": 87,
   "metadata": {},
   "outputs": [
    {
     "data": {
      "text/plain": [
       "0"
      ]
     },
     "execution_count": 87,
     "metadata": {},
     "output_type": "execute_result"
    }
   ],
   "source": [
    "# let's print the number of quasi-constant features & we see that there are no numerical columns that are quasi_constant\n",
    "quasi_constant = df_train[num_cols].columns[~thresh.get_support()]\n",
    "\n",
    "len(quasi_constant)"
   ]
  },
  {
   "cell_type": "code",
   "execution_count": 88,
   "metadata": {},
   "outputs": [
    {
     "data": {
      "text/plain": [
       "0"
      ]
     },
     "execution_count": 88,
     "metadata": {},
     "output_type": "execute_result"
    }
   ],
   "source": [
    "# create an empty list\n",
    "cat_cols = ['host_is_superhost', 'neighbourhood', 'property_type', 'room_type','instant_bookable']\n",
    "train_cat = df_train[cat_cols]\n",
    "\n",
    "quasi_constant_var = []\n",
    "\n",
    "# iterate over every feature\n",
    "for var in train_cat.columns:\n",
    "\n",
    "    # find predominant value for each variable\n",
    "    predominant = train_cat[var].value_counts(\n",
    "        normalize=True).sort_values(ascending=False).values[0]\n",
    "\n",
    "    # 99% of values are the same\n",
    "    if predominant > 0.998:\n",
    "\n",
    "        # make list if yest\n",
    "        quasi_constant_feat.append(var)\n",
    "\n",
    "len(quasi_constant_var)"
   ]
  },
  {
   "cell_type": "markdown",
   "metadata": {},
   "source": [
    "#### Remove outliers\n",
    "Only remove outliers from the training set. Removing a lot of outliers is not ideal since we don't want to lose data. From data exploration we know that there are extreme outliers in many of the columns. With this dataset being smaller removing outliers will hopefully help our model's performance. "
   ]
  },
  {
   "cell_type": "code",
   "execution_count": 89,
   "metadata": {},
   "outputs": [],
   "source": [
    "# Make functions to easily view distribution\n",
    "def plot_distribution(df_train, col='price'):\n",
    "    # Plot displot + mean and mean\n",
    "    median = df_train[col].median()\n",
    "    mean = df_train[col].mean()\n",
    "    fig, ax = plt.subplots(figsize=(5,5))\n",
    "    sns.histplot(data=df_train[col], ax=ax)\n",
    "\n",
    "    ax.set_title(F\"Distribution of {col}\")\n",
    "    ax.axvline(median,label=f'median={median:,}',color='black')\n",
    "    ax.axvline(mean,label=f'mean={mean:,}',color='black',ls=':')\n",
    "    ax.legend()"
   ]
  },
  {
   "cell_type": "code",
   "execution_count": 90,
   "metadata": {},
   "outputs": [],
   "source": [
    "# Make a function to find outlier using IQR method\n",
    "# I want to keep as much data as possible so I am making my q1 small and my q3 large that the typical 4 even quantiles\n",
    "\n",
    "def find_outliers_IQR(df_train):\n",
    "    q1 = df_train.quantile(0.15)\n",
    "    q3 = df_train.quantile(0.85)\n",
    "    thresh = 1.5*(q3-q1)\n",
    "    idx_outliers =(df_train < (q1-thresh)) | (df_train > (q3+thresh))\n",
    "    return idx_outliers"
   ]
  },
  {
   "cell_type": "code",
   "execution_count": 91,
   "metadata": {},
   "outputs": [],
   "source": [
    "# function to create histogram, Q-Q plot and boxplot\n",
    "\n",
    "def diagnostic_plots(df_train, variable):\n",
    "    plt.figure(figsize=(16, 4))\n",
    "\n",
    "    # histogram\n",
    "    plt.subplot(1, 3, 1)\n",
    "    median = df_train[variable].median()\n",
    "    mean = df_train[variable].mean()\n",
    "    sns.histplot(df_train[variable], bins=40)\n",
    "    \n",
    "    plt.title(F\"Distribution of {variable}\")\n",
    "    plt.axvline(median,label=f'median={median:,}',color='black')\n",
    "    plt.axvline(mean,label=f'mean={mean:,}',color='black',ls=':')\n",
    "    plt.legend()\n",
    "\n",
    "    # Q-Q plot\n",
    "    plt.subplot(1, 3, 2)\n",
    "    stats.probplot(df_train[variable], dist=\"norm\", plot=plt)\n",
    "    plt.ylabel('Variable quantiles')\n",
    "\n",
    "    # boxplot\n",
    "    plt.subplot(1, 3, 3)\n",
    "    sns.boxplot(y=df_train[variable])\n",
    "    plt.title('Boxplot')\n",
    "\n",
    "    plt.show()"
   ]
  },
  {
   "cell_type": "code",
   "execution_count": 92,
   "metadata": {},
   "outputs": [
    {
     "data": {
      "text/plain": [
       "141"
      ]
     },
     "execution_count": 92,
     "metadata": {},
     "output_type": "execute_result"
    }
   ],
   "source": [
    "# print the number of rows that contain outliers in price\n",
    "price_outliers_IQR = find_outliers_IQR(df_train['price'])\n",
    "price_outliers_IQR.sum()"
   ]
  },
  {
   "cell_type": "code",
   "execution_count": 93,
   "metadata": {},
   "outputs": [
    {
     "data": {
      "image/png": "[encoded data removed]",
      "text/plain": [
       "<Figure size 1152x288 with 3 Axes>"
      ]
     },
     "metadata": {
      "needs_background": "light"
     },
     "output_type": "display_data"
    }
   ],
   "source": [
    "# Price is skewed and the outliers are impacting the normalcy\n",
    "diagnostic_plots(df_train, 'price')"
   ]
  },
  {
   "cell_type": "code",
   "execution_count": 94,
   "metadata": {},
   "outputs": [
    {
     "data": {
      "image/png": "[encoded data removed]",
      "text/plain": [
       "<Figure size 1152x288 with 3 Axes>"
      ]
     },
     "metadata": {
      "needs_background": "light"
     },
     "output_type": "display_data"
    }
   ],
   "source": [
    "# See how removing these outliers would change the distribution\n",
    "df_train = df_train[~price_outliers_IQR].copy()\n",
    "\n",
    "# Remove outliers for visualization df \n",
    "diagnostic_plots(df_train, 'price')"
   ]
  },
  {
   "cell_type": "code",
   "execution_count": 95,
   "metadata": {},
   "outputs": [
    {
     "data": {
      "text/html": [
       "<div>\n",
       "<style scoped>\n",
       "    .dataframe tbody tr th:only-of-type {\n",
       "        vertical-align: middle;\n",
       "    }\n",
       "\n",
       "    .dataframe tbody tr th {\n",
       "        vertical-align: top;\n",
       "    }\n",
       "\n",
       "    .dataframe thead th {\n",
       "        text-align: right;\n",
       "    }\n",
       "</style>\n",
       "<table border=\"1\" class=\"dataframe\">\n",
       "  <thead>\n",
       "    <tr style=\"text-align: right;\">\n",
       "      <th></th>\n",
       "      <th>host_is_superhost</th>\n",
       "      <th>neighbourhood</th>\n",
       "      <th>property_type</th>\n",
       "      <th>room_type</th>\n",
       "      <th>accommodates</th>\n",
       "      <th>bathrooms</th>\n",
       "      <th>bedrooms</th>\n",
       "      <th>beds</th>\n",
       "      <th>price</th>\n",
       "      <th>minimum_nights</th>\n",
       "      <th>...</th>\n",
       "      <th>availability_365</th>\n",
       "      <th>number_of_reviews</th>\n",
       "      <th>review_scores_rating</th>\n",
       "      <th>review_scores_accuracy</th>\n",
       "      <th>review_scores_cleanliness</th>\n",
       "      <th>review_scores_checkin</th>\n",
       "      <th>review_scores_communication</th>\n",
       "      <th>review_scores_location</th>\n",
       "      <th>review_scores_value</th>\n",
       "      <th>instant_bookable</th>\n",
       "    </tr>\n",
       "  </thead>\n",
       "  <tbody>\n",
       "    <tr>\n",
       "      <th>4228</th>\n",
       "      <td>t</td>\n",
       "      <td>Marigny</td>\n",
       "      <td>Room in boutique hotel</td>\n",
       "      <td>Hotel room</td>\n",
       "      <td>4</td>\n",
       "      <td>1 bath</td>\n",
       "      <td>1.0</td>\n",
       "      <td>1.0</td>\n",
       "      <td>0.0</td>\n",
       "      <td>1</td>\n",
       "      <td>...</td>\n",
       "      <td>0</td>\n",
       "      <td>15</td>\n",
       "      <td>5.0</td>\n",
       "      <td>5.0</td>\n",
       "      <td>4.87</td>\n",
       "      <td>4.87</td>\n",
       "      <td>5.0</td>\n",
       "      <td>4.87</td>\n",
       "      <td>4.93</td>\n",
       "      <td>f</td>\n",
       "    </tr>\n",
       "  </tbody>\n",
       "</table>\n",
       "<p>1 rows × 24 columns</p>\n",
       "</div>"
      ],
      "text/plain": [
       "     host_is_superhost neighbourhood           property_type   room_type  \\\n",
       "4228                 t       Marigny  Room in boutique hotel  Hotel room   \n",
       "\n",
       "      accommodates bathrooms  bedrooms  beds  price  minimum_nights  ...  \\\n",
       "4228             4    1 bath       1.0   1.0    0.0               1  ...   \n",
       "\n",
       "      availability_365  number_of_reviews  review_scores_rating  \\\n",
       "4228                 0                 15                   5.0   \n",
       "\n",
       "      review_scores_accuracy  review_scores_cleanliness  \\\n",
       "4228                     5.0                       4.87   \n",
       "\n",
       "      review_scores_checkin  review_scores_communication  \\\n",
       "4228                   4.87                          5.0   \n",
       "\n",
       "      review_scores_location  review_scores_value  instant_bookable  \n",
       "4228                    4.87                 4.93                 f  \n",
       "\n",
       "[1 rows x 24 columns]"
      ]
     },
     "execution_count": 95,
     "metadata": {},
     "output_type": "execute_result"
    }
   ],
   "source": [
    "# see if any listings have price set at $0\n",
    "df_train.loc[df_train['price'] == 0]"
   ]
  },
  {
   "cell_type": "code",
   "execution_count": 96,
   "metadata": {},
   "outputs": [],
   "source": [
    "# drop row with price as $0\n",
    "df_train.drop(4228, axis=0, inplace=True)"
   ]
  },
  {
   "cell_type": "code",
   "execution_count": 97,
   "metadata": {},
   "outputs": [
    {
     "data": {
      "text/html": [
       "<div>\n",
       "<style scoped>\n",
       "    .dataframe tbody tr th:only-of-type {\n",
       "        vertical-align: middle;\n",
       "    }\n",
       "\n",
       "    .dataframe tbody tr th {\n",
       "        vertical-align: top;\n",
       "    }\n",
       "\n",
       "    .dataframe thead th {\n",
       "        text-align: right;\n",
       "    }\n",
       "</style>\n",
       "<table border=\"1\" class=\"dataframe\">\n",
       "  <thead>\n",
       "    <tr style=\"text-align: right;\">\n",
       "      <th></th>\n",
       "      <th>host_is_superhost</th>\n",
       "      <th>neighbourhood</th>\n",
       "      <th>property_type</th>\n",
       "      <th>room_type</th>\n",
       "      <th>accommodates</th>\n",
       "      <th>bathrooms</th>\n",
       "      <th>bedrooms</th>\n",
       "      <th>beds</th>\n",
       "      <th>price</th>\n",
       "      <th>minimum_nights</th>\n",
       "      <th>...</th>\n",
       "      <th>availability_365</th>\n",
       "      <th>number_of_reviews</th>\n",
       "      <th>review_scores_rating</th>\n",
       "      <th>review_scores_accuracy</th>\n",
       "      <th>review_scores_cleanliness</th>\n",
       "      <th>review_scores_checkin</th>\n",
       "      <th>review_scores_communication</th>\n",
       "      <th>review_scores_location</th>\n",
       "      <th>review_scores_value</th>\n",
       "      <th>instant_bookable</th>\n",
       "    </tr>\n",
       "  </thead>\n",
       "  <tbody>\n",
       "    <tr>\n",
       "      <th>4280</th>\n",
       "      <td>f</td>\n",
       "      <td>Mid-City</td>\n",
       "      <td>Room in hotel</td>\n",
       "      <td>Hotel room</td>\n",
       "      <td>8</td>\n",
       "      <td>1 bath</td>\n",
       "      <td>1.0</td>\n",
       "      <td>1.0</td>\n",
       "      <td>0.0</td>\n",
       "      <td>1</td>\n",
       "      <td>...</td>\n",
       "      <td>0</td>\n",
       "      <td>0</td>\n",
       "      <td>4.86</td>\n",
       "      <td>4.91</td>\n",
       "      <td>4.88</td>\n",
       "      <td>4.96</td>\n",
       "      <td>4.95</td>\n",
       "      <td>4.87</td>\n",
       "      <td>4.83</td>\n",
       "      <td>f</td>\n",
       "    </tr>\n",
       "  </tbody>\n",
       "</table>\n",
       "<p>1 rows × 24 columns</p>\n",
       "</div>"
      ],
      "text/plain": [
       "     host_is_superhost neighbourhood  property_type   room_type  accommodates  \\\n",
       "4280                 f      Mid-City  Room in hotel  Hotel room             8   \n",
       "\n",
       "     bathrooms  bedrooms  beds  price  minimum_nights  ...  availability_365  \\\n",
       "4280    1 bath       1.0   1.0    0.0               1  ...                 0   \n",
       "\n",
       "      number_of_reviews  review_scores_rating  review_scores_accuracy  \\\n",
       "4280                  0                  4.86                    4.91   \n",
       "\n",
       "      review_scores_cleanliness  review_scores_checkin  \\\n",
       "4280                       4.88                   4.96   \n",
       "\n",
       "      review_scores_communication  review_scores_location  \\\n",
       "4280                         4.95                    4.87   \n",
       "\n",
       "      review_scores_value  instant_bookable  \n",
       "4280                 4.83                 f  \n",
       "\n",
       "[1 rows x 24 columns]"
      ]
     },
     "execution_count": 97,
     "metadata": {},
     "output_type": "execute_result"
    }
   ],
   "source": [
    "# see if any listings have price set at $0 in test set\n",
    "df_test.loc[df_test['price'] == 0]"
   ]
  },
  {
   "cell_type": "code",
   "execution_count": 98,
   "metadata": {},
   "outputs": [],
   "source": [
    "# drop row with price as $0 in test set\n",
    "df_test.drop(4280, axis=0, inplace=True)"
   ]
  },
  {
   "cell_type": "code",
   "execution_count": 99,
   "metadata": {},
   "outputs": [
    {
     "data": {
      "text/plain": [
       "18"
      ]
     },
     "execution_count": 99,
     "metadata": {},
     "output_type": "execute_result"
    }
   ],
   "source": [
    "# See about removing bedroom outliers\n",
    "bedrooms_outliers_IQR = find_outliers_IQR(df_train['bedrooms'])\n",
    "bedrooms_outliers_IQR.sum()"
   ]
  },
  {
   "cell_type": "code",
   "execution_count": 100,
   "metadata": {},
   "outputs": [
    {
     "data": {
      "image/png": "[encoded data removed]",
      "text/plain": [
       "<Figure size 360x360 with 1 Axes>"
      ]
     },
     "metadata": {
      "needs_background": "light"
     },
     "output_type": "display_data"
    }
   ],
   "source": [
    "# visualize how many bedroom categories will be left after removing outliers\n",
    "find_bedrooms = df_train[~bedrooms_outliers_IQR]\n",
    "plot_distribution(find_bedrooms, 'bedrooms')"
   ]
  },
  {
   "cell_type": "code",
   "execution_count": 101,
   "metadata": {},
   "outputs": [
    {
     "data": {
      "text/plain": [
       "56"
      ]
     },
     "execution_count": 101,
     "metadata": {},
     "output_type": "execute_result"
    }
   ],
   "source": [
    "# See about removing bedroom outliers\n",
    "beds_outliers_IQR = find_outliers_IQR(df_train['beds'])\n",
    "beds_outliers_IQR.sum()"
   ]
  },
  {
   "cell_type": "code",
   "execution_count": 102,
   "metadata": {},
   "outputs": [
    {
     "data": {
      "image/png": "[encoded data removed]",
      "text/plain": [
       "<Figure size 360x360 with 1 Axes>"
      ]
     },
     "metadata": {
      "needs_background": "light"
     },
     "output_type": "display_data"
    }
   ],
   "source": [
    "# visualize how many bedroom categories will be left after removing outliers\n",
    "find_beds = df_train[~beds_outliers_IQR]\n",
    "plot_distribution(find_beds, 'beds')"
   ]
  },
  {
   "cell_type": "code",
   "execution_count": 103,
   "metadata": {},
   "outputs": [],
   "source": [
    "# create function to view distribution of the different columns related to reviews\n",
    "review_cols = ['review_scores_rating', 'review_scores_accuracy',\n",
    "       'review_scores_cleanliness', 'review_scores_checkin',\n",
    "       'review_scores_communication', 'review_scores_location',\n",
    "       'review_scores_value', 'number_of_reviews']\n",
    "\n",
    "def diagnostic_reviews(df_train, review_cols):\n",
    "    \n",
    "    fig, axes = plt.subplots(nrows=4, ncols=2, figsize=(10,10), sharey=True)\n",
    "\n",
    "    for col, ax in zip(review_cols, axes.flatten()):\n",
    "        ax.hist(df_train[col], bins='auto')\n",
    "        ax.set_title(col)\n",
    "    \n",
    "        median = df_train[col].median()\n",
    "        mean = df_train[col].mean()\n",
    "    \n",
    "        ax.set_title(F\"Distribution of {col}\")\n",
    "        ax.axvline(median,label=f'median={median:,}',color='black')\n",
    "        ax.axvline(mean,label=f'mean={mean:,}',color='black',ls=':')\n",
    "        ax.legend()\n",
    " \n",
    "    fig.tight_layout()"
   ]
  },
  {
   "cell_type": "code",
   "execution_count": 104,
   "metadata": {},
   "outputs": [
    {
     "data": {
      "image/png": "[encoded data removed]",
      "text/plain": [
       "<Figure size 720x720 with 8 Axes>"
      ]
     },
     "metadata": {
      "needs_background": "light"
     },
     "output_type": "display_data"
    }
   ],
   "source": [
    "# viewing the distribution shows us that there are extreme outliers impacting the normality of this data\n",
    "diagnostic_reviews(df_train, review_cols)"
   ]
  },
  {
   "cell_type": "code",
   "execution_count": 105,
   "metadata": {},
   "outputs": [
    {
     "data": {
      "text/plain": [
       "113"
      ]
     },
     "execution_count": 105,
     "metadata": {},
     "output_type": "execute_result"
    }
   ],
   "source": [
    "# print the number of rows that contain outliers in review_scores_rating\n",
    "review_scores_rating_outliers_IQR = find_outliers_IQR(df_train['review_scores_rating'])\n",
    "review_scores_rating_outliers_IQR.sum()"
   ]
  },
  {
   "cell_type": "code",
   "execution_count": 106,
   "metadata": {},
   "outputs": [
    {
     "data": {
      "text/plain": [
       "72"
      ]
     },
     "execution_count": 106,
     "metadata": {},
     "output_type": "execute_result"
    }
   ],
   "source": [
    "# print the number of rows that contain outliers in review_scores_location\n",
    "review_scores_location_outliers_IQR = find_outliers_IQR(df_train['review_scores_location'])\n",
    "review_scores_location_outliers_IQR.sum()"
   ]
  },
  {
   "cell_type": "code",
   "execution_count": 107,
   "metadata": {},
   "outputs": [
    {
     "data": {
      "text/plain": [
       "145"
      ]
     },
     "execution_count": 107,
     "metadata": {},
     "output_type": "execute_result"
    }
   ],
   "source": [
    "# print the number of rows that contain outliers in review_scores_communication\n",
    "review_scores_communication_outliers_IQR = find_outliers_IQR(df_train['review_scores_communication'])\n",
    "review_scores_communication_outliers_IQR.sum()"
   ]
  },
  {
   "cell_type": "code",
   "execution_count": 108,
   "metadata": {},
   "outputs": [
    {
     "data": {
      "text/plain": [
       "191"
      ]
     },
     "execution_count": 108,
     "metadata": {},
     "output_type": "execute_result"
    }
   ],
   "source": [
    "# print the number of rows that contain outliers in review_scores_checkin\n",
    "review_scores_checkin_outliers_IQR = find_outliers_IQR(df_train['review_scores_checkin'])\n",
    "review_scores_checkin_outliers_IQR.sum()"
   ]
  },
  {
   "cell_type": "code",
   "execution_count": 109,
   "metadata": {},
   "outputs": [
    {
     "data": {
      "text/plain": [
       "99"
      ]
     },
     "execution_count": 109,
     "metadata": {},
     "output_type": "execute_result"
    }
   ],
   "source": [
    "# print the number of rows that contain outliers in review_scores_cleanliness\n",
    "review_scores_cleanliness_outliers_IQR = find_outliers_IQR(df_train['review_scores_cleanliness'])\n",
    "review_scores_cleanliness_outliers_IQR.sum()"
   ]
  },
  {
   "cell_type": "code",
   "execution_count": 110,
   "metadata": {},
   "outputs": [
    {
     "data": {
      "text/plain": [
       "130"
      ]
     },
     "execution_count": 110,
     "metadata": {},
     "output_type": "execute_result"
    }
   ],
   "source": [
    "# print the number of rows that contain outliers in review_scores_accuracy\n",
    "review_scores_accuracy_outliers_IQR = find_outliers_IQR(df_train['review_scores_accuracy'])\n",
    "review_scores_accuracy_outliers_IQR.sum()"
   ]
  },
  {
   "cell_type": "code",
   "execution_count": 111,
   "metadata": {},
   "outputs": [
    {
     "data": {
      "text/plain": [
       "122"
      ]
     },
     "execution_count": 111,
     "metadata": {},
     "output_type": "execute_result"
    }
   ],
   "source": [
    "# print the number of rows that contain outliers in review_scores_value\n",
    "review_scores_value_outliers_IQR = find_outliers_IQR(df_train['review_scores_value'])\n",
    "review_scores_value_outliers_IQR.sum()"
   ]
  },
  {
   "cell_type": "code",
   "execution_count": 112,
   "metadata": {},
   "outputs": [
    {
     "data": {
      "text/plain": [
       "29"
      ]
     },
     "execution_count": 112,
     "metadata": {},
     "output_type": "execute_result"
    }
   ],
   "source": [
    "# print the number of rows that contain outliers in minimum_nights\n",
    "min_night_outliers_IQR = find_outliers_IQR(df_train['minimum_nights'])\n",
    "min_night_outliers_IQR.sum()"
   ]
  },
  {
   "cell_type": "code",
   "execution_count": 113,
   "metadata": {},
   "outputs": [
    {
     "data": {
      "text/plain": [
       "1"
      ]
     },
     "execution_count": 113,
     "metadata": {},
     "output_type": "execute_result"
    }
   ],
   "source": [
    "# print the number of rows that contain outliers in maximum_nights\n",
    "max_night_outliers_IQR = find_outliers_IQR(df_train['maximum_nights'])\n",
    "max_night_outliers_IQR.sum()"
   ]
  },
  {
   "cell_type": "code",
   "execution_count": 114,
   "metadata": {},
   "outputs": [
    {
     "data": {
      "text/plain": [
       "92"
      ]
     },
     "execution_count": 114,
     "metadata": {},
     "output_type": "execute_result"
    }
   ],
   "source": [
    "# print the number of rows that contain outliers in number_of_reviews\n",
    "number_reviews_IQR = find_outliers_IQR(df_train['number_of_reviews'])\n",
    "number_reviews_IQR.sum()"
   ]
  },
  {
   "cell_type": "code",
   "execution_count": 115,
   "metadata": {},
   "outputs": [
    {
     "data": {
      "text/plain": [
       "1 bath             2805\n",
       "2 baths            1293\n",
       "3 baths             196\n",
       "4 baths              62\n",
       "5 or more baths      17\n",
       "Name: bathrooms, dtype: int64"
      ]
     },
     "execution_count": 115,
     "metadata": {},
     "output_type": "execute_result"
    }
   ],
   "source": [
    "# Again we want to remove as few rows as possible so for bathrooms we will make a 5 or more columns instead\n",
    "df_train.loc[df_train['bathrooms'].str.contains(\"1|0\"),'bathrooms'] = '1 bath'\n",
    "df_train.loc[df_train['bathrooms'].str.contains(\"2\"),'bathrooms'] = '2 baths'\n",
    "df_train.loc[df_train['bathrooms'].str.contains(\"3\"),'bathrooms'] = '3 baths'\n",
    "df_train.loc[df_train['bathrooms'].str.contains(\"4\"),'bathrooms'] = '4 baths'\n",
    "df_train.loc[df_train['bathrooms'].str.contains(\"5|6|7|8|9\"),'bathrooms'] = '5 or more baths'\n",
    "\n",
    "#same for test set\n",
    "df_test.loc[df_test['bathrooms'].str.contains(\"1|0\"),'bathrooms'] = '1 bath'\n",
    "df_test.loc[df_test['bathrooms'].str.contains(\"2\"),'bathrooms'] = '2 baths'\n",
    "df_test.loc[df_test['bathrooms'].str.contains(\"3\"),'bathrooms'] = '3 baths'\n",
    "df_test.loc[df_test['bathrooms'].str.contains(\"4\"),'bathrooms'] = '4 baths'\n",
    "df_test.loc[df_test['bathrooms'].str.contains(\"5|6|7|8|9\"),'bathrooms'] = '5 or more baths'\n",
    "\n",
    "df_train['bathrooms'].value_counts()"
   ]
  },
  {
   "cell_type": "code",
   "execution_count": 116,
   "metadata": {},
   "outputs": [],
   "source": [
    "# Remove outliers from the training dataset\n",
    "rating_outliers = (review_scores_rating_outliers_IQR | review_scores_value_outliers_IQR | \n",
    "                              review_scores_checkin_outliers_IQR | review_scores_communication_outliers_IQR |\n",
    "                              review_scores_location_outliers_IQR | review_scores_accuracy_outliers_IQR |\n",
    "                              review_scores_cleanliness_outliers_IQR | min_night_outliers_IQR | max_night_outliers_IQR|\n",
    "                              beds_outliers_IQR | bedrooms_outliers_IQR | number_reviews_IQR)\n",
    "\n",
    "df_train = df_train[~rating_outliers].copy()"
   ]
  },
  {
   "cell_type": "code",
   "execution_count": 117,
   "metadata": {},
   "outputs": [
    {
     "data": {
      "text/plain": [
       "(3793, 24)"
      ]
     },
     "execution_count": 117,
     "metadata": {},
     "output_type": "execute_result"
    }
   ],
   "source": [
    "# make df_clean \n",
    "df_train.shape"
   ]
  },
  {
   "cell_type": "markdown",
   "metadata": {},
   "source": [
    "df_train started with 4515 rows and ended with 3793 rows"
   ]
  },
  {
   "cell_type": "code",
   "execution_count": 118,
   "metadata": {},
   "outputs": [],
   "source": [
    "# look at the distribution of the numerical data as we prepare for encoding that categorical variables\n",
    "review_num = ['price', 'accommodates', 'maximum_nights', 'minimum_nights', 'availability_30',\n",
    "       'availability_60', 'availability_90', 'availability_365',\n",
    "       'number_of_reviews' ]\n",
    "\n",
    "def diagnostic_reviews_num(df_train, review_num):\n",
    "    \n",
    "    fig, axes = plt.subplots(nrows=4, ncols=2, figsize=(10,10), sharey=False)\n",
    "\n",
    "    for col, ax in zip(review_num, axes.flatten()):\n",
    "        ax.hist(df_train[col], bins='auto')\n",
    "        ax.set_title(col)\n",
    "    \n",
    "        median = df_train[col].median()\n",
    "        mean = df_train[col].mean()\n",
    "    \n",
    "        ax.set_title(F\"Distribution of {col}\")\n",
    "        ax.axvline(median,label=f'median={median:,}',color='black')\n",
    "        ax.axvline(mean,label=f'mean={mean:,}',color='black',ls=':')\n",
    "        ax.legend()\n",
    " \n",
    "    fig.tight_layout()"
   ]
  },
  {
   "cell_type": "code",
   "execution_count": 119,
   "metadata": {},
   "outputs": [
    {
     "data": {
      "image/png": "[encoded data removed]",
      "text/plain": [
       "<Figure size 720x720 with 8 Axes>"
      ]
     },
     "metadata": {
      "needs_background": "light"
     },
     "output_type": "display_data"
    }
   ],
   "source": [
    "diagnostic_reviews_num(df_train, review_num)"
   ]
  },
  {
   "cell_type": "code",
   "execution_count": 120,
   "metadata": {},
   "outputs": [
    {
     "data": {
      "text/plain": [
       "2     1385\n",
       "1      913\n",
       "30     736\n",
       "3      592\n",
       "4       61\n",
       "5       28\n",
       "7       23\n",
       "31      15\n",
       "6        8\n",
       "60       8\n",
       "28       7\n",
       "15       4\n",
       "14       3\n",
       "10       2\n",
       "32       2\n",
       "29       1\n",
       "70       1\n",
       "12       1\n",
       "18       1\n",
       "9        1\n",
       "59       1\n",
       "Name: minimum_nights, dtype: int64"
      ]
     },
     "execution_count": 120,
     "metadata": {},
     "output_type": "execute_result"
    }
   ],
   "source": [
    "# check to make sure minimum_nights shouldnt be considered a categorical feature\n",
    "df_train['minimum_nights'].value_counts()"
   ]
  },
  {
   "cell_type": "code",
   "execution_count": 121,
   "metadata": {},
   "outputs": [],
   "source": [
    "# beds and bedrooms need to be in object form to encode\n",
    "change_type = {'beds': object,\n",
    "                'bedrooms': object\n",
    "                }\n",
    "df_train = df_train.astype(change_type)\n",
    "df_test = df_test.astype(change_type)"
   ]
  },
  {
   "cell_type": "code",
   "execution_count": 122,
   "metadata": {},
   "outputs": [
    {
     "data": {
      "text/plain": [
       "OrdinalEncoder(encoding_method='arbitrary',\n",
       "               variables=['host_is_superhost', 'bathrooms', 'beds', 'bedrooms'])"
      ]
     },
     "execution_count": 122,
     "metadata": {},
     "output_type": "execute_result"
    }
   ],
   "source": [
    "# ordinal encoder\n",
    "ordinal_enc = OrdinalEncoder(\n",
    "    encoding_method='arbitrary',\n",
    "    variables=['host_is_superhost', 'bathrooms', 'beds', 'bedrooms'])\n",
    "\n",
    "ordinal_enc.fit(df_train)\n",
    "#ordinal_enc.fit(df_test_encoded)"
   ]
  },
  {
   "cell_type": "code",
   "execution_count": 123,
   "metadata": {},
   "outputs": [
    {
     "data": {
      "text/plain": [
       "{'host_is_superhost': {'t': 0, 'f': 1},\n",
       " 'bathrooms': {'1 bath': 0,\n",
       "  '2 baths': 1,\n",
       "  '3 baths': 2,\n",
       "  '4 baths': 3,\n",
       "  '5 or more baths': 4},\n",
       " 'beds': {1.0: 0, 3.0: 1, 2.0: 2, 4.0: 3, 6.0: 4, 5.0: 5, 8.0: 6, 7.0: 7},\n",
       " 'bedrooms': {1.0: 0, 2.0: 1, 4.0: 2, 3.0: 3, 5.0: 4, 6.0: 5}}"
      ]
     },
     "execution_count": 123,
     "metadata": {},
     "output_type": "execute_result"
    }
   ],
   "source": [
    "# make sure that everything looks good for the ordinal encoder\n",
    "ordinal_enc.encoder_dict_"
   ]
  },
  {
   "cell_type": "code",
   "execution_count": 124,
   "metadata": {},
   "outputs": [],
   "source": [
    "# need to set a max for the test set for beds or bedrooms or we will get NaN when encoding the test set\n",
    "df_test.loc[(df_test['bedrooms'] >= 6.0), 'bedrooms'] = 6.0\n",
    "df_test.loc[(df_test['beds'] >= 7.0), 'beds'] = 7.0"
   ]
  },
  {
   "cell_type": "code",
   "execution_count": 125,
   "metadata": {},
   "outputs": [],
   "source": [
    "# encode the test and training sets\n",
    "df_train_ord = ordinal_enc.transform(df_train)\n",
    "df_test_ord = ordinal_enc.transform(df_test)"
   ]
  },
  {
   "cell_type": "code",
   "execution_count": 126,
   "metadata": {},
   "outputs": [
    {
     "name": "stdout",
     "output_type": "stream",
     "text": [
      "<class 'pandas.core.frame.DataFrame'>\n",
      "Int64Index: 1505 entries, 5107 to 4404\n",
      "Data columns (total 24 columns):\n",
      " #   Column                       Non-Null Count  Dtype  \n",
      "---  ------                       --------------  -----  \n",
      " 0   host_is_superhost            1505 non-null   int64  \n",
      " 1   neighbourhood                1505 non-null   object \n",
      " 2   property_type                1505 non-null   object \n",
      " 3   room_type                    1505 non-null   object \n",
      " 4   accommodates                 1505 non-null   int64  \n",
      " 5   bathrooms                    1505 non-null   int64  \n",
      " 6   bedrooms                     1505 non-null   int64  \n",
      " 7   beds                         1505 non-null   int64  \n",
      " 8   price                        1505 non-null   float64\n",
      " 9   minimum_nights               1505 non-null   int64  \n",
      " 10  maximum_nights               1505 non-null   int64  \n",
      " 11  availability_30              1505 non-null   int64  \n",
      " 12  availability_60              1505 non-null   int64  \n",
      " 13  availability_90              1505 non-null   int64  \n",
      " 14  availability_365             1505 non-null   int64  \n",
      " 15  number_of_reviews            1505 non-null   int64  \n",
      " 16  review_scores_rating         1505 non-null   float64\n",
      " 17  review_scores_accuracy       1505 non-null   float64\n",
      " 18  review_scores_cleanliness    1505 non-null   float64\n",
      " 19  review_scores_checkin        1505 non-null   float64\n",
      " 20  review_scores_communication  1505 non-null   float64\n",
      " 21  review_scores_location       1505 non-null   float64\n",
      " 22  review_scores_value          1505 non-null   float64\n",
      " 23  instant_bookable             1505 non-null   object \n",
      "dtypes: float64(8), int64(12), object(4)\n",
      "memory usage: 293.9+ KB\n"
     ]
    }
   ],
   "source": [
    "# make sure there is no NaN values created during encoding\n",
    "df_test_ord.info()"
   ]
  },
  {
   "cell_type": "code",
   "execution_count": 127,
   "metadata": {},
   "outputs": [
    {
     "data": {
      "text/plain": [
       "OneHotEncoder(drop_last=True,\n",
       "              variables=['neighbourhood', 'property_type', 'room_type',\n",
       "                         'instant_bookable'])"
      ]
     },
     "execution_count": 127,
     "metadata": {},
     "output_type": "execute_result"
    }
   ],
   "source": [
    "# use one hot encoder on the remaining categorical variables\n",
    "ohe_enc = fe_OneHotEncoder(variables=['neighbourhood', 'property_type',\n",
    "                                      'room_type', 'instant_bookable'], drop_last=True)\n",
    "\n",
    "# fit to df_train\n",
    "ohe_enc.fit(df_train_ord)"
   ]
  },
  {
   "cell_type": "code",
   "execution_count": 128,
   "metadata": {},
   "outputs": [],
   "source": [
    "# ignore warning\n",
    "warnings.filterwarnings('ignore')\n",
    "\n",
    "# transform training set\n",
    "df_train_encoded = ohe_enc.transform(df_train_ord)"
   ]
  },
  {
   "cell_type": "code",
   "execution_count": 129,
   "metadata": {},
   "outputs": [],
   "source": [
    "# ignore warning\n",
    "warnings.filterwarnings('ignore')\n",
    "\n",
    "# transform the test set\n",
    "df_test_encoded = ohe_enc.transform(df_test_ord)"
   ]
  },
  {
   "cell_type": "code",
   "execution_count": 130,
   "metadata": {},
   "outputs": [
    {
     "name": "stdout",
     "output_type": "stream",
     "text": [
      "<class 'pandas.core.frame.DataFrame'>\n",
      "Int64Index: 3793 entries, 2025 to 860\n",
      "Columns: 134 entries, host_is_superhost to instant_bookable_t\n",
      "dtypes: float64(8), int64(126)\n",
      "memory usage: 3.9 MB\n"
     ]
    }
   ],
   "source": [
    "# Make sure train set looks right\n",
    "df_train_encoded.info()"
   ]
  },
  {
   "cell_type": "code",
   "execution_count": 131,
   "metadata": {},
   "outputs": [
    {
     "name": "stdout",
     "output_type": "stream",
     "text": [
      "<class 'pandas.core.frame.DataFrame'>\n",
      "Int64Index: 1505 entries, 5107 to 4404\n",
      "Columns: 134 entries, host_is_superhost to instant_bookable_t\n",
      "dtypes: float64(8), int64(126)\n",
      "memory usage: 1.6 MB\n"
     ]
    }
   ],
   "source": [
    "# Make sure test set looks right\n",
    "df_test_encoded.info()"
   ]
  },
  {
   "cell_type": "code",
   "execution_count": 132,
   "metadata": {},
   "outputs": [
    {
     "data": {
      "text/html": [
       "<div>\n",
       "<style scoped>\n",
       "    .dataframe tbody tr th:only-of-type {\n",
       "        vertical-align: middle;\n",
       "    }\n",
       "\n",
       "    .dataframe tbody tr th {\n",
       "        vertical-align: top;\n",
       "    }\n",
       "\n",
       "    .dataframe thead th {\n",
       "        text-align: right;\n",
       "    }\n",
       "</style>\n",
       "<table border=\"1\" class=\"dataframe\">\n",
       "  <thead>\n",
       "    <tr style=\"text-align: right;\">\n",
       "      <th></th>\n",
       "      <th>corr_coef</th>\n",
       "    </tr>\n",
       "    <tr>\n",
       "      <th>pairs</th>\n",
       "      <th></th>\n",
       "    </tr>\n",
       "  </thead>\n",
       "  <tbody>\n",
       "    <tr>\n",
       "      <th>(availability_90, availability_60)</th>\n",
       "      <td>0.951020</td>\n",
       "    </tr>\n",
       "    <tr>\n",
       "      <th>(availability_60, availability_90)</th>\n",
       "      <td>0.951020</td>\n",
       "    </tr>\n",
       "    <tr>\n",
       "      <th>(room_type_Private room, room_type_Entire home/apt)</th>\n",
       "      <td>0.932969</td>\n",
       "    </tr>\n",
       "    <tr>\n",
       "      <th>(room_type_Entire home/apt, room_type_Private room)</th>\n",
       "      <td>0.932969</td>\n",
       "    </tr>\n",
       "    <tr>\n",
       "      <th>(availability_60, availability_30)</th>\n",
       "      <td>0.921863</td>\n",
       "    </tr>\n",
       "    <tr>\n",
       "      <th>(availability_30, availability_60)</th>\n",
       "      <td>0.921863</td>\n",
       "    </tr>\n",
       "    <tr>\n",
       "      <th>(availability_30, availability_90)</th>\n",
       "      <td>0.840949</td>\n",
       "    </tr>\n",
       "    <tr>\n",
       "      <th>(availability_90, availability_30)</th>\n",
       "      <td>0.840949</td>\n",
       "    </tr>\n",
       "    <tr>\n",
       "      <th>(accommodates, bedrooms)</th>\n",
       "      <td>0.800725</td>\n",
       "    </tr>\n",
       "    <tr>\n",
       "      <th>(bedrooms, accommodates)</th>\n",
       "      <td>0.800725</td>\n",
       "    </tr>\n",
       "    <tr>\n",
       "      <th>(review_scores_accuracy, review_scores_rating)</th>\n",
       "      <td>0.781633</td>\n",
       "    </tr>\n",
       "    <tr>\n",
       "      <th>(review_scores_rating, review_scores_accuracy)</th>\n",
       "      <td>0.781633</td>\n",
       "    </tr>\n",
       "    <tr>\n",
       "      <th>(room_type_Shared room, property_type_Shared room in residential home)</th>\n",
       "      <td>0.779260</td>\n",
       "    </tr>\n",
       "    <tr>\n",
       "      <th>(property_type_Shared room in residential home, room_type_Shared room)</th>\n",
       "      <td>0.779260</td>\n",
       "    </tr>\n",
       "    <tr>\n",
       "      <th>(review_scores_rating, review_scores_value)</th>\n",
       "      <td>0.757108</td>\n",
       "    </tr>\n",
       "    <tr>\n",
       "      <th>(review_scores_value, review_scores_rating)</th>\n",
       "      <td>0.757108</td>\n",
       "    </tr>\n",
       "  </tbody>\n",
       "</table>\n",
       "</div>"
      ],
      "text/plain": [
       "                                                    corr_coef\n",
       "pairs                                                        \n",
       "(availability_90, availability_60)                   0.951020\n",
       "(availability_60, availability_90)                   0.951020\n",
       "(room_type_Private room, room_type_Entire home/...   0.932969\n",
       "(room_type_Entire home/apt, room_type_Private r...   0.932969\n",
       "(availability_60, availability_30)                   0.921863\n",
       "(availability_30, availability_60)                   0.921863\n",
       "(availability_30, availability_90)                   0.840949\n",
       "(availability_90, availability_30)                   0.840949\n",
       "(accommodates, bedrooms)                             0.800725\n",
       "(bedrooms, accommodates)                             0.800725\n",
       "(review_scores_accuracy, review_scores_rating)       0.781633\n",
       "(review_scores_rating, review_scores_accuracy)       0.781633\n",
       "(room_type_Shared room, property_type_Shared ro...   0.779260\n",
       "(property_type_Shared room in residential home,...   0.779260\n",
       "(review_scores_rating, review_scores_value)          0.757108\n",
       "(review_scores_value, review_scores_rating)          0.757108"
      ]
     },
     "execution_count": 132,
     "metadata": {},
     "output_type": "execute_result"
    }
   ],
   "source": [
    "# see which predictors have high correlation which each other\n",
    "correlation = df_train_encoded.corr().abs().stack().reset_index().sort_values(0, ascending=False)\n",
    "\n",
    "correlation['pairs'] = list(zip(correlation.level_0, correlation.level_1))\n",
    "\n",
    "correlation.set_index(['pairs'], inplace = True)\n",
    "\n",
    "correlation.drop(columns=['level_1', 'level_0'], inplace = True)\n",
    "\n",
    "correlation.columns = ['corr_coef']\n",
    "\n",
    "correlation[(correlation.corr_coef>.75) & (correlation.corr_coef<1)]"
   ]
  },
  {
   "cell_type": "markdown",
   "metadata": {},
   "source": [
    "When two columns have a high correlation it will hurt the model's performance. To help solve the issue of multicollinearity we will eliminate one column from each highly correlated pair. In this case I will remove `availability_90`, `property_type_Shared room in residential home`, `availability_60`, `accommodates`, `review_scores_value` and `review_scores_accuracy`."
   ]
  },
  {
   "cell_type": "code",
   "execution_count": 133,
   "metadata": {},
   "outputs": [],
   "source": [
    "# Remove one column from each highly correlated pair\n",
    "df_train_encoded.drop(['availability_90','room_type_Entire home/apt', 'review_scores_accuracy', 'accommodates',\n",
    "                      'availability_60', 'review_scores_value'], axis=1, inplace=True)"
   ]
  },
  {
   "cell_type": "code",
   "execution_count": 134,
   "metadata": {},
   "outputs": [],
   "source": [
    "# Remove same columns from the test set\n",
    "df_test_encoded.drop(['availability_90','room_type_Entire home/apt', 'review_scores_accuracy', 'accommodates',\n",
    "                      'availability_60', 'review_scores_value'], axis=1, inplace=True)"
   ]
  },
  {
   "cell_type": "markdown",
   "metadata": {},
   "source": [
    "We know that a few of the continious variables are very skewed, which could have a negative impact on our model. Before we move onto modeling we should try to eliviate some of the skewiness with a transfomation. "
   ]
  },
  {
   "cell_type": "code",
   "execution_count": 135,
   "metadata": {},
   "outputs": [
    {
     "data": {
      "image/png": "[encoded data removed]",
      "text/plain": [
       "<Figure size 720x720 with 8 Axes>"
      ]
     },
     "metadata": {
      "needs_background": "light"
     },
     "output_type": "display_data"
    }
   ],
   "source": [
    "# recall the skewed variables\n",
    "diagnostic_reviews(df_train, review_cols)"
   ]
  },
  {
   "cell_type": "code",
   "execution_count": 136,
   "metadata": {},
   "outputs": [],
   "source": [
    "# take a look at how skewed the continuous features are\n",
    "\n",
    "def print_skewness(df):\n",
    "    print(f'''The skewness of the cleanliness score is:\\\n",
    "    {df[\"review_scores_cleanliness\"].skew():.2f}''')\n",
    "\n",
    "    print(f'''The skewness of the overall rating is:\\\n",
    "     {df[\"review_scores_rating\"].skew():.2f}''')\n",
    "\n",
    "    print(f'''The skewness of the communication score is: \\\n",
    "     {df[\"review_scores_communication\"].skew():.2f}''')\n",
    "\n",
    "    print(f'''The skewness of the location score is: \\\n",
    "     {df[\"review_scores_location\"].skew():.2f}''')\n",
    "\n",
    "    print(f'''The skewness of the checkin score is: \\\n",
    "     {df[\"review_scores_checkin\"].skew():.2f}''')\n",
    "\n",
    "    print(f'''The skewness of the number of reviews is: \\\n",
    "     {df[\"number_of_reviews\"].skew():.2f}''')\n",
    "\n",
    "    print(f'''The skewness of the price is: \\\n",
    "     {df[\"price\"].skew():.2f}''')"
   ]
  },
  {
   "cell_type": "code",
   "execution_count": 137,
   "metadata": {},
   "outputs": [
    {
     "name": "stdout",
     "output_type": "stream",
     "text": [
      "The skewness of the cleanliness score is:    -1.64\n",
      "The skewness of the overall rating is:     -1.40\n",
      "The skewness of the communication score is:      -1.93\n",
      "The skewness of the location score is:      -1.70\n",
      "The skewness of the checkin score is:      -1.88\n",
      "The skewness of the number of reviews is:      1.45\n",
      "The skewness of the price is:      1.61\n"
     ]
    }
   ],
   "source": [
    "# view skewness\n",
    "print_skewness(df_train_encoded)"
   ]
  },
  {
   "cell_type": "markdown",
   "metadata": {},
   "source": [
    "We have removed the outliers for these columns yet skewness is still an issue. First we will try a log transformation then a boxcox."
   ]
  },
  {
   "cell_type": "code",
   "execution_count": 138,
   "metadata": {},
   "outputs": [
    {
     "data": {
      "text/plain": [
       "count    3793.000000\n",
       "mean       56.502768\n",
       "std        62.149333\n",
       "min         1.000000\n",
       "25%         8.000000\n",
       "50%        35.000000\n",
       "75%        84.000000\n",
       "max       294.000000\n",
       "Name: number_of_reviews, dtype: float64"
      ]
     },
     "execution_count": 138,
     "metadata": {},
     "output_type": "execute_result"
    }
   ],
   "source": [
    "# To do log or boxcox transformation there cannot be any zero values. \n",
    "# I will change all listings that have 0 reviews to having 1 review\n",
    "\n",
    "df_train_encoded.loc[(df_train_encoded['number_of_reviews'] == 0), 'number_of_reviews'] = 1\n",
    "df_test_encoded.loc[(df_test_encoded['number_of_reviews'] == 0), 'number_of_reviews'] = 1\n",
    "\n",
    "df_train_encoded.loc[(df_train_encoded['review_scores_rating'] == 0), 'review_scores_rating'] = 1\n",
    "df_test_encoded.loc[(df_test_encoded['review_scores_rating'] == 0), 'review_scores_rating'] = 1\n",
    "\n",
    "df_train_encoded['number_of_reviews'].describe()"
   ]
  },
  {
   "cell_type": "code",
   "execution_count": 139,
   "metadata": {},
   "outputs": [],
   "source": [
    "# perform log transformation on skewed columns \n",
    "skewed_cols = ['number_of_reviews',\n",
    "       'review_scores_rating', 'review_scores_cleanliness',\n",
    "       'review_scores_checkin','review_scores_communication',\n",
    "       'review_scores_location', 'price']\n",
    "\n",
    "train_log = df_train_encoded.copy()\n",
    "test_log = df_test_encoded.copy()\n",
    "\n",
    "train_log[skewed_cols] = np.log(df_train_encoded[skewed_cols])\n",
    "test_log[skewed_cols] = np.log(df_test_encoded[skewed_cols])\n"
   ]
  },
  {
   "cell_type": "code",
   "execution_count": 140,
   "metadata": {},
   "outputs": [
    {
     "name": "stdout",
     "output_type": "stream",
     "text": [
      "The skewness of the cleanliness score is:    -1.77\n",
      "The skewness of the overall rating is:     -1.51\n",
      "The skewness of the communication score is:      -2.00\n",
      "The skewness of the location score is:      -1.84\n",
      "The skewness of the checkin score is:      -1.93\n",
      "The skewness of the number of reviews is:      -0.64\n",
      "The skewness of the price is:      0.04\n"
     ]
    }
   ],
   "source": [
    "# we see that the log transformation did not really help so we will go with boxcox instead\n",
    "print_skewness(train_log)"
   ]
  },
  {
   "cell_type": "code",
   "execution_count": 141,
   "metadata": {},
   "outputs": [
    {
     "name": "stdout",
     "output_type": "stream",
     "text": [
      "{(3793, 128)}\n",
      "{(1505, 128)}\n"
     ]
    }
   ],
   "source": [
    "# before we seperate the target variable lets see how many rows are left after preprocessing\n",
    "print({df_train_encoded.shape})\n",
    "print({df_test_encoded.shape})"
   ]
  },
  {
   "cell_type": "code",
   "execution_count": 142,
   "metadata": {},
   "outputs": [
    {
     "name": "stdout",
     "output_type": "stream",
     "text": [
      "<class 'pandas.core.series.Series'>\n",
      "Int64Index: 3793 entries, 2025 to 860\n",
      "Series name: beds\n",
      "Non-Null Count  Dtype\n",
      "--------------  -----\n",
      "3793 non-null   int64\n",
      "dtypes: int64(1)\n",
      "memory usage: 59.3 KB\n"
     ]
    }
   ],
   "source": [
    "df_train_encoded['beds'].info()"
   ]
  },
  {
   "cell_type": "code",
   "execution_count": 143,
   "metadata": {},
   "outputs": [],
   "source": [
    "# separate target variable from predictor variables\n",
    "target = 'price'\n",
    "\n",
    "y_train = df_train_encoded[target].copy()\n",
    "X_train = df_train_encoded.drop(target, axis=1).copy()\n",
    "y_test = df_test_encoded[target].copy()\n",
    "X_test = df_test_encoded.drop(target, axis=1).copy()"
   ]
  },
  {
   "cell_type": "code",
   "execution_count": 144,
   "metadata": {},
   "outputs": [
    {
     "name": "stdout",
     "output_type": "stream",
     "text": [
      "<class 'pandas.core.frame.DataFrame'>\n",
      "Int64Index: 3793 entries, 2025 to 860\n",
      "Columns: 127 entries, host_is_superhost to instant_bookable_t\n",
      "dtypes: float64(5), int64(122)\n",
      "memory usage: 3.7 MB\n"
     ]
    }
   ],
   "source": [
    "X_train.info()"
   ]
  },
  {
   "cell_type": "code",
   "execution_count": 145,
   "metadata": {},
   "outputs": [
    {
     "name": "stdout",
     "output_type": "stream",
     "text": [
      "<class 'pandas.core.series.Series'>\n",
      "Int64Index: 3793 entries, 2025 to 860\n",
      "Series name: price\n",
      "Non-Null Count  Dtype  \n",
      "--------------  -----  \n",
      "3793 non-null   float64\n",
      "dtypes: float64(1)\n",
      "memory usage: 59.3 KB\n"
     ]
    }
   ],
   "source": [
    "y_train.info()"
   ]
  },
  {
   "cell_type": "code",
   "execution_count": 146,
   "metadata": {},
   "outputs": [],
   "source": [
    "# turn y sets back to dfs\n",
    "y_train = y_train.to_frame()\n",
    "y_test = y_test.to_frame()"
   ]
  },
  {
   "cell_type": "code",
   "execution_count": 147,
   "metadata": {},
   "outputs": [],
   "source": [
    "# make a list of just the skewed predictor variables for transformation\n",
    "skewed_cols_X = ['number_of_reviews',\n",
    "       'review_scores_rating', 'review_scores_cleanliness',\n",
    "       'review_scores_checkin','review_scores_communication',\n",
    "       'review_scores_location']"
   ]
  },
  {
   "cell_type": "code",
   "execution_count": 148,
   "metadata": {},
   "outputs": [],
   "source": [
    "# boxcox transformation\n",
    "####\n",
    "y_test_bc = y_test.copy()\n",
    "\n",
    "X_train_bc = X_train.copy()\n",
    "y_train_bc = y_train.copy()\n",
    "X_test_bc = X_test.copy()\n",
    "\n",
    "# create the transformer\n",
    "transformer = PowerTransformer(method='box-cox', standardize=False)\n",
    "\n",
    "# create the transformer for y\n",
    "transformer_y = PowerTransformer(method='box-cox', standardize=False)\n",
    "\n",
    "#fit the y_transformer on y_train\n",
    "transformer_y.fit(y_train_bc)\n",
    "\n",
    "###\n",
    "#transformer_y.fit(y_train_bc)\n",
    "\n",
    "# transform test and train sets\n",
    "transformer_y.transform(y_test_bc)\n",
    "transformer_y.transform(y_train_bc)\n",
    "\n",
    "# fit the x transformer on X_train\n",
    "transformer.fit(X_train_bc[skewed_cols_X])\n",
    "\n",
    "# transform the X training and test sets \n",
    "X_train_bc[skewed_cols_X] = transformer.transform(X_train_bc[skewed_cols_X])\n",
    "X_test_bc[skewed_cols_X] = transformer.transform(X_test_bc[skewed_cols_X])"
   ]
  },
  {
   "cell_type": "code",
   "execution_count": 149,
   "metadata": {},
   "outputs": [],
   "source": [
    "# we need to know lambda for interpretation of the RMSE during modeling\n",
    "def boxcox(df, var):\n",
    "\n",
    "    box_var = stats.boxcox(df[var])\n",
    "\n",
    "    print(f'''The lambda used for {var} is\\\n",
    "     {box_var[1]:.7f}''')"
   ]
  },
  {
   "cell_type": "code",
   "execution_count": 150,
   "metadata": {},
   "outputs": [
    {
     "name": "stdout",
     "output_type": "stream",
     "text": [
      "The lambda used for price is     -0.0207010\n"
     ]
    }
   ],
   "source": [
    "# we will use this lambda in the modeling notebook to get the RMSE\n",
    "boxcox(y_train_bc, 'price')"
   ]
  },
  {
   "cell_type": "code",
   "execution_count": 151,
   "metadata": {},
   "outputs": [
    {
     "name": "stdout",
     "output_type": "stream",
     "text": [
      "<class 'pandas.core.frame.DataFrame'>\n",
      "Int64Index: 3793 entries, 2025 to 860\n",
      "Columns: 127 entries, host_is_superhost to instant_bookable_t\n",
      "dtypes: float64(6), int64(121)\n",
      "memory usage: 3.7 MB\n"
     ]
    }
   ],
   "source": [
    "X_train_bc.info()"
   ]
  },
  {
   "cell_type": "code",
   "execution_count": 152,
   "metadata": {},
   "outputs": [],
   "source": [
    "# setup standardScaler\n",
    "scaler_x = StandardScaler()\n",
    "scaler_y = StandardScaler()"
   ]
  },
  {
   "cell_type": "code",
   "execution_count": 153,
   "metadata": {},
   "outputs": [],
   "source": [
    "# fit on x_train\n",
    "scaler_x.fit(X_train_bc)\n",
    "# fit on y_train\n",
    "scaler_y.fit(y_train_bc)\n",
    "\n",
    "# transform X_train & X_test\n",
    "X_train_scaled = scaler_x.transform(X_train_bc)\n",
    "X_test_scaled = scaler_x.transform(X_test_bc)\n",
    "\n",
    "# transform y_train & y_test only \n",
    "y_train_scaled = scaler_y.transform(y_train_bc)\n",
    "y_test_scaled = scaler_y.transform(y_test_bc)\n"
   ]
  },
  {
   "cell_type": "code",
   "execution_count": 154,
   "metadata": {},
   "outputs": [
    {
     "data": {
      "text/html": [
       "<div>\n",
       "<style scoped>\n",
       "    .dataframe tbody tr th:only-of-type {\n",
       "        vertical-align: middle;\n",
       "    }\n",
       "\n",
       "    .dataframe tbody tr th {\n",
       "        vertical-align: top;\n",
       "    }\n",
       "\n",
       "    .dataframe thead th {\n",
       "        text-align: right;\n",
       "    }\n",
       "</style>\n",
       "<table border=\"1\" class=\"dataframe\">\n",
       "  <thead>\n",
       "    <tr style=\"text-align: right;\">\n",
       "      <th></th>\n",
       "      <th>host_is_superhost</th>\n",
       "      <th>bathrooms</th>\n",
       "      <th>bedrooms</th>\n",
       "      <th>beds</th>\n",
       "      <th>minimum_nights</th>\n",
       "      <th>maximum_nights</th>\n",
       "      <th>availability_30</th>\n",
       "      <th>availability_365</th>\n",
       "      <th>number_of_reviews</th>\n",
       "      <th>review_scores_rating</th>\n",
       "      <th>...</th>\n",
       "      <th>property_type_Shared room in tiny house</th>\n",
       "      <th>property_type_Barn</th>\n",
       "      <th>property_type_Room in serviced apartment</th>\n",
       "      <th>property_type_Farm stay</th>\n",
       "      <th>property_type_Room in resort</th>\n",
       "      <th>property_type_Entire home/apt</th>\n",
       "      <th>property_type_Shared room in condominium (condo)</th>\n",
       "      <th>room_type_Private room</th>\n",
       "      <th>room_type_Shared room</th>\n",
       "      <th>instant_bookable_t</th>\n",
       "    </tr>\n",
       "  </thead>\n",
       "  <tbody>\n",
       "    <tr>\n",
       "      <th>count</th>\n",
       "      <td>3793.0</td>\n",
       "      <td>3793.0</td>\n",
       "      <td>3793.0</td>\n",
       "      <td>3793.0</td>\n",
       "      <td>3793.0</td>\n",
       "      <td>3793.0</td>\n",
       "      <td>3793.0</td>\n",
       "      <td>3793.0</td>\n",
       "      <td>3793.0</td>\n",
       "      <td>3793.0</td>\n",
       "      <td>...</td>\n",
       "      <td>3793.0</td>\n",
       "      <td>3793.0</td>\n",
       "      <td>3793.0</td>\n",
       "      <td>3793.0</td>\n",
       "      <td>3793.0</td>\n",
       "      <td>3793.0</td>\n",
       "      <td>3793.0</td>\n",
       "      <td>3793.0</td>\n",
       "      <td>3793.0</td>\n",
       "      <td>3793.0</td>\n",
       "    </tr>\n",
       "    <tr>\n",
       "      <th>mean</th>\n",
       "      <td>0.0</td>\n",
       "      <td>-0.0</td>\n",
       "      <td>-0.0</td>\n",
       "      <td>-0.0</td>\n",
       "      <td>-0.0</td>\n",
       "      <td>-0.0</td>\n",
       "      <td>0.0</td>\n",
       "      <td>0.0</td>\n",
       "      <td>0.0</td>\n",
       "      <td>0.0</td>\n",
       "      <td>...</td>\n",
       "      <td>-0.0</td>\n",
       "      <td>-0.0</td>\n",
       "      <td>-0.0</td>\n",
       "      <td>0.0</td>\n",
       "      <td>-0.0</td>\n",
       "      <td>-0.0</td>\n",
       "      <td>-0.0</td>\n",
       "      <td>0.0</td>\n",
       "      <td>0.0</td>\n",
       "      <td>-0.0</td>\n",
       "    </tr>\n",
       "    <tr>\n",
       "      <th>std</th>\n",
       "      <td>1.0</td>\n",
       "      <td>1.0</td>\n",
       "      <td>1.0</td>\n",
       "      <td>1.0</td>\n",
       "      <td>1.0</td>\n",
       "      <td>1.0</td>\n",
       "      <td>1.0</td>\n",
       "      <td>1.0</td>\n",
       "      <td>1.0</td>\n",
       "      <td>1.0</td>\n",
       "      <td>...</td>\n",
       "      <td>1.0</td>\n",
       "      <td>1.0</td>\n",
       "      <td>1.0</td>\n",
       "      <td>1.0</td>\n",
       "      <td>1.0</td>\n",
       "      <td>1.0</td>\n",
       "      <td>1.0</td>\n",
       "      <td>1.0</td>\n",
       "      <td>1.0</td>\n",
       "      <td>1.0</td>\n",
       "    </tr>\n",
       "    <tr>\n",
       "      <th>min</th>\n",
       "      <td>-1.1</td>\n",
       "      <td>-0.7</td>\n",
       "      <td>-0.9</td>\n",
       "      <td>-1.1</td>\n",
       "      <td>-0.6</td>\n",
       "      <td>-1.3</td>\n",
       "      <td>-1.2</td>\n",
       "      <td>-1.2</td>\n",
       "      <td>-1.6</td>\n",
       "      <td>-2.2</td>\n",
       "      <td>...</td>\n",
       "      <td>-0.0</td>\n",
       "      <td>-0.0</td>\n",
       "      <td>-0.0</td>\n",
       "      <td>-0.0</td>\n",
       "      <td>-0.0</td>\n",
       "      <td>-0.0</td>\n",
       "      <td>-0.0</td>\n",
       "      <td>-0.4</td>\n",
       "      <td>-0.1</td>\n",
       "      <td>-1.0</td>\n",
       "    </tr>\n",
       "    <tr>\n",
       "      <th>25%</th>\n",
       "      <td>-1.1</td>\n",
       "      <td>-0.7</td>\n",
       "      <td>-0.9</td>\n",
       "      <td>-1.1</td>\n",
       "      <td>-0.5</td>\n",
       "      <td>-1.1</td>\n",
       "      <td>-1.2</td>\n",
       "      <td>-0.9</td>\n",
       "      <td>-0.8</td>\n",
       "      <td>-0.7</td>\n",
       "      <td>...</td>\n",
       "      <td>-0.0</td>\n",
       "      <td>-0.0</td>\n",
       "      <td>-0.0</td>\n",
       "      <td>-0.0</td>\n",
       "      <td>-0.0</td>\n",
       "      <td>-0.0</td>\n",
       "      <td>-0.0</td>\n",
       "      <td>-0.4</td>\n",
       "      <td>-0.1</td>\n",
       "      <td>-1.0</td>\n",
       "    </tr>\n",
       "    <tr>\n",
       "      <th>50%</th>\n",
       "      <td>1.0</td>\n",
       "      <td>-0.7</td>\n",
       "      <td>-0.1</td>\n",
       "      <td>0.2</td>\n",
       "      <td>-0.5</td>\n",
       "      <td>0.5</td>\n",
       "      <td>-0.1</td>\n",
       "      <td>-0.2</td>\n",
       "      <td>0.1</td>\n",
       "      <td>-0.1</td>\n",
       "      <td>...</td>\n",
       "      <td>-0.0</td>\n",
       "      <td>-0.0</td>\n",
       "      <td>-0.0</td>\n",
       "      <td>-0.0</td>\n",
       "      <td>-0.0</td>\n",
       "      <td>-0.0</td>\n",
       "      <td>-0.0</td>\n",
       "      <td>-0.4</td>\n",
       "      <td>-0.1</td>\n",
       "      <td>1.0</td>\n",
       "    </tr>\n",
       "    <tr>\n",
       "      <th>75%</th>\n",
       "      <td>1.0</td>\n",
       "      <td>0.9</td>\n",
       "      <td>0.8</td>\n",
       "      <td>0.2</td>\n",
       "      <td>-0.4</td>\n",
       "      <td>1.0</td>\n",
       "      <td>0.8</td>\n",
       "      <td>1.0</td>\n",
       "      <td>0.8</td>\n",
       "      <td>0.8</td>\n",
       "      <td>...</td>\n",
       "      <td>-0.0</td>\n",
       "      <td>-0.0</td>\n",
       "      <td>-0.0</td>\n",
       "      <td>-0.0</td>\n",
       "      <td>-0.0</td>\n",
       "      <td>-0.0</td>\n",
       "      <td>-0.0</td>\n",
       "      <td>-0.4</td>\n",
       "      <td>-0.1</td>\n",
       "      <td>1.0</td>\n",
       "    </tr>\n",
       "    <tr>\n",
       "      <th>max</th>\n",
       "      <td>1.0</td>\n",
       "      <td>5.5</td>\n",
       "      <td>3.3</td>\n",
       "      <td>3.3</td>\n",
       "      <td>5.4</td>\n",
       "      <td>1.0</td>\n",
       "      <td>1.9</td>\n",
       "      <td>1.7</td>\n",
       "      <td>2.0</td>\n",
       "      <td>1.4</td>\n",
       "      <td>...</td>\n",
       "      <td>43.5</td>\n",
       "      <td>61.6</td>\n",
       "      <td>61.6</td>\n",
       "      <td>43.5</td>\n",
       "      <td>61.6</td>\n",
       "      <td>61.6</td>\n",
       "      <td>61.6</td>\n",
       "      <td>2.6</td>\n",
       "      <td>12.8</td>\n",
       "      <td>1.0</td>\n",
       "    </tr>\n",
       "  </tbody>\n",
       "</table>\n",
       "<p>8 rows × 127 columns</p>\n",
       "</div>"
      ],
      "text/plain": [
       "       host_is_superhost  bathrooms  bedrooms    beds  minimum_nights  \\\n",
       "count             3793.0     3793.0    3793.0  3793.0          3793.0   \n",
       "mean                 0.0       -0.0      -0.0    -0.0            -0.0   \n",
       "std                  1.0        1.0       1.0     1.0             1.0   \n",
       "min                 -1.1       -0.7      -0.9    -1.1            -0.6   \n",
       "25%                 -1.1       -0.7      -0.9    -1.1            -0.5   \n",
       "50%                  1.0       -0.7      -0.1     0.2            -0.5   \n",
       "75%                  1.0        0.9       0.8     0.2            -0.4   \n",
       "max                  1.0        5.5       3.3     3.3             5.4   \n",
       "\n",
       "       maximum_nights  availability_30  availability_365  number_of_reviews  \\\n",
       "count          3793.0           3793.0            3793.0             3793.0   \n",
       "mean             -0.0              0.0               0.0                0.0   \n",
       "std               1.0              1.0               1.0                1.0   \n",
       "min              -1.3             -1.2              -1.2               -1.6   \n",
       "25%              -1.1             -1.2              -0.9               -0.8   \n",
       "50%               0.5             -0.1              -0.2                0.1   \n",
       "75%               1.0              0.8               1.0                0.8   \n",
       "max               1.0              1.9               1.7                2.0   \n",
       "\n",
       "       review_scores_rating  ...  property_type_Shared room in tiny house  \\\n",
       "count                3793.0  ...                                   3793.0   \n",
       "mean                    0.0  ...                                     -0.0   \n",
       "std                     1.0  ...                                      1.0   \n",
       "min                    -2.2  ...                                     -0.0   \n",
       "25%                    -0.7  ...                                     -0.0   \n",
       "50%                    -0.1  ...                                     -0.0   \n",
       "75%                     0.8  ...                                     -0.0   \n",
       "max                     1.4  ...                                     43.5   \n",
       "\n",
       "       property_type_Barn  property_type_Room in serviced apartment  \\\n",
       "count              3793.0                                    3793.0   \n",
       "mean                 -0.0                                      -0.0   \n",
       "std                   1.0                                       1.0   \n",
       "min                  -0.0                                      -0.0   \n",
       "25%                  -0.0                                      -0.0   \n",
       "50%                  -0.0                                      -0.0   \n",
       "75%                  -0.0                                      -0.0   \n",
       "max                  61.6                                      61.6   \n",
       "\n",
       "       property_type_Farm stay  property_type_Room in resort  \\\n",
       "count                   3793.0                        3793.0   \n",
       "mean                       0.0                          -0.0   \n",
       "std                        1.0                           1.0   \n",
       "min                       -0.0                          -0.0   \n",
       "25%                       -0.0                          -0.0   \n",
       "50%                       -0.0                          -0.0   \n",
       "75%                       -0.0                          -0.0   \n",
       "max                       43.5                          61.6   \n",
       "\n",
       "       property_type_Entire home/apt  \\\n",
       "count                         3793.0   \n",
       "mean                            -0.0   \n",
       "std                              1.0   \n",
       "min                             -0.0   \n",
       "25%                             -0.0   \n",
       "50%                             -0.0   \n",
       "75%                             -0.0   \n",
       "max                             61.6   \n",
       "\n",
       "       property_type_Shared room in condominium (condo)  \\\n",
       "count                                            3793.0   \n",
       "mean                                               -0.0   \n",
       "std                                                 1.0   \n",
       "min                                                -0.0   \n",
       "25%                                                -0.0   \n",
       "50%                                                -0.0   \n",
       "75%                                                -0.0   \n",
       "max                                                61.6   \n",
       "\n",
       "       room_type_Private room  room_type_Shared room  instant_bookable_t  \n",
       "count                  3793.0                 3793.0              3793.0  \n",
       "mean                      0.0                    0.0                -0.0  \n",
       "std                       1.0                    1.0                 1.0  \n",
       "min                      -0.4                   -0.1                -1.0  \n",
       "25%                      -0.4                   -0.1                -1.0  \n",
       "50%                      -0.4                   -0.1                 1.0  \n",
       "75%                      -0.4                   -0.1                 1.0  \n",
       "max                       2.6                   12.8                 1.0  \n",
       "\n",
       "[8 rows x 127 columns]"
      ]
     },
     "execution_count": 154,
     "metadata": {},
     "output_type": "execute_result"
    }
   ],
   "source": [
    "# turn scaled data back into dataframes\n",
    "X_train = pd.DataFrame(X_train_scaled, columns=X_train_bc.columns)\n",
    "X_test = pd.DataFrame(X_test_scaled, columns=X_test_bc.columns)\n",
    "y_train = pd.DataFrame(y_train_scaled, columns=y_train_bc.columns)\n",
    "y_test = pd.DataFrame(y_test_scaled, columns=y_test_bc.columns)\n",
    "np.round(X_train.describe(), 1)"
   ]
  },
  {
   "cell_type": "markdown",
   "metadata": {},
   "source": [
    "# 2. Modeling\n",
    "The baseline model will be a Linear Regression model.\n",
    "\n",
    "I will make a funtion to evaluate our model's performance. A breif overview of the different metrics:\n",
    "- Mean Absolute Error (MAE): A basic metric that gives us the absolute difference between actual and predicted values. Idealy the final model would have a smaller MAE than the baseline model since we aim to lower the amount of error by tuning models.\n",
    "- Mean Squared Error (MSE): Finds the squared difference between the actual and predicted values. The MSE is helpful since it avoids the cancellation of negative terms (unlike MAE). However, outliers will be more damaging since it penalizes the outliers more than MAE. \n",
    "- Root Mean Square Error(RMSE): Is the square root of the MSE. RMSE is easier to interpret than MSE since the output is in the same units as the variable"
   ]
  },
  {
   "cell_type": "code",
   "execution_count": 155,
   "metadata": {},
   "outputs": [],
   "source": [
    "# function to view model's performance\n",
    "def performance_metrics(model, X_test, y_test):\n",
    "    \n",
    "    # need to set up standard scaler to transform predictions back to orginal form for interpretation\n",
    "    scaler_y = StandardScaler()\n",
    "    scaler_y.fit(y_train)\n",
    "    \n",
    "    \n",
    "    # get prediction on X_train\n",
    "    train_pred = model.predict(X_train)\n",
    "    # reshape to work with tree models\n",
    "    train_pred = train_pred.reshape(-1,1)\n",
    "    # inverse transform StandardScaler\n",
    "    train_pred_inv_SS = scaler_y.inverse_transform(train_pred)\n",
    "    # inverse transform BoxCox, lambda is from preprocessing notebook\n",
    "    train_pred_inv_BC = (inv_boxcox(train_pred_inv_SS,-0.0207010))\n",
    "    \n",
    "    \n",
    "    # get prediction on X_test\n",
    "    test_pred = model.predict(X_test)\n",
    "    # reshape to work with tree models\n",
    "    test_pred = test_pred.reshape(-1,1)\n",
    "    # inverse transform StandardScaler\n",
    "    test_pred_inv_SS = scaler_y.inverse_transform(test_pred)\n",
    "    # inverse transform BoxCox, lambda is from preprocessing notebook\n",
    "    test_pred_inv_BC = (inv_boxcox(test_pred_inv_SS,-0.0207010))\n",
    "    \n",
    "    \n",
    "    print(f'Test Mean Absolute Error : {round(mean_absolute_error(y_test,test_pred_inv_BC),2)}')\n",
    "    print(f'Test Mean Squared Error: {round(mean_squared_error(y_test,test_pred_inv_BC),2)}')\n",
    "    print(f'Test Root Mean Square Error :$ {round(np.sqrt(mean_squared_error(y_test,test_pred_inv_BC)),2)}')\n",
    "    print(f'Train Root Mean Square Error :$ {round(np.sqrt(mean_squared_error(y_train,train_pred_inv_BC)),2)}')"
   ]
  },
  {
   "cell_type": "markdown",
   "metadata": {},
   "source": [
    "### Baseline Model\n",
    "For the baseline model I am choosing to do linear regression since it a simiple model. "
   ]
  },
  {
   "cell_type": "code",
   "execution_count": 156,
   "metadata": {},
   "outputs": [
    {
     "name": "stdout",
     "output_type": "stream",
     "text": [
      "Test Mean Absolute Error : 1.79\n",
      "Test Mean Squared Error: 10.11\n",
      "Test Root Mean Square Error :$ 3.18\n",
      "Train Root Mean Square Error :$ 2.07\n"
     ]
    }
   ],
   "source": [
    "# Linear regression is base model\n",
    "lr_base = LinearRegression()\n",
    "lr_base.fit(X_train, y_train)\n",
    "\n",
    "performance_metrics(lr_base, X_test, y_test)"
   ]
  },
  {
   "cell_type": "markdown",
   "metadata": {},
   "source": [
    "To rely on a linear regression model it must meet the assumptions of linear regression. We will take a look at the assuptions next, "
   ]
  },
  {
   "cell_type": "code",
   "execution_count": 157,
   "metadata": {},
   "outputs": [],
   "source": [
    "# get residuals to look at assumptions of linear regression\n",
    "test_pred = lr_base.predict(X_test)\n",
    "residuals = y_test - test_pred"
   ]
  },
  {
   "cell_type": "code",
   "execution_count": 158,
   "metadata": {},
   "outputs": [
    {
     "data": {
      "text/plain": [
       "<AxesSubplot:ylabel='Density'>"
      ]
     },
     "execution_count": 158,
     "metadata": {},
     "output_type": "execute_result"
    },
    {
     "data": {
      "image/png": "[encoded data removed]",
      "text/plain": [
       "<Figure size 432x288 with 1 Axes>"
      ]
     },
     "metadata": {
      "needs_background": "light"
     },
     "output_type": "display_data"
    }
   ],
   "source": [
    "# look at normailty: the residuals of the Linear regression model are skewed\n",
    "warnings.filterwarnings('ignore')\n",
    "sns.distplot(residuals)"
   ]
  },
  {
   "cell_type": "code",
   "execution_count": 159,
   "metadata": {},
   "outputs": [
    {
     "data": {
      "image/png": "[encoded data removed]",
      "text/plain": [
       "<Figure size 432x180 with 1 Axes>"
      ]
     },
     "metadata": {
      "needs_background": "light"
     },
     "output_type": "display_data"
    }
   ],
   "source": [
    "#The residuals do show a slight cone shape pattern \n",
    "fig, ax = plt.subplots(figsize=(6,2.5))\n",
    "_ = ax.scatter(test_pred, residuals)"
   ]
  },
  {
   "cell_type": "code",
   "execution_count": 161,
   "metadata": {},
   "outputs": [
    {
     "name": "stdout",
     "output_type": "stream",
     "text": [
      "                       feature       VIF\n",
      "0               maximum_nights  1.007739\n",
      "1              availability_30  1.268117\n",
      "2             availability_365  1.270027\n",
      "3            number_of_reviews  1.111386\n",
      "4         review_scores_rating  3.491498\n",
      "5    review_scores_cleanliness  2.255183\n",
      "6        review_scores_checkin  2.052931\n",
      "7  review_scores_communication  2.405259\n",
      "8       review_scores_location  1.320121\n"
     ]
    }
   ],
   "source": [
    "# Double check for multicollinearity\n",
    "X_num = X_train[['maximum_nights', 'availability_30', 'availability_365',\n",
    "       'number_of_reviews', 'review_scores_rating',\n",
    "       'review_scores_cleanliness', 'review_scores_checkin',\n",
    "       'review_scores_communication', 'review_scores_location']]\n",
    "\n",
    "# VIF dataframe\n",
    "vif_data = pd.DataFrame()\n",
    "vif_data[\"feature\"] = X_num.columns\n",
    "  \n",
    "# calculating VIF for each feature\n",
    "vif_data[\"VIF\"] = [variance_inflation_factor(X_num.values, i)\n",
    "                          for i in range(len(X_num.columns))]\n",
    "  \n",
    "print(vif_data)"
   ]
  },
  {
   "cell_type": "markdown",
   "metadata": {},
   "source": [
    "We see the baseline model has a RMSE of $\\$$3.18 which indicates from the start this is a pretty well performing model. Since the average price overall is around $\\$$190, a error of $\\$$3.18 is not very off from the actual price."
   ]
  },
  {
   "cell_type": "markdown",
   "metadata": {},
   "source": [
    "## Model 2\n",
    "For regression there are many different model types to choose from. Next, I am going to try a Random Forrest Model which is a little more robust to outliers than a Linear Regression model is. "
   ]
  },
  {
   "cell_type": "code",
   "execution_count": 162,
   "metadata": {},
   "outputs": [
    {
     "name": "stdout",
     "output_type": "stream",
     "text": [
      "Test Mean Absolute Error : 1.82\n",
      "Test Mean Squared Error: 8.02\n",
      "Test Root Mean Square Error :$ 2.83\n",
      "Train Root Mean Square Error :$ 3.3\n"
     ]
    }
   ],
   "source": [
    "# Import Random Forest\n",
    "forest_baseline = RandomForestRegressor()\n",
    "forest_baseline.fit(X_train, y_train.values.ravel())\n",
    "\n",
    "# view performance metrics\n",
    "performance_metrics(forest_baseline, X_test, y_test)\n"
   ]
  },
  {
   "cell_type": "markdown",
   "metadata": {},
   "source": [
    "The RandomForest model did perform better than the linear regression model"
   ]
  },
  {
   "cell_type": "code",
   "execution_count": 163,
   "metadata": {},
   "outputs": [
    {
     "data": {
      "text/plain": [
       "{'criterion': 'squared_error',\n",
       " 'max_depth': 75,\n",
       " 'max_features': 'auto',\n",
       " 'min_samples_leaf': 10,\n",
       " 'min_samples_split': 10}"
      ]
     },
     "execution_count": 163,
     "metadata": {},
     "output_type": "execute_result"
    }
   ],
   "source": [
    "# Use gridsearch to find a better RandomForest model\n",
    "# I will start with a spread of different parameter options\n",
    "param = {\n",
    "    'criterion': ['squared_error'],\n",
    "    'max_depth': [10, 50, 75],\n",
    "    'max_features': ['auto', 'sqrt'],\n",
    "    'min_samples_leaf': [10, 30, 50],\n",
    "    'min_samples_split': [2, 5, 10],\n",
    "}\n",
    "\n",
    "gridsearch_rf1 = GridSearchCV(estimator=forest_baseline,\n",
    "                          param_grid=param, cv= 3, scoring='neg_mean_squared_error')\n",
    "\n",
    "# Run search & takes a while to run\n",
    "gridsearch_rf1.fit(X_train, y_train.values.ravel())\n",
    "gridsearch_rf1.best_params_"
   ]
  },
  {
   "cell_type": "code",
   "execution_count": 164,
   "metadata": {},
   "outputs": [
    {
     "name": "stdout",
     "output_type": "stream",
     "text": [
      "Test Mean Absolute Error : 1.65\n",
      "Test Mean Squared Error: 5.51\n",
      "Test Root Mean Square Error :$ 2.35\n",
      "Train Root Mean Square Error :$ 1.99\n"
     ]
    }
   ],
   "source": [
    "# view performance metrics\n",
    "performance_metrics(gridsearch_rf1, X_test, y_test)"
   ]
  },
  {
   "cell_type": "code",
   "execution_count": 104,
   "metadata": {},
   "outputs": [
    {
     "data": {
      "text/plain": [
       "{'criterion': 'squared_error',\n",
       " 'max_depth': 75,\n",
       " 'max_features': 'auto',\n",
       " 'min_samples_leaf': 5,\n",
       " 'min_samples_split': 12}"
      ]
     },
     "execution_count": 104,
     "metadata": {},
     "output_type": "execute_result"
    }
   ],
   "source": [
    "# Use gridsearch to find a better RandomForest model\n",
    "# I will start with a spread of different parameter options\n",
    "param = {\n",
    "    'criterion': ['squared_error'],\n",
    "    'max_depth': [75, 80, 95],\n",
    "    'max_features': ['auto'],\n",
    "    'min_samples_leaf': [5, 7, 10],\n",
    "    'min_samples_split': [8, 10, 12],\n",
    "}\n",
    "\n",
    "gridsearch_rf2 = GridSearchCV(estimator=forest_baseline,\n",
    "                          param_grid=param, cv= 3, scoring='neg_mean_squared_error')\n",
    "\n",
    "# Run search & takes a while to run\n",
    "gridsearch_rf2.fit(X_train, y_train.values.ravel())\n",
    "gridsearch_rf2.best_params_"
   ]
  },
  {
   "cell_type": "code",
   "execution_count": 105,
   "metadata": {},
   "outputs": [
    {
     "name": "stdout",
     "output_type": "stream",
     "text": [
      "Test Mean Absolute Error : 1.68\n",
      "Test Mean Squared Error: 6.02\n",
      "Test Root Mean Square Error :$ 2.45\n",
      "Train Root Mean Square Error :$ 2.23\n"
     ]
    }
   ],
   "source": [
    "# view performance metrics\n",
    "performance_metrics(gridsearch_rf2, X_test, y_test)"
   ]
  },
  {
   "cell_type": "code",
   "execution_count": 89,
   "metadata": {},
   "outputs": [
    {
     "name": "stdout",
     "output_type": "stream",
     "text": [
      "(54, 16)\n"
     ]
    },
    {
     "data": {
      "text/html": [
       "<div>\n",
       "<style scoped>\n",
       "    .dataframe tbody tr th:only-of-type {\n",
       "        vertical-align: middle;\n",
       "    }\n",
       "\n",
       "    .dataframe tbody tr th {\n",
       "        vertical-align: top;\n",
       "    }\n",
       "\n",
       "    .dataframe thead th {\n",
       "        text-align: right;\n",
       "    }\n",
       "</style>\n",
       "<table border=\"1\" class=\"dataframe\">\n",
       "  <thead>\n",
       "    <tr style=\"text-align: right;\">\n",
       "      <th></th>\n",
       "      <th>mean_fit_time</th>\n",
       "      <th>std_fit_time</th>\n",
       "      <th>mean_score_time</th>\n",
       "      <th>std_score_time</th>\n",
       "      <th>param_criterion</th>\n",
       "      <th>param_max_depth</th>\n",
       "      <th>param_max_features</th>\n",
       "      <th>param_min_samples_leaf</th>\n",
       "      <th>param_min_samples_split</th>\n",
       "      <th>params</th>\n",
       "      <th>split0_test_score</th>\n",
       "      <th>split1_test_score</th>\n",
       "      <th>split2_test_score</th>\n",
       "      <th>mean_test_score</th>\n",
       "      <th>std_test_score</th>\n",
       "      <th>rank_test_score</th>\n",
       "    </tr>\n",
       "  </thead>\n",
       "  <tbody>\n",
       "    <tr>\n",
       "      <th>0</th>\n",
       "      <td>0.945939</td>\n",
       "      <td>0.013155</td>\n",
       "      <td>0.018245</td>\n",
       "      <td>0.000735</td>\n",
       "      <td>squared_error</td>\n",
       "      <td>75</td>\n",
       "      <td>auto</td>\n",
       "      <td>10</td>\n",
       "      <td>2</td>\n",
       "      <td>{'criterion': 'squared_error', 'max_depth': 75...</td>\n",
       "      <td>-0.488902</td>\n",
       "      <td>-0.446114</td>\n",
       "      <td>-0.417948</td>\n",
       "      <td>-0.450988</td>\n",
       "      <td>0.029171</td>\n",
       "      <td>1</td>\n",
       "    </tr>\n",
       "    <tr>\n",
       "      <th>1</th>\n",
       "      <td>0.997878</td>\n",
       "      <td>0.023809</td>\n",
       "      <td>0.019557</td>\n",
       "      <td>0.000672</td>\n",
       "      <td>squared_error</td>\n",
       "      <td>75</td>\n",
       "      <td>auto</td>\n",
       "      <td>10</td>\n",
       "      <td>10</td>\n",
       "      <td>{'criterion': 'squared_error', 'max_depth': 75...</td>\n",
       "      <td>-0.487764</td>\n",
       "      <td>-0.451567</td>\n",
       "      <td>-0.415416</td>\n",
       "      <td>-0.451582</td>\n",
       "      <td>0.029536</td>\n",
       "      <td>2</td>\n",
       "    </tr>\n",
       "  </tbody>\n",
       "</table>\n",
       "</div>"
      ],
      "text/plain": [
       "   mean_fit_time  std_fit_time  mean_score_time  std_score_time  \\\n",
       "0       0.945939      0.013155         0.018245        0.000735   \n",
       "1       0.997878      0.023809         0.019557        0.000672   \n",
       "\n",
       "  param_criterion param_max_depth param_max_features param_min_samples_leaf  \\\n",
       "0   squared_error              75               auto                     10   \n",
       "1   squared_error              75               auto                     10   \n",
       "\n",
       "  param_min_samples_split                                             params  \\\n",
       "0                       2  {'criterion': 'squared_error', 'max_depth': 75...   \n",
       "1                      10  {'criterion': 'squared_error', 'max_depth': 75...   \n",
       "\n",
       "   split0_test_score  split1_test_score  split2_test_score  mean_test_score  \\\n",
       "0          -0.488902          -0.446114          -0.417948        -0.450988   \n",
       "1          -0.487764          -0.451567          -0.415416        -0.451582   \n",
       "\n",
       "   std_test_score  rank_test_score  \n",
       "0        0.029171                1  \n",
       "1        0.029536                2  "
      ]
     },
     "execution_count": 89,
     "metadata": {},
     "output_type": "execute_result"
    }
   ],
   "source": [
    "# to better understand how the different parameters performed we can visualize the data\n",
    "results = pd.DataFrame(gridsearch_rf1.cv_results_)\n",
    "results.sort_values(by='mean_test_score', ascending=False, inplace=True)\n",
    "results.reset_index(drop=True, inplace=True)\n",
    "print(results.shape)\n",
    "\n",
    "results.head(2)"
   ]
  },
  {
   "cell_type": "code",
   "execution_count": 90,
   "metadata": {},
   "outputs": [
    {
     "data": {
      "text/plain": [
       "Text(0.5, 0, 'Hyperparameter combinations')"
      ]
     },
     "execution_count": 90,
     "metadata": {},
     "output_type": "execute_result"
    },
    {
     "data": {
      "image/png": "[encoded data removed]",
      "text/plain": [
       "<Figure size 432x288 with 1 Axes>"
      ]
     },
     "metadata": {
      "needs_background": "light"
     },
     "output_type": "display_data"
    }
   ],
   "source": [
    "# plot model performance and error\n",
    "results['mean_test_score'].plot(yerr=[results['std_test_score'], results['std_test_score']], subplots=True)\n",
    "\n",
    "plt.ylabel('Mean test score')\n",
    "plt.xlabel('Hyperparameter combinations')"
   ]
  },
  {
   "cell_type": "markdown",
   "metadata": {},
   "source": [
    "Random Forest model improved after hyperparameter tuning and is a little better than the baseline model."
   ]
  },
  {
   "cell_type": "markdown",
   "metadata": {},
   "source": [
    "## Model 4\n",
    "XGBoost"
   ]
  },
  {
   "cell_type": "code",
   "execution_count": 84,
   "metadata": {},
   "outputs": [
    {
     "name": "stdout",
     "output_type": "stream",
     "text": [
      "Test Mean Absolute Error : 2.22\n",
      "Test Mean Squared Error: 23.51\n",
      "Test Root Mean Square Error :$ 4.85\n",
      "Train Root Mean Square Error :$ 4.56\n"
     ]
    }
   ],
   "source": [
    "# set up xgboost model\n",
    "warnings.filterwarnings('ignore')\n",
    "\n",
    "xgbr = xgb.XGBRegressor()\n",
    "xgbr.fit(X_train, y_train)\n",
    "\n",
    "performance_metrics(xgbr, X_test, y_test)\n"
   ]
  },
  {
   "cell_type": "code",
   "execution_count": 92,
   "metadata": {},
   "outputs": [
    {
     "data": {
      "text/plain": [
       "{'learning_rate': 0.015, 'max_depth': 5, 'n_estimators': 800}"
      ]
     },
     "execution_count": 92,
     "metadata": {},
     "output_type": "execute_result"
    }
   ],
   "source": [
    "# block warning about deprecated int64\n",
    "warnings.filterwarnings('ignore')\n",
    "\n",
    "param_grid = {\"max_depth\":    [5, 6, 7],\n",
    "              \"n_estimators\": [600, 700, 800],\n",
    "              \"learning_rate\": [0.01, 0.015, 0.25]}\n",
    "\n",
    "xgb_search = GridSearchCV(xgbr, param_grid, cv=3, scoring='neg_mean_squared_error').fit(X_train, y_train)\n",
    "\n",
    "# Run search & takes a min or two\n",
    "xgb_search.fit(X_train, y_train.values.ravel())\n",
    "xgb_search.best_params_"
   ]
  },
  {
   "cell_type": "code",
   "execution_count": 93,
   "metadata": {},
   "outputs": [
    {
     "name": "stdout",
     "output_type": "stream",
     "text": [
      "Test Mean Absolute Error : 1.89\n",
      "Test Mean Squared Error: 10.98\n",
      "Test Root Mean Square Error :$ 3.31\n",
      "Train Root Mean Square Error :$ 2.76\n"
     ]
    }
   ],
   "source": [
    "# view performance metrics\n",
    "performance_metrics(xgb_search, X_test, y_test)"
   ]
  },
  {
   "cell_type": "code",
   "execution_count": 94,
   "metadata": {},
   "outputs": [
    {
     "name": "stdout",
     "output_type": "stream",
     "text": [
      "Test Mean Absolute Error : 3.27\n",
      "Test Mean Squared Error: 85.61\n",
      "Test Root Mean Square Error :$ 9.25\n",
      "Train Root Mean Square Error :$ 6.64\n"
     ]
    }
   ],
   "source": [
    "# make basic decision tree model\n",
    "from sklearn.tree import DecisionTreeRegressor\n",
    "\n",
    "tree_baseline = DecisionTreeRegressor()\n",
    "tree_baseline.fit(X_train, y_train)\n",
    "\n",
    "performance_metrics(tree_baseline,X_test,y_test)"
   ]
  },
  {
   "cell_type": "markdown",
   "metadata": {},
   "source": [
    "Decision Tree and Xgboost did much worse than the baseline model and the Random Forest models."
   ]
  },
  {
   "cell_type": "markdown",
   "metadata": {},
   "source": [
    "## 3. Feature Selection\n",
    "Feature selection algorithms can be seen as a combination of search techniques for suggesting which features to use in a model. In the Preprocessing notebook filter methods were used for feature selection, such as looking at corrilation. \n",
    "\n",
    "First atempt to use only the features with a significant F score for linear regression model and the random forest model since those are our best performing models. As well, we will attempt the LASSO method which is an embedded feature selection method, meaning feature selection is performed during the modeling algorithm's execution. "
   ]
  },
  {
   "cell_type": "code",
   "execution_count": 79,
   "metadata": {},
   "outputs": [],
   "source": [
    "# make the performance fuction again this time using selecet_test\n",
    "def performance_selection(model, select_test, y_test):\n",
    "    \n",
    "    scaler_y = StandardScaler()\n",
    "    scaler_y.fit(y_train)\n",
    "    \n",
    "    # get prediction on X_train\n",
    "    train_pred = model.predict(select_train)\n",
    "    # get prediction on X_test\n",
    "    # reshape to work with tree models\n",
    "    train_pred = train_pred.reshape(-1,1)\n",
    "    # inverse transform StandardScaler\n",
    "    train_pred_inv_SS = scaler_y.inverse_transform(train_pred)\n",
    "    # inverse transform BoxCox, lambda is from preprocessing notebook\n",
    "    train_pred_inv_BC = (inv_boxcox(train_pred_inv_SS,-0.0207010))\n",
    "    \n",
    "    # get prediction on X_test\n",
    "    test_pred = model.predict(select_test)\n",
    "    # reshape to work with tree models\n",
    "    test_pred = test_pred.reshape(-1,1)\n",
    "    # inverse transform StandardScaler\n",
    "    test_pred_inv_SS = scaler_y.inverse_transform(test_pred)\n",
    "    # inverse transform BoxCox\n",
    "    test_pred_inv_BC = (inv_boxcox(test_pred_inv_SS,-0.0207010))\n",
    "    \n",
    "    print(f'Test Mean Absolute Error : {round(mean_absolute_error(y_test,test_pred_inv_BC),2)}')\n",
    "    print(f'Test Mean Squared Error: {round(mean_squared_error(y_test,test_pred_inv_BC),2)}')\n",
    "    print(f'Test Root Mean Square Error :$ {round(np.sqrt(mean_squared_error(y_test,test_pred_inv_BC)),2)}')\n",
    "    print(f'Train Root Mean Square Error :$ {round(np.sqrt(mean_squared_error(y_train,train_pred_inv_BC)),2)}')"
   ]
  },
  {
   "cell_type": "code",
   "execution_count": 91,
   "metadata": {},
   "outputs": [
    {
     "data": {
      "text/plain": [
       "SelectFromModel(estimator=LinearRegression())"
      ]
     },
     "execution_count": 91,
     "metadata": {},
     "output_type": "execute_result"
    }
   ],
   "source": [
    "# try feature selection on linear regression model\n",
    "sel_linear = SelectFromModel(LinearRegression())\n",
    "\n",
    "sel_linear.fit(X_train, y_train)"
   ]
  },
  {
   "cell_type": "code",
   "execution_count": 92,
   "metadata": {},
   "outputs": [
    {
     "data": {
      "text/plain": [
       "43"
      ]
     },
     "execution_count": 92,
     "metadata": {},
     "output_type": "execute_result"
    }
   ],
   "source": [
    "# let's count the number of variables selected\n",
    "selected_feat_linear = X_train.columns[(sel_linear.get_support())]\n",
    "\n",
    "len(selected_feat_linear)"
   ]
  },
  {
   "cell_type": "code",
   "execution_count": 93,
   "metadata": {},
   "outputs": [
    {
     "name": "stdout",
     "output_type": "stream",
     "text": [
      "total features: 127\n",
      "selected features: 43\n",
      "features with coefficients greater than the mean coefficient: 43\n"
     ]
    }
   ],
   "source": [
    "print('total features: {}'.format((X_train.shape[1])))\n",
    "\n",
    "print('selected features: {}'.format(len(selected_feat_linear)))\n",
    "\n",
    "print(\n",
    "    'features with coefficients greater than the mean coefficient: {}'.format(\n",
    "        np.sum(\n",
    "            np.abs(sel_linear.estimator_.coef_) > np.abs(\n",
    "                sel_linear.estimator_.coef_).mean())))"
   ]
  },
  {
   "cell_type": "code",
   "execution_count": 94,
   "metadata": {},
   "outputs": [],
   "source": [
    "# create X train and test for just selected features\n",
    "select_train = X_train[selected_feat_linear]\n",
    "select_test = X_test[selected_feat_linear]"
   ]
  },
  {
   "cell_type": "code",
   "execution_count": 95,
   "metadata": {},
   "outputs": [
    {
     "name": "stdout",
     "output_type": "stream",
     "text": [
      "<class 'pandas.core.frame.DataFrame'>\n",
      "RangeIndex: 3793 entries, 0 to 3792\n",
      "Data columns (total 43 columns):\n",
      " #   Column                                          Non-Null Count  Dtype  \n",
      "---  ------                                          --------------  -----  \n",
      " 0   bathrooms                                       3793 non-null   float64\n",
      " 1   bedrooms                                        3793 non-null   float64\n",
      " 2   beds                                            3793 non-null   float64\n",
      " 3   availability_30                                 3793 non-null   float64\n",
      " 4   neighbourhood_Bayou St. John                    3793 non-null   float64\n",
      " 5   neighbourhood_Bywater                           3793 non-null   float64\n",
      " 6   neighbourhood_Leonidas                          3793 non-null   float64\n",
      " 7   neighbourhood_Central Business District         3793 non-null   float64\n",
      " 8   neighbourhood_Irish Channel                     3793 non-null   float64\n",
      " 9   neighbourhood_French Quarter                    3793 non-null   float64\n",
      " 10  neighbourhood_Lower Garden District             3793 non-null   float64\n",
      " 11  neighbourhood_Mid-City                          3793 non-null   float64\n",
      " 12  neighbourhood_St. Roch                          3793 non-null   float64\n",
      " 13  neighbourhood_Treme - Lafitte                   3793 non-null   float64\n",
      " 14  neighbourhood_Central City                      3793 non-null   float64\n",
      " 15  neighbourhood_Fairgrounds                       3793 non-null   float64\n",
      " 16  neighbourhood_Seventh Ward                      3793 non-null   float64\n",
      " 17  neighbourhood_City Park                         3793 non-null   float64\n",
      " 18  neighbourhood_Milan                             3793 non-null   float64\n",
      " 19  neighbourhood_Marigny                           3793 non-null   float64\n",
      " 20  neighbourhood_West Riverside                    3793 non-null   float64\n",
      " 21  neighbourhood_St. Thomas Dev                    3793 non-null   float64\n",
      " 22  neighbourhood_East Riverside                    3793 non-null   float64\n",
      " 23  neighbourhood_Uptown                            3793 non-null   float64\n",
      " 24  neighbourhood_St. Claude                        3793 non-null   float64\n",
      " 25  neighbourhood_Audubon                           3793 non-null   float64\n",
      " 26  neighbourhood_Tulane - Gravier                  3793 non-null   float64\n",
      " 27  neighbourhood_Marlyville - Fontainbleau         3793 non-null   float64\n",
      " 28  neighbourhood_Broadmoor                         3793 non-null   float64\n",
      " 29  neighbourhood_Garden District                   3793 non-null   float64\n",
      " 30  property_type_Entire rental unit                3793 non-null   float64\n",
      " 31  property_type_Entire residential home           3793 non-null   float64\n",
      " 32  property_type_Private room in residential home  3793 non-null   float64\n",
      " 33  property_type_Entire guest suite                3793 non-null   float64\n",
      " 34  property_type_Entire townhouse                  3793 non-null   float64\n",
      " 35  property_type_Room in boutique hotel            3793 non-null   float64\n",
      " 36  property_type_Entire condominium (condo)        3793 non-null   float64\n",
      " 37  property_type_Room in hotel                     3793 non-null   float64\n",
      " 38  property_type_Entire cottage                    3793 non-null   float64\n",
      " 39  property_type_Entire guesthouse                 3793 non-null   float64\n",
      " 40  property_type_Entire serviced apartment         3793 non-null   float64\n",
      " 41  property_type_Entire loft                       3793 non-null   float64\n",
      " 42  room_type_Private room                          3793 non-null   float64\n",
      "dtypes: float64(43)\n",
      "memory usage: 1.2 MB\n"
     ]
    }
   ],
   "source": [
    "# take a look the features that were selected\n",
    "select_train.info()"
   ]
  },
  {
   "cell_type": "markdown",
   "metadata": {},
   "source": [
    "We see here that top important features are all categorical, this is a good indicator to why feature selection is proving not be that benificial to the models. It is important to have some continious features in a predictive model. "
   ]
  },
  {
   "cell_type": "code",
   "execution_count": 96,
   "metadata": {},
   "outputs": [
    {
     "name": "stdout",
     "output_type": "stream",
     "text": [
      "Test Mean Absolute Error : 1.47\n",
      "Test Mean Squared Error: 4.18\n",
      "Test Root Mean Square Error :$ 2.04\n",
      "Train Root Mean Square Error :$ 1.43\n"
     ]
    }
   ],
   "source": [
    "# fit selected features to linear regression model\n",
    "linear_sel = LinearRegression()\n",
    "linear_sel.fit(select_train, y_train)\n",
    "\n",
    "# view performance of model\n",
    "performance_selection(linear_sel, select_test, y_test)"
   ]
  },
  {
   "cell_type": "code",
   "execution_count": 101,
   "metadata": {},
   "outputs": [
    {
     "name": "stdout",
     "output_type": "stream",
     "text": [
      "Test Mean Absolute Error : 1.45\n",
      "Test Mean Squared Error: 4.09\n",
      "Test Root Mean Square Error :$ 2.02\n",
      "Train Root Mean Square Error :$ 1.39\n"
     ]
    }
   ],
   "source": [
    "# fit selected features to linear regression model\n",
    "RandomForest_sel = gridsearch_rf1\n",
    "RandomForest_sel.fit(select_train, y_train)\n",
    "\n",
    "# view performance of model\n",
    "performance_selection(RandomForest_sel, select_test, y_test)"
   ]
  },
  {
   "cell_type": "code",
   "execution_count": 97,
   "metadata": {},
   "outputs": [
    {
     "data": {
      "text/plain": [
       "SelectFromModel(estimator=Lasso(alpha=1, random_state=10))"
      ]
     },
     "execution_count": 97,
     "metadata": {},
     "output_type": "execute_result"
    }
   ],
   "source": [
    "# set up Lasso for linear regression\n",
    "from sklearn.feature_selection import SelectFromModel\n",
    "from sklearn.linear_model import Lasso\n",
    "lasso = SelectFromModel(Lasso(alpha=1, random_state=10))\n",
    "lasso.fit(X_train, y_train)"
   ]
  },
  {
   "cell_type": "code",
   "execution_count": 98,
   "metadata": {},
   "outputs": [
    {
     "name": "stdout",
     "output_type": "stream",
     "text": [
      "total features: 127\n",
      "selected features: 0\n",
      "features with coefficients shrank to zero: 127\n"
     ]
    }
   ],
   "source": [
    "# make a list with the selected features and print the outputs\n",
    "selected_feat = X_train.columns[(lasso.get_support())]\n",
    "\n",
    "print('total features: {}'.format((X_train.shape[1])))\n",
    "print('selected features: {}'.format(len(selected_feat)))\n",
    "print('features with coefficients shrank to zero: {}'.format(\n",
    "    np.sum(lasso.estimator_.coef_ == 0)))"
   ]
  },
  {
   "cell_type": "markdown",
   "metadata": {},
   "source": [
    "Lasso shows to be not helpful as all coefficients were shrank to zero but one variable. "
   ]
  },
  {
   "cell_type": "markdown",
   "metadata": {},
   "source": [
    "### Using filter method ANOVA "
   ]
  },
  {
   "cell_type": "code",
   "execution_count": 165,
   "metadata": {},
   "outputs": [
    {
     "data": {
      "text/plain": [
       "<AxesSubplot:>"
      ]
     },
     "execution_count": 165,
     "metadata": {},
     "output_type": "execute_result"
    },
    {
     "data": {
      "image/png": "[encoded data removed]",
      "text/plain": [
       "<Figure size 1440x432 with 1 Axes>"
      ]
     },
     "metadata": {
      "needs_background": "light"
     },
     "output_type": "display_data"
    }
   ],
   "source": [
    "# Run ANOVA test to get a understanding of possible dependency \n",
    "from sklearn.feature_selection import f_regression\n",
    "anova = f_regression(X_train, y_train)\n",
    "\n",
    "# plot values\n",
    "anova = pd.Series(anova[1])\n",
    "anova.index = X_train.columns\n",
    "anova.sort_values(ascending=False).plot.bar(figsize=(20,6))"
   ]
  },
  {
   "cell_type": "code",
   "execution_count": 166,
   "metadata": {},
   "outputs": [],
   "source": [
    "# select the top 20% of features based on dependancy\n",
    "from sklearn.feature_selection import SelectKBest, SelectPercentile\n",
    "percentile = SelectPercentile(f_regression,\n",
    "                        percentile=20).fit(X_train, y_train)\n",
    "\n",
    "# display selected feature names\n",
    "precent20_cols = X_train.columns[percentile.get_support()]"
   ]
  },
  {
   "cell_type": "code",
   "execution_count": 167,
   "metadata": {},
   "outputs": [
    {
     "data": {
      "text/plain": [
       "Index(['bathrooms', 'bedrooms', 'beds', 'minimum_nights', 'availability_30',\n",
       "       'availability_365', 'number_of_reviews', 'review_scores_rating',\n",
       "       'review_scores_location', 'neighbourhood_Leonidas',\n",
       "       'neighbourhood_Central Business District',\n",
       "       'neighbourhood_French Quarter', 'neighbourhood_St. Claude',\n",
       "       'property_type_Entire rental unit',\n",
       "       'property_type_Entire residential home',\n",
       "       'property_type_Private room in guest suite',\n",
       "       'property_type_Private room in residential home',\n",
       "       'property_type_Shared room in residential home',\n",
       "       'property_type_Entire guest suite', 'property_type_Entire townhouse',\n",
       "       'property_type_Entire condominium (condo)',\n",
       "       'property_type_Private room in rental unit',\n",
       "       'property_type_Entire serviced apartment', 'room_type_Private room',\n",
       "       'room_type_Shared room', 'instant_bookable_t'],\n",
       "      dtype='object')"
      ]
     },
     "execution_count": 167,
     "metadata": {},
     "output_type": "execute_result"
    }
   ],
   "source": [
    "# once again we see that many of these featuers are categorical\n",
    "precent20_cols "
   ]
  },
  {
   "cell_type": "code",
   "execution_count": 168,
   "metadata": {},
   "outputs": [],
   "source": [
    "# create X train and test for just selected features\n",
    "select_train = X_train.drop(precent20_cols, axis=1)\n",
    "select_test = X_test.drop(precent20_cols, axis=1)"
   ]
  },
  {
   "cell_type": "code",
   "execution_count": 169,
   "metadata": {},
   "outputs": [
    {
     "name": "stdout",
     "output_type": "stream",
     "text": [
      "Test Mean Absolute Error : 1.47\n",
      "Test Mean Squared Error: 4.18\n",
      "Test Root Mean Square Error :$ 2.04\n",
      "Train Root Mean Square Error :$ 1.43\n"
     ]
    }
   ],
   "source": [
    "# fit the selected features of linear regression\n",
    "precent20 = LinearRegression()\n",
    "precent20.fit(select_train, y_train)\n",
    "\n",
    "performance_selection(precent20, select_test, y_test)"
   ]
  },
  {
   "cell_type": "code",
   "execution_count": 170,
   "metadata": {},
   "outputs": [
    {
     "name": "stdout",
     "output_type": "stream",
     "text": [
      "Test Mean Absolute Error : 1.45\n",
      "Test Mean Squared Error: 4.09\n",
      "Test Root Mean Square Error :$ 2.02\n",
      "Train Root Mean Square Error :$ 1.39\n"
     ]
    }
   ],
   "source": [
    "# fit the selected features of linear regression\n",
    "precent20_rf = gridsearch_rf1\n",
    "precent20_rf.fit(select_train, y_train)\n",
    "\n",
    "performance_selection(precent20_rf, select_test, y_test)"
   ]
  },
  {
   "cell_type": "markdown",
   "metadata": {},
   "source": [
    "Feature selection methods have only hurt our model so far."
   ]
  },
  {
   "cell_type": "markdown",
   "metadata": {},
   "source": [
    "### Removing neighboorhood data\n",
    "\n",
    "Over half the features in this analysis are different neighboorhoods, we can see if there is any change if we dont take the neighbourhood features into account. Many models can be bais or in a way confused by the weak relationships it finds between the categorical features. "
   ]
  },
  {
   "cell_type": "code",
   "execution_count": 118,
   "metadata": {},
   "outputs": [],
   "source": [
    "# remove all neighboorhood columns for both test and train sets\n",
    "select_train = X_train[X_train.columns.drop(list(X_train.filter(regex='neighbourhood')))]\n",
    "select_test = X_test[X_test.columns.drop(list(X_test.filter(regex='neighbourhood')))]"
   ]
  },
  {
   "cell_type": "code",
   "execution_count": 120,
   "metadata": {},
   "outputs": [
    {
     "name": "stdout",
     "output_type": "stream",
     "text": [
      "Test Mean Absolute Error : 1.65\n",
      "Test Mean Squared Error: 5.63\n",
      "Test Root Mean Square Error :$ 2.37\n",
      "Train Root Mean Square Error :$ 2.02\n"
     ]
    }
   ],
   "source": [
    "# fit model\n",
    "gridsearch_rf1.fit(select_train, y_train)\n",
    "\n",
    "# view performance \n",
    "performance_selection(gridsearch_rf1, select_test, y_test)"
   ]
  },
  {
   "cell_type": "markdown",
   "metadata": {},
   "source": [
    "We see that removing the neighbourhood data did not prove to help the model."
   ]
  },
  {
   "cell_type": "markdown",
   "metadata": {},
   "source": [
    "### Exploring other options\n",
    "Similar to feature to selection we can look at principal component analysis to help reduce dimensionality of the dataset."
   ]
  },
  {
   "cell_type": "code",
   "execution_count": 105,
   "metadata": {},
   "outputs": [
    {
     "data": {
      "text/plain": [
       "PCA(n_components=115)"
      ]
     },
     "execution_count": 105,
     "metadata": {},
     "output_type": "execute_result"
    }
   ],
   "source": [
    "# set up pca\n",
    "pca_model = PCA(n_components=115)\n",
    "\n",
    "# fit on X_train\n",
    "pca_model.fit(X_train)"
   ]
  },
  {
   "cell_type": "code",
   "execution_count": 106,
   "metadata": {},
   "outputs": [
    {
     "data": {
      "text/plain": [
       "0.9778788004122565"
      ]
     },
     "execution_count": 106,
     "metadata": {},
     "output_type": "execute_result"
    }
   ],
   "source": [
    "# \n",
    "np.sum(pca_model.explained_variance_ratio_)"
   ]
  },
  {
   "cell_type": "code",
   "execution_count": 107,
   "metadata": {},
   "outputs": [],
   "source": [
    "# get explained variance for X_train\n",
    "explained_variance = []\n",
    "\n",
    "for n in range(1,115):\n",
    "    \n",
    "    pca= PCA(n_components=n)\n",
    "    pca.fit(X_train)\n",
    "    \n",
    "    explained_variance.append(np.sum(pca.explained_variance_ratio_))"
   ]
  },
  {
   "cell_type": "code",
   "execution_count": 108,
   "metadata": {},
   "outputs": [
    {
     "data": {
      "text/plain": [
       "Text(0, 0.5, 'Variance Explained')"
      ]
     },
     "execution_count": 108,
     "metadata": {},
     "output_type": "execute_result"
    },
    {
     "data": {
      "image/png": "[encoded data removed]",
      "text/plain": [
       "<Figure size 432x288 with 1 Axes>"
      ]
     },
     "metadata": {
      "needs_background": "light"
     },
     "output_type": "display_data"
    }
   ],
   "source": [
    "# view the explained variance for the different number of features\n",
    "plt.plot(range(1,115), explained_variance)\n",
    "plt.xlabel('Num of Componets')\n",
    "plt.ylabel('Variance Explained')"
   ]
  },
  {
   "cell_type": "code",
   "execution_count": 109,
   "metadata": {},
   "outputs": [],
   "source": [
    "# pick number of features to use for model based of of plot\n",
    "pca_model_95 = PCA(n_components=95)"
   ]
  },
  {
   "cell_type": "code",
   "execution_count": 110,
   "metadata": {},
   "outputs": [],
   "source": [
    "# create X train and test for just selected features\n",
    "select_train = pca_model_95.fit_transform(X_train)\n",
    "select_test = pca_model_95.transform(X_test)"
   ]
  },
  {
   "cell_type": "code",
   "execution_count": 111,
   "metadata": {},
   "outputs": [
    {
     "data": {
      "text/plain": [
       "LinearRegression()"
      ]
     },
     "execution_count": 111,
     "metadata": {},
     "output_type": "execute_result"
    }
   ],
   "source": [
    "# fit on linear regression model\n",
    "lr_base.fit(select_train, y_train)"
   ]
  },
  {
   "cell_type": "code",
   "execution_count": 112,
   "metadata": {},
   "outputs": [
    {
     "name": "stdout",
     "output_type": "stream",
     "text": [
      "Test Mean Absolute Error : 1.6\n",
      "Test Mean Squared Error: 5.54\n",
      "Test Root Mean Square Error :$ 2.35\n",
      "Train Root Mean Square Error :$ 1.95\n"
     ]
    }
   ],
   "source": [
    "# view performance\n",
    "performance_selection(lr_base, select_test, y_test)"
   ]
  },
  {
   "cell_type": "markdown",
   "metadata": {},
   "source": [
    "## 5. Results\n",
    "---\n",
    "\n",
    "### The Final Model:\n",
    "The final model in this analysis is the model with the lowest RMSE which was a Random Forest model. The Random Forest Model went through hyperparameter tuning using GridsearchCV and feature selection was performed using the top 20 percent of features found by using filter method ANOVA. "
   ]
  },
  {
   "cell_type": "code",
   "execution_count": 171,
   "metadata": {},
   "outputs": [
    {
     "data": {
      "text/plain": [
       "{'criterion': 'squared_error',\n",
       " 'max_depth': 75,\n",
       " 'max_features': 'sqrt',\n",
       " 'min_samples_leaf': 10,\n",
       " 'min_samples_split': 5}"
      ]
     },
     "execution_count": 171,
     "metadata": {},
     "output_type": "execute_result"
    }
   ],
   "source": [
    "# recall the parameters of the best performing Random Forest model\n",
    "gridsearch_rf1.best_params_"
   ]
  },
  {
   "cell_type": "code",
   "execution_count": 173,
   "metadata": {},
   "outputs": [
    {
     "name": "stdout",
     "output_type": "stream",
     "text": [
      "Final Model Metrics:\n",
      "Test Mean Absolute Error : 1.45\n",
      "Test Mean Squared Error: 4.09\n",
      "Test Root Mean Square Error :$ 2.02\n",
      "Train Root Mean Square Error :$ 1.39\n"
     ]
    },
    {
     "data": {
      "text/plain": [
       "<Figure size 432x288 with 0 Axes>"
      ]
     },
     "metadata": {},
     "output_type": "display_data"
    }
   ],
   "source": [
    "# recall results of best perfoming model after tuning and feature selection\n",
    "\n",
    "print('Final Model Metrics:')\n",
    "performance_selection(precent20_rf, select_test, y_test)\n",
    "\n",
    "# Save as image\n",
    "plt.savefig(\"Images/model_results.png\", dpi=150, bbox_inches = \"tight\")"
   ]
  },
  {
   "cell_type": "markdown",
   "metadata": {},
   "source": [
    "Random Forest models work well here since they are more robost to outliers and have a lower rist of over fitting than some other models. However it is important to keep in mind that Random Forest models are sensitive to categorical data which this dataset does contain a good amount of. "
   ]
  },
  {
   "cell_type": "markdown",
   "metadata": {},
   "source": [
    "#### What can be learned from this analysis?\n",
    "\n",
    "The goal of this analysis was to gain information about the New Orleans short term rental market using exploratory data analysis and a price predictive model that Ms. Alter could use as in aid while searching for an investment property.\n",
    "\n",
    "The exploratory Data Analysis (EDA) can assist in making general assumptions about New Orleans' short term rental market, that you can use to help narrow down properties in your search. EDA showed which neighborhoods had the most airbnbs and which neighborhoods had the most expensive rentals. EDA also showed that entire properties book more and rent for more than shared properties. \n",
    "\n",
    "The machine learning analysis showed that there is enough good data to develop a predictive model that correctly predicts the nightly rate within $2.02. The final model had an MAE of 1.45 on the test set. The MAE is a metric that gives us the absolute difference between actual and predicted values. Having a well performing predictive model will prove helpful when comparing properties to buy and help you determine not only the price point you should expect to rent a property at but also help you decide what your purchase price for a property should be around to get the ROI that works for you. \n",
    "\n",
    "The final model had a RMSE of $2.02 which is the root square error of the entire model's error. The RMSE helps us understand how spread out the data is around the line of best fit by using the difference between the observed values and the predicted values. The final model went through feature selection. Feature selection can help improve a model because it can reduce overfitting and remove possible redundant features, which helps remove noise that can harm and distract the data. As well, feature selection in this analysis removed mostly categorical features but kept most of the continuous features. Having a goo"
   ]
  },
  {
   "cell_type": "markdown",
   "metadata": {},
   "source": [
    "## 6. Conclusion\n",
    "---\n",
    "\n",
    "The business problem was to gain an a general understanding of New Orleans, LA short term rental market and make a predictive model for the nightly price of an Airbnb in New Orleans. This analysis was completed for Sarah Alter, a private investor, who is interested in expanding her vacation rental portfolio to New Orleans. This analysis is to be used as a guide as Alter starts her search for a new property. To help Alter reach her goal, exploratory data analysis is used to get an overview of the market. This analysis also provides a price predicting model. A predictive model would be informative when applied to current properties on the market to help Alter get a grasp on what nightly rates she can expect based on specific features of the property. \n",
    "\n",
    "The final model was a Random Forest model. In summary this analysis showed:\n",
    "- The final model had an RMSE of $2.02 on the test set.\n",
    "- The final model had a MAE of 1.45 on the test set.\n",
    "- The Exploratory Data Analysis shows to be informative in getting an general understanding of the New Orleans' Short term rental market to aid Alter in her property search. Such as which neighborhoods have the highest priced airbnbs and the lowest availability. "
   ]
  },
  {
   "cell_type": "markdown",
   "metadata": {},
   "source": [
    "#### Next steps:\n",
    "\n",
    "Adding more continuous & relevant variables. New Orleans is a large city and even within each neighborhood price data can vary. Reflecting on what makes a Short Term Rental attractive to tourists and adding those features into the model can help get even a better representation of the New Orleans market. Such features which might be interesting to add is distance to the airport and top tourist attractions. More features can be added to this model using API to source this data from places such as Google Earth. \n",
    "\n",
    "Take into consideration seasonality. This dataset is based around November 7, 2021. However, it is not noted whether it is the main season for New Orleans or not. Importing data from Inside Airbnb for different times of the year might show different price predictions and endup changing your expected ROI.  \n",
    "\n",
    "Use what was gathered from EDA to further investigate specific neighborhoods. EDA showed which neighborhoods had the most Airbnbs. Researching those neighborhoods might show that they have benefits that other neighborhoods don't, such as less restrictions or qualifications placed on them by the city or county.\n",
    " "
   ]
  }
 ],
 "metadata": {
  "kernelspec": {
   "display_name": "predictive-env",
   "language": "python",
   "name": "nlp-env"
  },
  "language_info": {
   "codemirror_mode": {
    "name": "ipython",
    "version": 3
   },
   "file_extension": ".py",
   "mimetype": "text/x-python",
   "name": "python",
   "nbconvert_exporter": "python",
   "pygments_lexer": "ipython3",
   "version": "3.9.12"
  }
 },
 "nbformat": 4,
 "nbformat_minor": 5
}
