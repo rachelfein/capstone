{
 "cells": [
  {
   "cell_type": "markdown",
   "id": "b06fadee",
   "metadata": {},
   "source": [
    "## Table of Contents\n",
    "\n",
    "1. [Overview](#1.-Overview-of-Modeling-Notebook)\n",
    "1. [Preprocessing](#1.-Preprocessing)\n",
    "2. [Modeling](#2.-Modeling)\n",
    "3. [Feature Selection](#3.-Feature-Selection)\n",
    "5. [Results](#5.-Results)\n",
    "6. [Conclusion](#6.-Conclusion)\n",
    "\n",
    "Click here to jump to [Exploratory Data Analysis](./Exploratory_Data_Analysis.ipynb)\n",
    "\n",
    "---"
   ]
  },
  {
   "cell_type": "markdown",
   "id": "2ad50b99",
   "metadata": {},
   "source": [
    "## 1. Overview of Modeling Notebook\n",
    "\n",
    "This notebook continues from the [Exploratory Data Analysis](./Exploratory_Data_Analysis.ipynb), where data understanding and data visualization took place.\n",
    "\n",
    "During data preprocessing, outliers were removed, categorical data was encoded, skewed columns were transformed, and the data was standardized. Outliers were removed using the IQR method. Categorical data was encoded using OneHotEncoder and OrdinalEncoder both from feature_engine. Skewed columns were transformed using the Box-Cox method in PowerTransformer from Sklearn. The data was standardized using StandardScaler from sklearn. \n",
    "\n",
    "A baseline model was created and future models were compared to the baseline model to determine if the model’s performance was being improved. The main performance metric used to evaluate the success of the model was the Root Mean Square Error. The Mean Absolute Error and Root Square Error were also taken into account when evaluating the model's performance. Multiple different types of models were run and GridsearchCV was used to attempt to improve the models. Feature selection was implemented on the two best performing models (Linear Regression and Random Forest). Feature selection methods implemented were ANOVA, Lasso, and using only features of top importance determined by the coefficients. "
   ]
  },
  {
   "cell_type": "markdown",
   "id": "fb04fae4",
   "metadata": {},
   "source": [
    "## 2. Preprocessing\n",
    "\n",
    "### Data preprocessing & Continued Exploratory Analysis\n",
    "Further exploratory analysis will give us a better look at outliers, multicollinearity, normality, and homoscedasticity. Exploratory analysis is a good way to better understand what preprocessing steps need to be made as we prepare for modeling.\n",
    "\n",
    "Before we remove outliers or do any more preprocessing I will split the data into test and training sets to avoid data leakage."
   ]
  },
  {
   "cell_type": "code",
   "execution_count": 1,
   "id": "6bd05fe9",
   "metadata": {
    "scrolled": true
   },
   "outputs": [
    {
     "name": "stderr",
     "output_type": "stream",
     "text": [
      "/Users/rachelfein/opt/anaconda3/envs/predictive-env/lib/python3.9/site-packages/xgboost/compat.py:36: FutureWarning: pandas.Int64Index is deprecated and will be removed from pandas in a future version. Use pandas.Index with the appropriate dtype instead.\n",
      "  from pandas import MultiIndex, Int64Index\n"
     ]
    }
   ],
   "source": [
    "# import all packages needed for modeling\n",
    "import pandas as pd\n",
    "import numpy as np\n",
    "import seaborn as sns\n",
    "from feature_engine.encoding import OrdinalEncoder\n",
    "from feature_engine.encoding import OneHotEncoder as fe_OneHotEncoder\n",
    "import matplotlib.pyplot as plt\n",
    "import matplotlib as mpl\n",
    "from scipy import stats\n",
    "from scipy.special import boxcox\n",
    "from scipy.special import inv_boxcox\n",
    "import scipy.stats as stats\n",
    "from sklearn.model_selection import train_test_split\n",
    "from sklearn.preprocessing import StandardScaler\n",
    "from sklearn.preprocessing import FunctionTransformer\n",
    "from sklearn.model_selection import GridSearchCV\n",
    "from sklearn.linear_model import LinearRegression\n",
    "from sklearn.metrics import mean_absolute_error\n",
    "from sklearn.metrics import mean_squared_error\n",
    "from sklearn.metrics import r2_score\n",
    "from sklearn.ensemble import RandomForestClassifier\n",
    "from sklearn.ensemble import RandomForestRegressor\n",
    "from sklearn.feature_selection import SelectKBest\n",
    "from sklearn.feature_selection import SelectPercentile\n",
    "from sklearn.decomposition import PCA\n",
    "from sklearn.model_selection import train_test_split\n",
    "from sklearn.preprocessing import FunctionTransformer\n",
    "from sklearn.preprocessing import PowerTransformer\n",
    "from sklearn.feature_selection import VarianceThreshold\n",
    "from sklearn.feature_selection import SelectFromModel\n",
    "import statsmodels.api as sm\n",
    "from statsmodels.stats.outliers_influence import variance_inflation_factor\n",
    "import xgboost as xgb\n",
    "import warnings\n",
    "import pylab\n",
    "from patsy import dmatrices"
   ]
  },
  {
   "cell_type": "code",
   "execution_count": 2,
   "id": "44408f28",
   "metadata": {},
   "outputs": [],
   "source": [
    "# Import df from EDA & Preprocessing Notebook\n",
    "regression = pd.read_csv('Data/regression.csv')"
   ]
  },
  {
   "cell_type": "code",
   "execution_count": 3,
   "id": "8316c3ec",
   "metadata": {},
   "outputs": [],
   "source": [
    "# rename columns to make them easier to understand\n",
    "regression.rename(columns = {'bathrooms_text': 'bathrooms', 'neighbourhood_cleansed':'neighbourhood'}, inplace=True)"
   ]
  },
  {
   "cell_type": "code",
   "execution_count": 4,
   "id": "fa7d4eb7",
   "metadata": {},
   "outputs": [
    {
     "data": {
      "text/plain": [
       "((4515, 24), (1506, 24))"
      ]
     },
     "execution_count": 4,
     "metadata": {},
     "output_type": "execute_result"
    }
   ],
   "source": [
    "# perform a test train split\n",
    "df_train, df_test = train_test_split(regression,random_state=42)\n",
    "df_train.shape,df_test.shape"
   ]
  },
  {
   "cell_type": "markdown",
   "id": "9251ed05",
   "metadata": {},
   "source": [
    "Before outliers are removed we should run through some basic filter methods to make sure that we do not have constant or duplicated features. Even though this dataset does not have a ton of different features, it still is good practice to check for constant features. These are features that show a high percentage of the same value & they should be removed because in essence they are the same."
   ]
  },
  {
   "cell_type": "code",
   "execution_count": 5,
   "id": "94c9ba90",
   "metadata": {},
   "outputs": [
    {
     "data": {
      "text/plain": [
       "VarianceThreshold(threshold=0.01)"
      ]
     },
     "execution_count": 5,
     "metadata": {},
     "output_type": "execute_result"
    }
   ],
   "source": [
    "# check for quasi constant numerical variables\n",
    "num_cols = ['bedrooms', 'beds', 'accommodates','price',\n",
    "       'maximum_nights', 'minimum_nights','availability_30',\n",
    "       'availability_365', 'number_of_reviews',\n",
    "       'review_scores_rating','availability_90',\n",
    "       'review_scores_cleanliness', 'review_scores_checkin',\n",
    "       'review_scores_communication', 'review_scores_location',\n",
    "       'review_scores_value']\n",
    "\n",
    "thresh = VarianceThreshold(threshold=0.01)  \n",
    "\n",
    "thresh.fit(df_train[num_cols])"
   ]
  },
  {
   "cell_type": "code",
   "execution_count": 6,
   "id": "758db610",
   "metadata": {},
   "outputs": [
    {
     "data": {
      "text/plain": [
       "16"
      ]
     },
     "execution_count": 6,
     "metadata": {},
     "output_type": "execute_result"
    }
   ],
   "source": [
    "# double check that our variables are stored\n",
    "sum(thresh.get_support())"
   ]
  },
  {
   "cell_type": "code",
   "execution_count": 7,
   "id": "fda3ea75",
   "metadata": {},
   "outputs": [
    {
     "data": {
      "text/plain": [
       "0"
      ]
     },
     "execution_count": 7,
     "metadata": {},
     "output_type": "execute_result"
    }
   ],
   "source": [
    "# let's print the number of quasi-constant features & we see that there are any numerical columns that are quasi_constant\n",
    "quasi_constant = df_train[num_cols].columns[~thresh.get_support()]\n",
    "\n",
    "len(quasi_constant)"
   ]
  },
  {
   "cell_type": "markdown",
   "id": "103ee9e9",
   "metadata": {},
   "source": [
    "The following code was modified from Data Scientist and Educator [Galli Sole's Notebook](https://github.com/solegalli/feature-selection-for-machine-learning/blob/main/03-Constant-Quasi-Constant-Duplicates/03.2-Quasi-constant-features.ipynb) on feature selection."
   ]
  },
  {
   "cell_type": "code",
   "execution_count": 8,
   "id": "9bd63249",
   "metadata": {},
   "outputs": [
    {
     "data": {
      "text/plain": [
       "0"
      ]
     },
     "execution_count": 8,
     "metadata": {},
     "output_type": "execute_result"
    }
   ],
   "source": [
    "# Look for quasi_constant features in cat cols\n",
    "cat_cols = ['host_is_superhost', 'neighbourhood', 'property_type', 'room_type','instant_bookable']\n",
    "train_cat = df_train[cat_cols]\n",
    "\n",
    "quasi_constant_var = []\n",
    "\n",
    "# iterate over every feature\n",
    "for var in train_cat.columns:\n",
    "\n",
    "    # find predominant value for each variable\n",
    "    predominant = train_cat[var].value_counts(\n",
    "        normalize=True).sort_values(ascending=False).values[0]\n",
    "\n",
    "    # 99% of values are the same\n",
    "    if predominant > 0.998:\n",
    "\n",
    "        # make list if yest\n",
    "        quasi_constant_feat.append(var)\n",
    "\n",
    "len(quasi_constant_var)"
   ]
  },
  {
   "cell_type": "markdown",
   "id": "f4129f85",
   "metadata": {},
   "source": [
    "#### Remove outliers\n",
    "Only remove outliers from the training set. Removing a lot of outliers is not ideal since we don't want to lose data. From data exploration we know that there are extreme outliers in many of the columns. With this dataset being smaller, removing outliers will hopefully help our model's performance. "
   ]
  },
  {
   "cell_type": "code",
   "execution_count": 9,
   "id": "a6c4aec9",
   "metadata": {},
   "outputs": [],
   "source": [
    "# Make functions to easily view distribution\n",
    "def plot_distribution(df_train, col='price'):\n",
    "    # Plot displot + mean and mean\n",
    "    median = df_train[col].median()\n",
    "    mean = df_train[col].mean()\n",
    "    fig, ax = plt.subplots(figsize=(5,5))\n",
    "    sns.histplot(data=df_train[col], ax=ax)\n",
    "\n",
    "    ax.set_title(F\"Distribution of {col}\")\n",
    "    ax.axvline(median,label=f'median={median:,}',color='black')\n",
    "    ax.axvline(mean,label=f'mean={mean:,}',color='black',ls=':')\n",
    "    ax.legend()"
   ]
  },
  {
   "cell_type": "code",
   "execution_count": 10,
   "id": "479206e0",
   "metadata": {},
   "outputs": [],
   "source": [
    "# Make a function to find outlier using IQR method\n",
    "# I want to keep as much data as possible so I am making my q1 & q3 small\n",
    "def find_outliers_IQR(df_train):\n",
    "    q1 = df_train.quantile(0.15)\n",
    "    q3 = df_train.quantile(0.85)\n",
    "    thresh = 1.5*(q3-q1)\n",
    "    idx_outliers =(df_train < (q1-thresh)) | (df_train > (q3+thresh))\n",
    "    return idx_outliers"
   ]
  },
  {
   "cell_type": "code",
   "execution_count": 11,
   "id": "de82c7b9",
   "metadata": {},
   "outputs": [],
   "source": [
    "# function to create histogram, Q-Q plot and boxplot\n",
    "def diagnostic_plots(df_train, variable):\n",
    "    plt.figure(figsize=(16, 4))\n",
    "\n",
    "    # histogram\n",
    "    plt.subplot(1, 3, 1)\n",
    "    median = df_train[variable].median()\n",
    "    mean = df_train[variable].mean()\n",
    "    sns.histplot(df_train[variable], bins=40)\n",
    "    \n",
    "    plt.title(F\"Distribution of {variable}\")\n",
    "    plt.axvline(median,label=f'median={median:,}',color='black')\n",
    "    plt.axvline(mean,label=f'mean={mean:,}',color='black',ls=':')\n",
    "    plt.legend()\n",
    "\n",
    "    # Q-Q plot\n",
    "    plt.subplot(1, 3, 2)\n",
    "    stats.probplot(df_train[variable], dist=\"norm\", plot=plt)\n",
    "    plt.ylabel('Variable quantiles')\n",
    "\n",
    "    # boxplot\n",
    "    plt.subplot(1, 3, 3)\n",
    "    sns.boxplot(y=df_train[variable])\n",
    "    plt.title('Boxplot')\n",
    "\n",
    "    plt.show()"
   ]
  },
  {
   "cell_type": "code",
   "execution_count": 12,
   "id": "b0fca433",
   "metadata": {},
   "outputs": [
    {
     "data": {
      "text/plain": [
       "141"
      ]
     },
     "execution_count": 12,
     "metadata": {},
     "output_type": "execute_result"
    }
   ],
   "source": [
    "# print the number of rows that contain outliers in price\n",
    "price_outliers_IQR = find_outliers_IQR(df_train['price'])\n",
    "price_outliers_IQR.sum()"
   ]
  },
  {
   "cell_type": "code",
   "execution_count": 13,
   "id": "eca8cccb",
   "metadata": {},
   "outputs": [
    {
     "data": {
      "image/png": "[encoded data removed]",
      "text/plain": [
       "<Figure size 1152x288 with 3 Axes>"
      ]
     },
     "metadata": {
      "needs_background": "light"
     },
     "output_type": "display_data"
    }
   ],
   "source": [
    "# Price is skewed and the outliers are impacting the normality\n",
    "diagnostic_plots(df_train, 'price')"
   ]
  },
  {
   "cell_type": "code",
   "execution_count": 14,
   "id": "9da2df2e",
   "metadata": {},
   "outputs": [
    {
     "data": {
      "image/png": "[encoded data removed]",
      "text/plain": [
       "<Figure size 1152x288 with 3 Axes>"
      ]
     },
     "metadata": {
      "needs_background": "light"
     },
     "output_type": "display_data"
    }
   ],
   "source": [
    "# See how removing these outliers would change the distribution\n",
    "df_train = df_train[~price_outliers_IQR].copy()\n",
    "\n",
    "# Remove outliers for visualization df \n",
    "diagnostic_plots(df_train, 'price')"
   ]
  },
  {
   "cell_type": "markdown",
   "id": "3c89b68d",
   "metadata": {},
   "source": [
    "We see from the visuals that removing the outliers does help the target have more of a Gaussian distribution. However, it is still skewed. "
   ]
  },
  {
   "cell_type": "code",
   "execution_count": 15,
   "id": "e276f1ed",
   "metadata": {},
   "outputs": [
    {
     "data": {
      "text/html": [
       "<div>\n",
       "<style scoped>\n",
       "    .dataframe tbody tr th:only-of-type {\n",
       "        vertical-align: middle;\n",
       "    }\n",
       "\n",
       "    .dataframe tbody tr th {\n",
       "        vertical-align: top;\n",
       "    }\n",
       "\n",
       "    .dataframe thead th {\n",
       "        text-align: right;\n",
       "    }\n",
       "</style>\n",
       "<table border=\"1\" class=\"dataframe\">\n",
       "  <thead>\n",
       "    <tr style=\"text-align: right;\">\n",
       "      <th></th>\n",
       "      <th>host_is_superhost</th>\n",
       "      <th>neighbourhood</th>\n",
       "      <th>property_type</th>\n",
       "      <th>room_type</th>\n",
       "      <th>accommodates</th>\n",
       "      <th>bathrooms</th>\n",
       "      <th>bedrooms</th>\n",
       "      <th>beds</th>\n",
       "      <th>price</th>\n",
       "      <th>minimum_nights</th>\n",
       "      <th>...</th>\n",
       "      <th>availability_365</th>\n",
       "      <th>number_of_reviews</th>\n",
       "      <th>review_scores_rating</th>\n",
       "      <th>review_scores_accuracy</th>\n",
       "      <th>review_scores_cleanliness</th>\n",
       "      <th>review_scores_checkin</th>\n",
       "      <th>review_scores_communication</th>\n",
       "      <th>review_scores_location</th>\n",
       "      <th>review_scores_value</th>\n",
       "      <th>instant_bookable</th>\n",
       "    </tr>\n",
       "  </thead>\n",
       "  <tbody>\n",
       "    <tr>\n",
       "      <th>4228</th>\n",
       "      <td>t</td>\n",
       "      <td>Marigny</td>\n",
       "      <td>Room in boutique hotel</td>\n",
       "      <td>Hotel room</td>\n",
       "      <td>4</td>\n",
       "      <td>1 bath</td>\n",
       "      <td>1.0</td>\n",
       "      <td>1.0</td>\n",
       "      <td>0.0</td>\n",
       "      <td>1</td>\n",
       "      <td>...</td>\n",
       "      <td>0</td>\n",
       "      <td>15</td>\n",
       "      <td>5.0</td>\n",
       "      <td>5.0</td>\n",
       "      <td>4.87</td>\n",
       "      <td>4.87</td>\n",
       "      <td>5.0</td>\n",
       "      <td>4.87</td>\n",
       "      <td>4.93</td>\n",
       "      <td>f</td>\n",
       "    </tr>\n",
       "  </tbody>\n",
       "</table>\n",
       "<p>1 rows × 24 columns</p>\n",
       "</div>"
      ],
      "text/plain": [
       "     host_is_superhost neighbourhood           property_type   room_type  \\\n",
       "4228                 t       Marigny  Room in boutique hotel  Hotel room   \n",
       "\n",
       "      accommodates bathrooms  bedrooms  beds  price  minimum_nights  ...  \\\n",
       "4228             4    1 bath       1.0   1.0    0.0               1  ...   \n",
       "\n",
       "      availability_365  number_of_reviews  review_scores_rating  \\\n",
       "4228                 0                 15                   5.0   \n",
       "\n",
       "      review_scores_accuracy  review_scores_cleanliness  \\\n",
       "4228                     5.0                       4.87   \n",
       "\n",
       "      review_scores_checkin  review_scores_communication  \\\n",
       "4228                   4.87                          5.0   \n",
       "\n",
       "      review_scores_location  review_scores_value  instant_bookable  \n",
       "4228                    4.87                 4.93                 f  \n",
       "\n",
       "[1 rows x 24 columns]"
      ]
     },
     "execution_count": 15,
     "metadata": {},
     "output_type": "execute_result"
    }
   ],
   "source": [
    "# see if any listings have price set at $0\n",
    "df_train.loc[df_train['price'] == 0]"
   ]
  },
  {
   "cell_type": "code",
   "execution_count": 16,
   "id": "4047f4a6",
   "metadata": {},
   "outputs": [],
   "source": [
    "# drop row with price as $0 since it is illogical\n",
    "df_train.drop(4228, axis=0, inplace=True)"
   ]
  },
  {
   "cell_type": "code",
   "execution_count": 17,
   "id": "9de47264",
   "metadata": {},
   "outputs": [
    {
     "data": {
      "text/html": [
       "<div>\n",
       "<style scoped>\n",
       "    .dataframe tbody tr th:only-of-type {\n",
       "        vertical-align: middle;\n",
       "    }\n",
       "\n",
       "    .dataframe tbody tr th {\n",
       "        vertical-align: top;\n",
       "    }\n",
       "\n",
       "    .dataframe thead th {\n",
       "        text-align: right;\n",
       "    }\n",
       "</style>\n",
       "<table border=\"1\" class=\"dataframe\">\n",
       "  <thead>\n",
       "    <tr style=\"text-align: right;\">\n",
       "      <th></th>\n",
       "      <th>host_is_superhost</th>\n",
       "      <th>neighbourhood</th>\n",
       "      <th>property_type</th>\n",
       "      <th>room_type</th>\n",
       "      <th>accommodates</th>\n",
       "      <th>bathrooms</th>\n",
       "      <th>bedrooms</th>\n",
       "      <th>beds</th>\n",
       "      <th>price</th>\n",
       "      <th>minimum_nights</th>\n",
       "      <th>...</th>\n",
       "      <th>availability_365</th>\n",
       "      <th>number_of_reviews</th>\n",
       "      <th>review_scores_rating</th>\n",
       "      <th>review_scores_accuracy</th>\n",
       "      <th>review_scores_cleanliness</th>\n",
       "      <th>review_scores_checkin</th>\n",
       "      <th>review_scores_communication</th>\n",
       "      <th>review_scores_location</th>\n",
       "      <th>review_scores_value</th>\n",
       "      <th>instant_bookable</th>\n",
       "    </tr>\n",
       "  </thead>\n",
       "  <tbody>\n",
       "    <tr>\n",
       "      <th>4280</th>\n",
       "      <td>f</td>\n",
       "      <td>Mid-City</td>\n",
       "      <td>Room in hotel</td>\n",
       "      <td>Hotel room</td>\n",
       "      <td>8</td>\n",
       "      <td>1 bath</td>\n",
       "      <td>1.0</td>\n",
       "      <td>1.0</td>\n",
       "      <td>0.0</td>\n",
       "      <td>1</td>\n",
       "      <td>...</td>\n",
       "      <td>0</td>\n",
       "      <td>0</td>\n",
       "      <td>4.86</td>\n",
       "      <td>4.91</td>\n",
       "      <td>4.88</td>\n",
       "      <td>4.96</td>\n",
       "      <td>4.95</td>\n",
       "      <td>4.87</td>\n",
       "      <td>4.83</td>\n",
       "      <td>f</td>\n",
       "    </tr>\n",
       "  </tbody>\n",
       "</table>\n",
       "<p>1 rows × 24 columns</p>\n",
       "</div>"
      ],
      "text/plain": [
       "     host_is_superhost neighbourhood  property_type   room_type  accommodates  \\\n",
       "4280                 f      Mid-City  Room in hotel  Hotel room             8   \n",
       "\n",
       "     bathrooms  bedrooms  beds  price  minimum_nights  ...  availability_365  \\\n",
       "4280    1 bath       1.0   1.0    0.0               1  ...                 0   \n",
       "\n",
       "      number_of_reviews  review_scores_rating  review_scores_accuracy  \\\n",
       "4280                  0                  4.86                    4.91   \n",
       "\n",
       "      review_scores_cleanliness  review_scores_checkin  \\\n",
       "4280                       4.88                   4.96   \n",
       "\n",
       "      review_scores_communication  review_scores_location  \\\n",
       "4280                         4.95                    4.87   \n",
       "\n",
       "      review_scores_value  instant_bookable  \n",
       "4280                 4.83                 f  \n",
       "\n",
       "[1 rows x 24 columns]"
      ]
     },
     "execution_count": 17,
     "metadata": {},
     "output_type": "execute_result"
    }
   ],
   "source": [
    "# see if any listings have price set at $0 in test set\n",
    "df_test.loc[df_test['price'] == 0]"
   ]
  },
  {
   "cell_type": "code",
   "execution_count": 18,
   "id": "78db7aef",
   "metadata": {},
   "outputs": [],
   "source": [
    "# drop row with price as $0 in test set since it is illogical\n",
    "df_test.drop(4280, axis=0, inplace=True)"
   ]
  },
  {
   "cell_type": "markdown",
   "id": "ab741495",
   "metadata": {},
   "source": [
    "Before I remove outliers I want to see how many rows will be removed. Below I run through all the numerical columns and see how many outliers they contain. "
   ]
  },
  {
   "cell_type": "code",
   "execution_count": 19,
   "id": "20e50cbc",
   "metadata": {},
   "outputs": [
    {
     "data": {
      "text/plain": [
       "18"
      ]
     },
     "execution_count": 19,
     "metadata": {},
     "output_type": "execute_result"
    }
   ],
   "source": [
    "# See about removing bedroom outliers\n",
    "bedrooms_outliers_IQR = find_outliers_IQR(df_train['bedrooms'])\n",
    "bedrooms_outliers_IQR.sum()"
   ]
  },
  {
   "cell_type": "code",
   "execution_count": 20,
   "id": "33ad4978",
   "metadata": {},
   "outputs": [
    {
     "data": {
      "image/png": "[encoded data removed]",
      "text/plain": [
       "<Figure size 360x360 with 1 Axes>"
      ]
     },
     "metadata": {
      "needs_background": "light"
     },
     "output_type": "display_data"
    }
   ],
   "source": [
    "# visualize how many bedroom categories will be left after removing outliers\n",
    "find_bedrooms = df_train[~bedrooms_outliers_IQR]\n",
    "plot_distribution(find_bedrooms, 'bedrooms')"
   ]
  },
  {
   "cell_type": "code",
   "execution_count": 21,
   "id": "1e729373",
   "metadata": {},
   "outputs": [
    {
     "data": {
      "text/plain": [
       "56"
      ]
     },
     "execution_count": 21,
     "metadata": {},
     "output_type": "execute_result"
    }
   ],
   "source": [
    "# See about removing bed outliers\n",
    "beds_outliers_IQR = find_outliers_IQR(df_train['beds'])\n",
    "beds_outliers_IQR.sum()"
   ]
  },
  {
   "cell_type": "code",
   "execution_count": 22,
   "id": "a457f3ac",
   "metadata": {},
   "outputs": [
    {
     "data": {
      "image/png": "[encoded data removed]",
      "text/plain": [
       "<Figure size 360x360 with 1 Axes>"
      ]
     },
     "metadata": {
      "needs_background": "light"
     },
     "output_type": "display_data"
    }
   ],
   "source": [
    "# visualize how many bed categories will be left after removing outliers\n",
    "find_beds = df_train[~beds_outliers_IQR]\n",
    "plot_distribution(find_beds, 'beds')"
   ]
  },
  {
   "cell_type": "code",
   "execution_count": 23,
   "id": "40aef761",
   "metadata": {},
   "outputs": [],
   "source": [
    "# create function to view distribution of the different columns related to reviews\n",
    "review_cols = ['review_scores_rating', 'review_scores_accuracy',\n",
    "       'review_scores_cleanliness', 'review_scores_checkin',\n",
    "       'review_scores_communication', 'review_scores_location',\n",
    "       'review_scores_value', 'number_of_reviews']\n",
    "\n",
    "def diagnostic_reviews(df_train, review_cols):\n",
    "    \n",
    "    fig, axes = plt.subplots(nrows=4, ncols=2, figsize=(10,10), sharey=True)\n",
    "\n",
    "    for col, ax in zip(review_cols, axes.flatten()):\n",
    "        ax.hist(df_train[col], bins='auto')\n",
    "        ax.set_title(col)\n",
    "    \n",
    "        median = df_train[col].median()\n",
    "        mean = df_train[col].mean()\n",
    "    \n",
    "        ax.set_title(F\"Distribution of {col}\")\n",
    "        ax.axvline(median,label=f'median={median:,}',color='black')\n",
    "        ax.axvline(mean,label=f'mean={mean:,}',color='black',ls=':')\n",
    "        ax.legend()\n",
    " \n",
    "    fig.tight_layout()"
   ]
  },
  {
   "cell_type": "code",
   "execution_count": 24,
   "id": "a9a5bbe3",
   "metadata": {},
   "outputs": [
    {
     "data": {
      "image/png": "[encoded data removed]",
      "text/plain": [
       "<Figure size 720x720 with 8 Axes>"
      ]
     },
     "metadata": {
      "needs_background": "light"
     },
     "output_type": "display_data"
    }
   ],
   "source": [
    "# viewing the distribution shows us that there are extreme outliers impacting the normality of this data\n",
    "diagnostic_reviews(df_train, review_cols)"
   ]
  },
  {
   "cell_type": "markdown",
   "id": "f655d103",
   "metadata": {},
   "source": [
    "Again, I will view the number of outliers in each column. If there were to be a column with a considerable amount of outliers like 200+ I would consider a different way of dealing with the outliers."
   ]
  },
  {
   "cell_type": "code",
   "execution_count": 25,
   "id": "f1fee66e",
   "metadata": {},
   "outputs": [
    {
     "data": {
      "text/plain": [
       "113"
      ]
     },
     "execution_count": 25,
     "metadata": {},
     "output_type": "execute_result"
    }
   ],
   "source": [
    "# print the number of rows that contain outliers in review_scores_rating\n",
    "review_scores_rating_outliers_IQR = find_outliers_IQR(df_train['review_scores_rating'])\n",
    "review_scores_rating_outliers_IQR.sum()"
   ]
  },
  {
   "cell_type": "code",
   "execution_count": 26,
   "id": "63223154",
   "metadata": {},
   "outputs": [
    {
     "data": {
      "text/plain": [
       "72"
      ]
     },
     "execution_count": 26,
     "metadata": {},
     "output_type": "execute_result"
    }
   ],
   "source": [
    "# print the number of rows that contain outliers in review_scores_location\n",
    "review_scores_location_outliers_IQR = find_outliers_IQR(df_train['review_scores_location'])\n",
    "review_scores_location_outliers_IQR.sum()"
   ]
  },
  {
   "cell_type": "code",
   "execution_count": 27,
   "id": "1c4c16db",
   "metadata": {},
   "outputs": [
    {
     "data": {
      "text/plain": [
       "145"
      ]
     },
     "execution_count": 27,
     "metadata": {},
     "output_type": "execute_result"
    }
   ],
   "source": [
    "# print the number of rows that contain outliers in review_scores_communication\n",
    "review_scores_communication_outliers_IQR = find_outliers_IQR(df_train['review_scores_communication'])\n",
    "review_scores_communication_outliers_IQR.sum()"
   ]
  },
  {
   "cell_type": "code",
   "execution_count": 28,
   "id": "96c889d7",
   "metadata": {},
   "outputs": [
    {
     "data": {
      "text/plain": [
       "191"
      ]
     },
     "execution_count": 28,
     "metadata": {},
     "output_type": "execute_result"
    }
   ],
   "source": [
    "# print the number of rows that contain outliers in review_scores_checkin\n",
    "review_scores_checkin_outliers_IQR = find_outliers_IQR(df_train['review_scores_checkin'])\n",
    "review_scores_checkin_outliers_IQR.sum()"
   ]
  },
  {
   "cell_type": "code",
   "execution_count": 29,
   "id": "b1aab962",
   "metadata": {},
   "outputs": [
    {
     "data": {
      "text/plain": [
       "99"
      ]
     },
     "execution_count": 29,
     "metadata": {},
     "output_type": "execute_result"
    }
   ],
   "source": [
    "# print the number of rows that contain outliers in review_scores_cleanliness\n",
    "review_scores_cleanliness_outliers_IQR = find_outliers_IQR(df_train['review_scores_cleanliness'])\n",
    "review_scores_cleanliness_outliers_IQR.sum()"
   ]
  },
  {
   "cell_type": "code",
   "execution_count": 30,
   "id": "27ac8834",
   "metadata": {},
   "outputs": [
    {
     "data": {
      "text/plain": [
       "130"
      ]
     },
     "execution_count": 30,
     "metadata": {},
     "output_type": "execute_result"
    }
   ],
   "source": [
    "# print the number of rows that contain outliers in review_scores_accuracy\n",
    "review_scores_accuracy_outliers_IQR = find_outliers_IQR(df_train['review_scores_accuracy'])\n",
    "review_scores_accuracy_outliers_IQR.sum()"
   ]
  },
  {
   "cell_type": "code",
   "execution_count": 31,
   "id": "6940b559",
   "metadata": {},
   "outputs": [
    {
     "data": {
      "text/plain": [
       "122"
      ]
     },
     "execution_count": 31,
     "metadata": {},
     "output_type": "execute_result"
    }
   ],
   "source": [
    "# print the number of rows that contain outliers in review_scores_value\n",
    "review_scores_value_outliers_IQR = find_outliers_IQR(df_train['review_scores_value'])\n",
    "review_scores_value_outliers_IQR.sum()"
   ]
  },
  {
   "cell_type": "code",
   "execution_count": 32,
   "id": "17e06c30",
   "metadata": {},
   "outputs": [
    {
     "data": {
      "text/plain": [
       "29"
      ]
     },
     "execution_count": 32,
     "metadata": {},
     "output_type": "execute_result"
    }
   ],
   "source": [
    "# print the number of rows that contain outliers in minimum_nights\n",
    "min_night_outliers_IQR = find_outliers_IQR(df_train['minimum_nights'])\n",
    "min_night_outliers_IQR.sum()"
   ]
  },
  {
   "cell_type": "code",
   "execution_count": 33,
   "id": "5244b6a3",
   "metadata": {},
   "outputs": [
    {
     "data": {
      "text/plain": [
       "1"
      ]
     },
     "execution_count": 33,
     "metadata": {},
     "output_type": "execute_result"
    }
   ],
   "source": [
    "# print the number of rows that contain outliers in maximum_nights\n",
    "max_night_outliers_IQR = find_outliers_IQR(df_train['maximum_nights'])\n",
    "max_night_outliers_IQR.sum()"
   ]
  },
  {
   "cell_type": "code",
   "execution_count": 34,
   "id": "ef91de8f",
   "metadata": {},
   "outputs": [
    {
     "data": {
      "text/plain": [
       "92"
      ]
     },
     "execution_count": 34,
     "metadata": {},
     "output_type": "execute_result"
    }
   ],
   "source": [
    "# print the number of rows that contain outliers in number_of_reviews\n",
    "number_reviews_IQR = find_outliers_IQR(df_train['number_of_reviews'])\n",
    "number_reviews_IQR.sum()"
   ]
  },
  {
   "cell_type": "code",
   "execution_count": 35,
   "id": "9c7f00d0",
   "metadata": {},
   "outputs": [],
   "source": [
    "# Remove outliers from the training dataset\n",
    "rating_outliers = (review_scores_rating_outliers_IQR | review_scores_value_outliers_IQR | \n",
    "                              review_scores_checkin_outliers_IQR | review_scores_communication_outliers_IQR |\n",
    "                              review_scores_location_outliers_IQR | review_scores_accuracy_outliers_IQR |\n",
    "                              review_scores_cleanliness_outliers_IQR | min_night_outliers_IQR | max_night_outliers_IQR|\n",
    "                              beds_outliers_IQR | bedrooms_outliers_IQR | number_reviews_IQR)\n",
    "\n",
    "df_train = df_train[~rating_outliers].copy()"
   ]
  },
  {
   "cell_type": "markdown",
   "id": "bb97886c",
   "metadata": {},
   "source": [
    "Bathrooms is categorical data and below we see that there are a large range of different types of bathrooms, including half baths and shared baths. To make things more understandable I am choosing not to count half baths or shared baths separately. For example if a listing had 2.5 bathrooms it will now be listed as 2.0 bathrooms. \n",
    " \n",
    "I am choosing to group all bathrooms over 5 as '5 or more baths' this way I don't need to remove any more outliers."
   ]
  },
  {
   "cell_type": "code",
   "execution_count": 36,
   "id": "26a52aed",
   "metadata": {},
   "outputs": [
    {
     "data": {
      "text/plain": [
       "1 bath              1836\n",
       "2 baths              938\n",
       "1 private bath       260\n",
       "1.5 baths            178\n",
       "2.5 baths            172\n",
       "1 shared bath        158\n",
       "3 baths              121\n",
       "4 baths               38\n",
       "3.5 baths             38\n",
       "2 shared baths        17\n",
       "1.5 shared baths      14\n",
       "4.5 baths              7\n",
       "2.5 shared baths       4\n",
       "5 baths                4\n",
       "5.5 baths              2\n",
       "3 shared baths         2\n",
       "0 shared baths         1\n",
       "7 shared baths         1\n",
       "0 baths                1\n",
       "6 baths                1\n",
       "Name: bathrooms, dtype: int64"
      ]
     },
     "execution_count": 36,
     "metadata": {},
     "output_type": "execute_result"
    }
   ],
   "source": [
    "# view bathrooms to see best way to rename them\n",
    "df_train['bathrooms'].value_counts()"
   ]
  },
  {
   "cell_type": "code",
   "execution_count": 37,
   "id": "9e60f2a0",
   "metadata": {},
   "outputs": [
    {
     "data": {
      "text/plain": [
       "1 bath             2448\n",
       "2 baths            1131\n",
       "3 baths             161\n",
       "4 baths              45\n",
       "5 or more baths       8\n",
       "Name: bathrooms, dtype: int64"
      ]
     },
     "execution_count": 37,
     "metadata": {},
     "output_type": "execute_result"
    }
   ],
   "source": [
    "# rename bathrooms in train set\n",
    "df_train.loc[df_train['bathrooms'].str.contains(\"1|0\"),'bathrooms'] = '1 bath'\n",
    "df_train.loc[df_train['bathrooms'].str.contains(\"2\"),'bathrooms'] = '2 baths'\n",
    "df_train.loc[df_train['bathrooms'].str.contains(\"3\"),'bathrooms'] = '3 baths'\n",
    "df_train.loc[df_train['bathrooms'].str.contains(\"4\"),'bathrooms'] = '4 baths'\n",
    "df_train.loc[df_train['bathrooms'].str.contains(\"5|6|7|8\"),'bathrooms'] = '5 or more baths'\n",
    "\n",
    "#rename bathrooms in test set\n",
    "df_test.loc[df_test['bathrooms'].str.contains(\"1|0\"),'bathrooms'] = '1 bath'\n",
    "df_test.loc[df_test['bathrooms'].str.contains(\"2\"),'bathrooms'] = '2 baths'\n",
    "df_test.loc[df_test['bathrooms'].str.contains(\"3\"),'bathrooms'] = '3 baths'\n",
    "df_test.loc[df_test['bathrooms'].str.contains(\"4\"),'bathrooms'] = '4 baths'\n",
    "df_test.loc[df_test['bathrooms'].str.contains(\"5|6|7|8\"),'bathrooms'] = '5 or more baths'\n",
    "\n",
    "df_train['bathrooms'].value_counts()"
   ]
  },
  {
   "cell_type": "code",
   "execution_count": 38,
   "id": "d30bf082",
   "metadata": {},
   "outputs": [
    {
     "data": {
      "text/plain": [
       "(3793, 24)"
      ]
     },
     "execution_count": 38,
     "metadata": {},
     "output_type": "execute_result"
    }
   ],
   "source": [
    "# make df_clean \n",
    "df_train.shape"
   ]
  },
  {
   "cell_type": "markdown",
   "id": "2fa0f767",
   "metadata": {},
   "source": [
    "df_train started with 4515 rows and ended with 3793 rows."
   ]
  },
  {
   "cell_type": "code",
   "execution_count": 39,
   "id": "938a57ca",
   "metadata": {},
   "outputs": [],
   "source": [
    "# look at the distribution of the numerical data as we prepare for encoding that categorical variables\n",
    "review_num = ['price', 'accommodates', 'maximum_nights', 'minimum_nights', 'availability_30',\n",
    "       'availability_60', 'availability_90', 'availability_365',\n",
    "       'number_of_reviews' ]\n",
    "\n",
    "def diagnostic_reviews_num(df_train, review_num):\n",
    "    \n",
    "    fig, axes = plt.subplots(nrows=4, ncols=2, figsize=(10,10), sharey=False)\n",
    "\n",
    "    for col, ax in zip(review_num, axes.flatten()):\n",
    "        ax.hist(df_train[col], bins='auto')\n",
    "        ax.set_title(col)\n",
    "    \n",
    "        median = df_train[col].median()\n",
    "        mean = df_train[col].mean()\n",
    "    \n",
    "        ax.set_title(F\"Distribution of {col}\")\n",
    "        ax.axvline(median,label=f'median={median:,}',color='black')\n",
    "        ax.axvline(mean,label=f'mean={mean:,}',color='black',ls=':')\n",
    "        ax.legend()\n",
    " \n",
    "    fig.tight_layout()"
   ]
  },
  {
   "cell_type": "code",
   "execution_count": 40,
   "id": "a524641e",
   "metadata": {},
   "outputs": [
    {
     "data": {
      "image/png": "[encoded data removed]",
      "text/plain": [
       "<Figure size 720x720 with 8 Axes>"
      ]
     },
     "metadata": {
      "needs_background": "light"
     },
     "output_type": "display_data"
    }
   ],
   "source": [
    "# view distribution\n",
    "diagnostic_reviews_num(df_train, review_num)"
   ]
  },
  {
   "cell_type": "code",
   "execution_count": 41,
   "id": "0c1e3078",
   "metadata": {},
   "outputs": [
    {
     "data": {
      "text/plain": [
       "2     1385\n",
       "1      913\n",
       "30     736\n",
       "3      592\n",
       "4       61\n",
       "5       28\n",
       "7       23\n",
       "31      15\n",
       "6        8\n",
       "60       8\n",
       "28       7\n",
       "15       4\n",
       "14       3\n",
       "10       2\n",
       "32       2\n",
       "29       1\n",
       "70       1\n",
       "12       1\n",
       "18       1\n",
       "9        1\n",
       "59       1\n",
       "Name: minimum_nights, dtype: int64"
      ]
     },
     "execution_count": 41,
     "metadata": {},
     "output_type": "execute_result"
    }
   ],
   "source": [
    "# check to make sure minimum_nights shouldnt be considered a categorical feature\n",
    "df_train['minimum_nights'].value_counts()"
   ]
  },
  {
   "cell_type": "code",
   "execution_count": 42,
   "id": "4a24af12",
   "metadata": {},
   "outputs": [],
   "source": [
    "# beds and bedrooms need to be in object form to encode\n",
    "change_type = {'beds': object,\n",
    "                'bedrooms': object\n",
    "                }\n",
    "df_train = df_train.astype(change_type)\n",
    "df_test = df_test.astype(change_type)"
   ]
  },
  {
   "cell_type": "code",
   "execution_count": 43,
   "id": "0825e765",
   "metadata": {},
   "outputs": [
    {
     "data": {
      "text/plain": [
       "OrdinalEncoder(encoding_method='arbitrary',\n",
       "               variables=['host_is_superhost', 'bathrooms', 'beds', 'bedrooms'])"
      ]
     },
     "execution_count": 43,
     "metadata": {},
     "output_type": "execute_result"
    }
   ],
   "source": [
    "# ordinal encoder\n",
    "ordinal_enc = OrdinalEncoder(\n",
    "    encoding_method='arbitrary',\n",
    "    variables=['host_is_superhost', 'bathrooms', 'beds', 'bedrooms'])\n",
    "\n",
    "ordinal_enc.fit(df_train)\n",
    "#ordinal_enc.fit(df_test_encoded)"
   ]
  },
  {
   "cell_type": "code",
   "execution_count": 44,
   "id": "8258d760",
   "metadata": {},
   "outputs": [
    {
     "data": {
      "text/plain": [
       "{'host_is_superhost': {'t': 0, 'f': 1},\n",
       " 'bathrooms': {'1 bath': 0,\n",
       "  '2 baths': 1,\n",
       "  '3 baths': 2,\n",
       "  '4 baths': 3,\n",
       "  '5 or more baths': 4},\n",
       " 'beds': {1.0: 0, 3.0: 1, 2.0: 2, 4.0: 3, 6.0: 4, 5.0: 5, 8.0: 6, 7.0: 7},\n",
       " 'bedrooms': {1.0: 0, 2.0: 1, 4.0: 2, 3.0: 3, 5.0: 4, 6.0: 5}}"
      ]
     },
     "execution_count": 44,
     "metadata": {},
     "output_type": "execute_result"
    }
   ],
   "source": [
    "# make sure that everything looks good for the ordinal encoder\n",
    "ordinal_enc.encoder_dict_"
   ]
  },
  {
   "cell_type": "code",
   "execution_count": 45,
   "id": "76f6d35b",
   "metadata": {},
   "outputs": [],
   "source": [
    "# ordinal encoder warns it created NaN which means the test set has additional values than the train set\n",
    "# need to set a max for the test set for beds or bedrooms or we will get NaN when encoding the test set\n",
    "df_test.loc[(df_test['bedrooms'] >= 6.0), 'bedrooms'] = 6.0\n",
    "df_test.loc[(df_test['beds'] >= 7.0), 'beds'] = 7.0"
   ]
  },
  {
   "cell_type": "code",
   "execution_count": 46,
   "id": "2c373390",
   "metadata": {},
   "outputs": [],
   "source": [
    "# encode the test and training sets\n",
    "df_train_ord = ordinal_enc.transform(df_train)\n",
    "df_test_ord = ordinal_enc.transform(df_test)"
   ]
  },
  {
   "cell_type": "code",
   "execution_count": 47,
   "id": "1a16272c",
   "metadata": {},
   "outputs": [
    {
     "name": "stdout",
     "output_type": "stream",
     "text": [
      "<class 'pandas.core.frame.DataFrame'>\n",
      "Int64Index: 1505 entries, 5107 to 4404\n",
      "Data columns (total 24 columns):\n",
      " #   Column                       Non-Null Count  Dtype  \n",
      "---  ------                       --------------  -----  \n",
      " 0   host_is_superhost            1505 non-null   int64  \n",
      " 1   neighbourhood                1505 non-null   object \n",
      " 2   property_type                1505 non-null   object \n",
      " 3   room_type                    1505 non-null   object \n",
      " 4   accommodates                 1505 non-null   int64  \n",
      " 5   bathrooms                    1505 non-null   int64  \n",
      " 6   bedrooms                     1505 non-null   int64  \n",
      " 7   beds                         1505 non-null   int64  \n",
      " 8   price                        1505 non-null   float64\n",
      " 9   minimum_nights               1505 non-null   int64  \n",
      " 10  maximum_nights               1505 non-null   int64  \n",
      " 11  availability_30              1505 non-null   int64  \n",
      " 12  availability_60              1505 non-null   int64  \n",
      " 13  availability_90              1505 non-null   int64  \n",
      " 14  availability_365             1505 non-null   int64  \n",
      " 15  number_of_reviews            1505 non-null   int64  \n",
      " 16  review_scores_rating         1505 non-null   float64\n",
      " 17  review_scores_accuracy       1505 non-null   float64\n",
      " 18  review_scores_cleanliness    1505 non-null   float64\n",
      " 19  review_scores_checkin        1505 non-null   float64\n",
      " 20  review_scores_communication  1505 non-null   float64\n",
      " 21  review_scores_location       1505 non-null   float64\n",
      " 22  review_scores_value          1505 non-null   float64\n",
      " 23  instant_bookable             1505 non-null   object \n",
      "dtypes: float64(8), int64(12), object(4)\n",
      "memory usage: 293.9+ KB\n"
     ]
    }
   ],
   "source": [
    "# make sure there is no NaN values created during encoding\n",
    "df_test_ord.info()"
   ]
  },
  {
   "cell_type": "code",
   "execution_count": 48,
   "id": "0207e53f",
   "metadata": {},
   "outputs": [
    {
     "data": {
      "text/plain": [
       "OneHotEncoder(drop_last=True,\n",
       "              variables=['neighbourhood', 'property_type', 'room_type',\n",
       "                         'instant_bookable'])"
      ]
     },
     "execution_count": 48,
     "metadata": {},
     "output_type": "execute_result"
    }
   ],
   "source": [
    "# use one hot encoder on the remaining categorical variables\n",
    "ohe_enc = fe_OneHotEncoder(variables=['neighbourhood', 'property_type',\n",
    "                                      'room_type', 'instant_bookable'], drop_last=True)\n",
    "\n",
    "# fit to df_train\n",
    "ohe_enc.fit(df_train_ord)"
   ]
  },
  {
   "cell_type": "code",
   "execution_count": 49,
   "id": "7dc627bd",
   "metadata": {},
   "outputs": [],
   "source": [
    "# ignore warning\n",
    "warnings.filterwarnings('ignore')\n",
    "\n",
    "# transform training set\n",
    "df_train_encoded = ohe_enc.transform(df_train_ord)"
   ]
  },
  {
   "cell_type": "code",
   "execution_count": 50,
   "id": "5e6038cc",
   "metadata": {},
   "outputs": [],
   "source": [
    "# ignore warning\n",
    "warnings.filterwarnings('ignore')\n",
    "\n",
    "# transform the test set\n",
    "df_test_encoded = ohe_enc.transform(df_test_ord)"
   ]
  },
  {
   "cell_type": "code",
   "execution_count": 51,
   "id": "c69f01be",
   "metadata": {},
   "outputs": [
    {
     "name": "stdout",
     "output_type": "stream",
     "text": [
      "<class 'pandas.core.frame.DataFrame'>\n",
      "Int64Index: 3793 entries, 2025 to 860\n",
      "Columns: 134 entries, host_is_superhost to instant_bookable_t\n",
      "dtypes: float64(8), int64(126)\n",
      "memory usage: 3.9 MB\n"
     ]
    }
   ],
   "source": [
    "# Make sure train set looks right\n",
    "df_train_encoded.info()"
   ]
  },
  {
   "cell_type": "code",
   "execution_count": 52,
   "id": "d62ff981",
   "metadata": {},
   "outputs": [
    {
     "name": "stdout",
     "output_type": "stream",
     "text": [
      "<class 'pandas.core.frame.DataFrame'>\n",
      "Int64Index: 1505 entries, 5107 to 4404\n",
      "Columns: 134 entries, host_is_superhost to instant_bookable_t\n",
      "dtypes: float64(8), int64(126)\n",
      "memory usage: 1.6 MB\n"
     ]
    }
   ],
   "source": [
    "# Make sure test set looks right\n",
    "df_test_encoded.info()"
   ]
  },
  {
   "cell_type": "code",
   "execution_count": 53,
   "id": "f0104e90",
   "metadata": {},
   "outputs": [
    {
     "data": {
      "text/html": [
       "<div>\n",
       "<style scoped>\n",
       "    .dataframe tbody tr th:only-of-type {\n",
       "        vertical-align: middle;\n",
       "    }\n",
       "\n",
       "    .dataframe tbody tr th {\n",
       "        vertical-align: top;\n",
       "    }\n",
       "\n",
       "    .dataframe thead th {\n",
       "        text-align: right;\n",
       "    }\n",
       "</style>\n",
       "<table border=\"1\" class=\"dataframe\">\n",
       "  <thead>\n",
       "    <tr style=\"text-align: right;\">\n",
       "      <th></th>\n",
       "      <th>corr_coef</th>\n",
       "    </tr>\n",
       "    <tr>\n",
       "      <th>pairs</th>\n",
       "      <th></th>\n",
       "    </tr>\n",
       "  </thead>\n",
       "  <tbody>\n",
       "    <tr>\n",
       "      <th>(availability_90, availability_60)</th>\n",
       "      <td>0.951020</td>\n",
       "    </tr>\n",
       "    <tr>\n",
       "      <th>(availability_60, availability_90)</th>\n",
       "      <td>0.951020</td>\n",
       "    </tr>\n",
       "    <tr>\n",
       "      <th>(room_type_Private room, room_type_Entire home/apt)</th>\n",
       "      <td>0.932969</td>\n",
       "    </tr>\n",
       "    <tr>\n",
       "      <th>(room_type_Entire home/apt, room_type_Private room)</th>\n",
       "      <td>0.932969</td>\n",
       "    </tr>\n",
       "    <tr>\n",
       "      <th>(availability_60, availability_30)</th>\n",
       "      <td>0.921863</td>\n",
       "    </tr>\n",
       "    <tr>\n",
       "      <th>(availability_30, availability_60)</th>\n",
       "      <td>0.921863</td>\n",
       "    </tr>\n",
       "    <tr>\n",
       "      <th>(availability_30, availability_90)</th>\n",
       "      <td>0.840949</td>\n",
       "    </tr>\n",
       "    <tr>\n",
       "      <th>(availability_90, availability_30)</th>\n",
       "      <td>0.840949</td>\n",
       "    </tr>\n",
       "    <tr>\n",
       "      <th>(accommodates, bedrooms)</th>\n",
       "      <td>0.800725</td>\n",
       "    </tr>\n",
       "    <tr>\n",
       "      <th>(bedrooms, accommodates)</th>\n",
       "      <td>0.800725</td>\n",
       "    </tr>\n",
       "    <tr>\n",
       "      <th>(review_scores_accuracy, review_scores_rating)</th>\n",
       "      <td>0.781633</td>\n",
       "    </tr>\n",
       "    <tr>\n",
       "      <th>(review_scores_rating, review_scores_accuracy)</th>\n",
       "      <td>0.781633</td>\n",
       "    </tr>\n",
       "    <tr>\n",
       "      <th>(room_type_Shared room, property_type_Shared room in residential home)</th>\n",
       "      <td>0.779260</td>\n",
       "    </tr>\n",
       "    <tr>\n",
       "      <th>(property_type_Shared room in residential home, room_type_Shared room)</th>\n",
       "      <td>0.779260</td>\n",
       "    </tr>\n",
       "    <tr>\n",
       "      <th>(review_scores_rating, review_scores_value)</th>\n",
       "      <td>0.757108</td>\n",
       "    </tr>\n",
       "    <tr>\n",
       "      <th>(review_scores_value, review_scores_rating)</th>\n",
       "      <td>0.757108</td>\n",
       "    </tr>\n",
       "  </tbody>\n",
       "</table>\n",
       "</div>"
      ],
      "text/plain": [
       "                                                    corr_coef\n",
       "pairs                                                        \n",
       "(availability_90, availability_60)                   0.951020\n",
       "(availability_60, availability_90)                   0.951020\n",
       "(room_type_Private room, room_type_Entire home/...   0.932969\n",
       "(room_type_Entire home/apt, room_type_Private r...   0.932969\n",
       "(availability_60, availability_30)                   0.921863\n",
       "(availability_30, availability_60)                   0.921863\n",
       "(availability_30, availability_90)                   0.840949\n",
       "(availability_90, availability_30)                   0.840949\n",
       "(accommodates, bedrooms)                             0.800725\n",
       "(bedrooms, accommodates)                             0.800725\n",
       "(review_scores_accuracy, review_scores_rating)       0.781633\n",
       "(review_scores_rating, review_scores_accuracy)       0.781633\n",
       "(room_type_Shared room, property_type_Shared ro...   0.779260\n",
       "(property_type_Shared room in residential home,...   0.779260\n",
       "(review_scores_rating, review_scores_value)          0.757108\n",
       "(review_scores_value, review_scores_rating)          0.757108"
      ]
     },
     "execution_count": 53,
     "metadata": {},
     "output_type": "execute_result"
    }
   ],
   "source": [
    "# see which predictors have high correlation which each other\n",
    "correlation = df_train_encoded.corr().abs().stack().reset_index().sort_values(0, ascending=False)\n",
    "\n",
    "correlation['pairs'] = list(zip(correlation.level_0, correlation.level_1))\n",
    "\n",
    "correlation.set_index(['pairs'], inplace = True)\n",
    "\n",
    "correlation.drop(columns=['level_1', 'level_0'], inplace = True)\n",
    "\n",
    "correlation.columns = ['corr_coef']\n",
    "\n",
    "correlation[(correlation.corr_coef>.75) & (correlation.corr_coef<1)]"
   ]
  },
  {
   "cell_type": "markdown",
   "id": "6b65a562",
   "metadata": {},
   "source": [
    "When two columns have a high correlation it will hurt the model's performance. To help solve the issue of multicollinearity we will eliminate one column from each highly correlated pair. In this case I will remove `availability_90`, `room_type_Entire home/apt`, `availability_60`, `accommodates`, `property_type_Shared room in residential home`, `review_scores_value` and `review_scores_accuracy`."
   ]
  },
  {
   "cell_type": "code",
   "execution_count": 54,
   "id": "2a00161b",
   "metadata": {},
   "outputs": [],
   "source": [
    "# Remove one column from each highly correlated pair\n",
    "df_train_encoded.drop(['availability_90','room_type_Entire home/apt', 'property_type_Shared room in residential home',\n",
    "                       'review_scores_accuracy', 'accommodates',\n",
    "                       'availability_60', 'review_scores_value'], axis=1, inplace=True)"
   ]
  },
  {
   "cell_type": "code",
   "execution_count": 55,
   "id": "1fcc32ec",
   "metadata": {},
   "outputs": [],
   "source": [
    "# Remove same columns from the test set\n",
    "df_test_encoded.drop(['availability_90','room_type_Entire home/apt', 'property_type_Shared room in residential home', \n",
    "                      'review_scores_accuracy', 'accommodates',\n",
    "                      'availability_60', 'review_scores_value'], axis=1, inplace=True)"
   ]
  },
  {
   "cell_type": "markdown",
   "id": "b2446c61",
   "metadata": {},
   "source": [
    "We know that a few of the continuous variables are very skewed, which could have a negative impact on our model. Before we move onto modeling we should try to alleviate some of the skewness with a transformation. "
   ]
  },
  {
   "cell_type": "code",
   "execution_count": 56,
   "id": "a5d08182",
   "metadata": {},
   "outputs": [
    {
     "data": {
      "image/png": "[encoded data removed]",
      "text/plain": [
       "<Figure size 720x720 with 8 Axes>"
      ]
     },
     "metadata": {
      "needs_background": "light"
     },
     "output_type": "display_data"
    }
   ],
   "source": [
    "# recall the skewed variables\n",
    "diagnostic_reviews(df_train, review_cols)"
   ]
  },
  {
   "cell_type": "code",
   "execution_count": 57,
   "id": "6915555e",
   "metadata": {},
   "outputs": [],
   "source": [
    "# take a look at how skewed the continuous features are\n",
    "def print_skewness(df):\n",
    "    print(f'''The skewness of the cleanliness score is:\\\n",
    "    {df[\"review_scores_cleanliness\"].skew():.2f}''')\n",
    "\n",
    "    print(f'''The skewness of the overall rating is:\\\n",
    "     {df[\"review_scores_rating\"].skew():.2f}''')\n",
    "\n",
    "    print(f'''The skewness of the communication score is: \\\n",
    "     {df[\"review_scores_communication\"].skew():.2f}''')\n",
    "\n",
    "    print(f'''The skewness of the location score is: \\\n",
    "     {df[\"review_scores_location\"].skew():.2f}''')\n",
    "\n",
    "    print(f'''The skewness of the checkin score is: \\\n",
    "     {df[\"review_scores_checkin\"].skew():.2f}''')\n",
    "\n",
    "    print(f'''The skewness of the number of reviews is: \\\n",
    "     {df[\"number_of_reviews\"].skew():.2f}''')\n",
    "\n",
    "    print(f'''The skewness of the price is: \\\n",
    "     {df[\"price\"].skew():.2f}''')"
   ]
  },
  {
   "cell_type": "code",
   "execution_count": 58,
   "id": "1bd75126",
   "metadata": {},
   "outputs": [
    {
     "name": "stdout",
     "output_type": "stream",
     "text": [
      "The skewness of the cleanliness score is:    -1.64\n",
      "The skewness of the overall rating is:     -1.40\n",
      "The skewness of the communication score is:      -1.93\n",
      "The skewness of the location score is:      -1.70\n",
      "The skewness of the checkin score is:      -1.88\n",
      "The skewness of the number of reviews is:      1.45\n",
      "The skewness of the price is:      1.61\n"
     ]
    }
   ],
   "source": [
    "# view skewness\n",
    "print_skewness(df_train_encoded)"
   ]
  },
  {
   "cell_type": "markdown",
   "id": "ac86a719",
   "metadata": {},
   "source": [
    "We have removed the outliers for these columns yet skewness is still an issue. First we will try a log transformation then a boxcox."
   ]
  },
  {
   "cell_type": "code",
   "execution_count": 59,
   "id": "2eaabb45",
   "metadata": {},
   "outputs": [
    {
     "data": {
      "text/plain": [
       "count    3793.000000\n",
       "mean       56.502768\n",
       "std        62.149333\n",
       "min         1.000000\n",
       "25%         8.000000\n",
       "50%        35.000000\n",
       "75%        84.000000\n",
       "max       294.000000\n",
       "Name: number_of_reviews, dtype: float64"
      ]
     },
     "execution_count": 59,
     "metadata": {},
     "output_type": "execute_result"
    }
   ],
   "source": [
    "# To do log or boxcox transformation there cannot be any zero values. \n",
    "# I will change all listings that have 0 reviews to having 1 review\n",
    "df_train_encoded.loc[(df_train_encoded['number_of_reviews'] == 0), 'number_of_reviews'] = 1\n",
    "df_test_encoded.loc[(df_test_encoded['number_of_reviews'] == 0), 'number_of_reviews'] = 1\n",
    "\n",
    "df_train_encoded.loc[(df_train_encoded['review_scores_rating'] == 0), 'review_scores_rating'] = 1\n",
    "df_test_encoded.loc[(df_test_encoded['review_scores_rating'] == 0), 'review_scores_rating'] = 1\n",
    "\n",
    "df_train_encoded['number_of_reviews'].describe()"
   ]
  },
  {
   "cell_type": "code",
   "execution_count": 60,
   "id": "520cad98",
   "metadata": {},
   "outputs": [],
   "source": [
    "# perform log transformation on skewed columns \n",
    "skewed_cols = ['number_of_reviews',\n",
    "       'review_scores_rating', 'review_scores_cleanliness',\n",
    "       'review_scores_checkin','review_scores_communication',\n",
    "       'review_scores_location', 'price']\n",
    "\n",
    "train_log = df_train_encoded.copy()\n",
    "test_log = df_test_encoded.copy()\n",
    "\n",
    "train_log[skewed_cols] = np.log(df_train_encoded[skewed_cols])\n",
    "test_log[skewed_cols] = np.log(df_test_encoded[skewed_cols])\n"
   ]
  },
  {
   "cell_type": "code",
   "execution_count": 61,
   "id": "8de914c5",
   "metadata": {},
   "outputs": [
    {
     "name": "stdout",
     "output_type": "stream",
     "text": [
      "The skewness of the cleanliness score is:    -1.77\n",
      "The skewness of the overall rating is:     -1.51\n",
      "The skewness of the communication score is:      -2.00\n",
      "The skewness of the location score is:      -1.84\n",
      "The skewness of the checkin score is:      -1.93\n",
      "The skewness of the number of reviews is:      -0.64\n",
      "The skewness of the price is:      0.04\n"
     ]
    }
   ],
   "source": [
    "# we see that the log transformation did not really help so we will go with boxcox instead\n",
    "print_skewness(train_log)"
   ]
  },
  {
   "cell_type": "code",
   "execution_count": 62,
   "id": "814f9e68",
   "metadata": {},
   "outputs": [
    {
     "name": "stdout",
     "output_type": "stream",
     "text": [
      "{(3793, 127)}\n",
      "{(1505, 127)}\n"
     ]
    }
   ],
   "source": [
    "# before we seperate the target variable lets see how many rows are left after preprocessing\n",
    "print({df_train_encoded.shape})\n",
    "print({df_test_encoded.shape})"
   ]
  },
  {
   "cell_type": "code",
   "execution_count": 63,
   "id": "174d0a9a",
   "metadata": {},
   "outputs": [],
   "source": [
    "# separate target variable from predictor variables\n",
    "target = 'price'\n",
    "\n",
    "y_train = df_train_encoded[target].copy()\n",
    "X_train = df_train_encoded.drop(target, axis=1).copy()\n",
    "y_test = df_test_encoded[target].copy()\n",
    "X_test = df_test_encoded.drop(target, axis=1).copy()"
   ]
  },
  {
   "cell_type": "code",
   "execution_count": 64,
   "id": "b162ce26",
   "metadata": {},
   "outputs": [],
   "source": [
    "# turn y sets back to dfs\n",
    "y_train = y_train.to_frame()\n",
    "y_test = y_test.to_frame()"
   ]
  },
  {
   "cell_type": "code",
   "execution_count": 65,
   "id": "3fa041eb",
   "metadata": {},
   "outputs": [],
   "source": [
    "# make a list of just the skewed predictor variables for transformation\n",
    "skewed_cols_X = ['number_of_reviews',\n",
    "       'review_scores_rating', 'review_scores_cleanliness',\n",
    "       'review_scores_checkin','review_scores_communication',\n",
    "       'review_scores_location']"
   ]
  },
  {
   "cell_type": "code",
   "execution_count": 66,
   "id": "464c838f",
   "metadata": {},
   "outputs": [],
   "source": [
    "# boxcox transformation\n",
    "y_test_bc = y_test.copy()\n",
    "X_train_bc = X_train.copy()\n",
    "y_train_bc = y_train.copy()\n",
    "X_test_bc = X_test.copy()\n",
    "\n",
    "# create the transformer\n",
    "transformer = PowerTransformer(method='box-cox', standardize=False)\n",
    "\n",
    "# create the transformer for y\n",
    "transformer_y = PowerTransformer(method='box-cox', standardize=False)\n",
    "\n",
    "#fit the y_transformer on y_train\n",
    "transformer_y.fit(y_train_bc)\n",
    "\n",
    "# transform test and train sets\n",
    "transformer_y.transform(y_test_bc)\n",
    "transformer_y.transform(y_train_bc)\n",
    "\n",
    "# fit the x transformer on X_train\n",
    "transformer.fit(X_train_bc[skewed_cols_X])\n",
    "\n",
    "# transform the X training and test sets \n",
    "X_train_bc[skewed_cols_X] = transformer.transform(X_train_bc[skewed_cols_X])\n",
    "X_test_bc[skewed_cols_X] = transformer.transform(X_test_bc[skewed_cols_X])"
   ]
  },
  {
   "cell_type": "code",
   "execution_count": 67,
   "id": "66e183eb",
   "metadata": {},
   "outputs": [],
   "source": [
    "# we need to know lambda for interpretation of the performance metrics during modeling\n",
    "def boxcox(df, var):\n",
    "\n",
    "    box_var = stats.boxcox(df[var])\n",
    "\n",
    "    print(f'''The lambda used for {var} is\\\n",
    "     {box_var[1]:.7f}''')"
   ]
  },
  {
   "cell_type": "code",
   "execution_count": 68,
   "id": "1f24fe93",
   "metadata": {},
   "outputs": [
    {
     "name": "stdout",
     "output_type": "stream",
     "text": [
      "The lambda used for price is     -0.0207010\n"
     ]
    }
   ],
   "source": [
    "# we will use this lambda in the function to get the performance metrics for the different models\n",
    "boxcox(y_train_bc, 'price')"
   ]
  },
  {
   "cell_type": "code",
   "execution_count": 69,
   "id": "d1a5a01a",
   "metadata": {},
   "outputs": [],
   "source": [
    "# setup standardScaler\n",
    "scaler_x = StandardScaler()\n",
    "scaler_y = StandardScaler()"
   ]
  },
  {
   "cell_type": "code",
   "execution_count": 70,
   "id": "2020e0fe",
   "metadata": {},
   "outputs": [],
   "source": [
    "# fit on x_train\n",
    "scaler_x.fit(X_train_bc)\n",
    "\n",
    "# fit on y_train\n",
    "scaler_y.fit(y_train_bc)\n",
    "\n",
    "# transform X_train & X_test\n",
    "X_train_scaled = scaler_x.transform(X_train_bc)\n",
    "X_test_scaled = scaler_x.transform(X_test_bc)\n",
    "\n",
    "# transform y_train & y_test only \n",
    "y_train_scaled = scaler_y.transform(y_train_bc)\n",
    "y_test_scaled = scaler_y.transform(y_test_bc)\n"
   ]
  },
  {
   "cell_type": "code",
   "execution_count": 71,
   "id": "2c58ac22",
   "metadata": {},
   "outputs": [
    {
     "data": {
      "text/html": [
       "<div>\n",
       "<style scoped>\n",
       "    .dataframe tbody tr th:only-of-type {\n",
       "        vertical-align: middle;\n",
       "    }\n",
       "\n",
       "    .dataframe tbody tr th {\n",
       "        vertical-align: top;\n",
       "    }\n",
       "\n",
       "    .dataframe thead th {\n",
       "        text-align: right;\n",
       "    }\n",
       "</style>\n",
       "<table border=\"1\" class=\"dataframe\">\n",
       "  <thead>\n",
       "    <tr style=\"text-align: right;\">\n",
       "      <th></th>\n",
       "      <th>host_is_superhost</th>\n",
       "      <th>bathrooms</th>\n",
       "      <th>bedrooms</th>\n",
       "      <th>beds</th>\n",
       "      <th>minimum_nights</th>\n",
       "      <th>maximum_nights</th>\n",
       "      <th>availability_30</th>\n",
       "      <th>availability_365</th>\n",
       "      <th>number_of_reviews</th>\n",
       "      <th>review_scores_rating</th>\n",
       "      <th>...</th>\n",
       "      <th>property_type_Shared room in tiny house</th>\n",
       "      <th>property_type_Barn</th>\n",
       "      <th>property_type_Room in serviced apartment</th>\n",
       "      <th>property_type_Farm stay</th>\n",
       "      <th>property_type_Room in resort</th>\n",
       "      <th>property_type_Entire home/apt</th>\n",
       "      <th>property_type_Shared room in condominium (condo)</th>\n",
       "      <th>room_type_Private room</th>\n",
       "      <th>room_type_Shared room</th>\n",
       "      <th>instant_bookable_t</th>\n",
       "    </tr>\n",
       "  </thead>\n",
       "  <tbody>\n",
       "    <tr>\n",
       "      <th>count</th>\n",
       "      <td>3793.0</td>\n",
       "      <td>3793.0</td>\n",
       "      <td>3793.0</td>\n",
       "      <td>3793.0</td>\n",
       "      <td>3793.0</td>\n",
       "      <td>3793.0</td>\n",
       "      <td>3793.0</td>\n",
       "      <td>3793.0</td>\n",
       "      <td>3793.0</td>\n",
       "      <td>3793.0</td>\n",
       "      <td>...</td>\n",
       "      <td>3793.0</td>\n",
       "      <td>3793.0</td>\n",
       "      <td>3793.0</td>\n",
       "      <td>3793.0</td>\n",
       "      <td>3793.0</td>\n",
       "      <td>3793.0</td>\n",
       "      <td>3793.0</td>\n",
       "      <td>3793.0</td>\n",
       "      <td>3793.0</td>\n",
       "      <td>3793.0</td>\n",
       "    </tr>\n",
       "    <tr>\n",
       "      <th>mean</th>\n",
       "      <td>0.0</td>\n",
       "      <td>-0.0</td>\n",
       "      <td>-0.0</td>\n",
       "      <td>-0.0</td>\n",
       "      <td>-0.0</td>\n",
       "      <td>-0.0</td>\n",
       "      <td>0.0</td>\n",
       "      <td>0.0</td>\n",
       "      <td>0.0</td>\n",
       "      <td>0.0</td>\n",
       "      <td>...</td>\n",
       "      <td>-0.0</td>\n",
       "      <td>-0.0</td>\n",
       "      <td>-0.0</td>\n",
       "      <td>0.0</td>\n",
       "      <td>-0.0</td>\n",
       "      <td>-0.0</td>\n",
       "      <td>-0.0</td>\n",
       "      <td>0.0</td>\n",
       "      <td>0.0</td>\n",
       "      <td>-0.0</td>\n",
       "    </tr>\n",
       "    <tr>\n",
       "      <th>std</th>\n",
       "      <td>1.0</td>\n",
       "      <td>1.0</td>\n",
       "      <td>1.0</td>\n",
       "      <td>1.0</td>\n",
       "      <td>1.0</td>\n",
       "      <td>1.0</td>\n",
       "      <td>1.0</td>\n",
       "      <td>1.0</td>\n",
       "      <td>1.0</td>\n",
       "      <td>1.0</td>\n",
       "      <td>...</td>\n",
       "      <td>1.0</td>\n",
       "      <td>1.0</td>\n",
       "      <td>1.0</td>\n",
       "      <td>1.0</td>\n",
       "      <td>1.0</td>\n",
       "      <td>1.0</td>\n",
       "      <td>1.0</td>\n",
       "      <td>1.0</td>\n",
       "      <td>1.0</td>\n",
       "      <td>1.0</td>\n",
       "    </tr>\n",
       "    <tr>\n",
       "      <th>min</th>\n",
       "      <td>-1.1</td>\n",
       "      <td>-0.7</td>\n",
       "      <td>-0.9</td>\n",
       "      <td>-1.1</td>\n",
       "      <td>-0.6</td>\n",
       "      <td>-1.3</td>\n",
       "      <td>-1.2</td>\n",
       "      <td>-1.2</td>\n",
       "      <td>-1.6</td>\n",
       "      <td>-2.2</td>\n",
       "      <td>...</td>\n",
       "      <td>-0.0</td>\n",
       "      <td>-0.0</td>\n",
       "      <td>-0.0</td>\n",
       "      <td>-0.0</td>\n",
       "      <td>-0.0</td>\n",
       "      <td>-0.0</td>\n",
       "      <td>-0.0</td>\n",
       "      <td>-0.4</td>\n",
       "      <td>-0.1</td>\n",
       "      <td>-1.0</td>\n",
       "    </tr>\n",
       "    <tr>\n",
       "      <th>25%</th>\n",
       "      <td>-1.1</td>\n",
       "      <td>-0.7</td>\n",
       "      <td>-0.9</td>\n",
       "      <td>-1.1</td>\n",
       "      <td>-0.5</td>\n",
       "      <td>-1.1</td>\n",
       "      <td>-1.2</td>\n",
       "      <td>-0.9</td>\n",
       "      <td>-0.8</td>\n",
       "      <td>-0.7</td>\n",
       "      <td>...</td>\n",
       "      <td>-0.0</td>\n",
       "      <td>-0.0</td>\n",
       "      <td>-0.0</td>\n",
       "      <td>-0.0</td>\n",
       "      <td>-0.0</td>\n",
       "      <td>-0.0</td>\n",
       "      <td>-0.0</td>\n",
       "      <td>-0.4</td>\n",
       "      <td>-0.1</td>\n",
       "      <td>-1.0</td>\n",
       "    </tr>\n",
       "    <tr>\n",
       "      <th>50%</th>\n",
       "      <td>1.0</td>\n",
       "      <td>-0.7</td>\n",
       "      <td>-0.1</td>\n",
       "      <td>0.2</td>\n",
       "      <td>-0.5</td>\n",
       "      <td>0.5</td>\n",
       "      <td>-0.1</td>\n",
       "      <td>-0.2</td>\n",
       "      <td>0.1</td>\n",
       "      <td>-0.1</td>\n",
       "      <td>...</td>\n",
       "      <td>-0.0</td>\n",
       "      <td>-0.0</td>\n",
       "      <td>-0.0</td>\n",
       "      <td>-0.0</td>\n",
       "      <td>-0.0</td>\n",
       "      <td>-0.0</td>\n",
       "      <td>-0.0</td>\n",
       "      <td>-0.4</td>\n",
       "      <td>-0.1</td>\n",
       "      <td>1.0</td>\n",
       "    </tr>\n",
       "    <tr>\n",
       "      <th>75%</th>\n",
       "      <td>1.0</td>\n",
       "      <td>0.9</td>\n",
       "      <td>0.8</td>\n",
       "      <td>0.2</td>\n",
       "      <td>-0.4</td>\n",
       "      <td>1.0</td>\n",
       "      <td>0.8</td>\n",
       "      <td>1.0</td>\n",
       "      <td>0.8</td>\n",
       "      <td>0.8</td>\n",
       "      <td>...</td>\n",
       "      <td>-0.0</td>\n",
       "      <td>-0.0</td>\n",
       "      <td>-0.0</td>\n",
       "      <td>-0.0</td>\n",
       "      <td>-0.0</td>\n",
       "      <td>-0.0</td>\n",
       "      <td>-0.0</td>\n",
       "      <td>-0.4</td>\n",
       "      <td>-0.1</td>\n",
       "      <td>1.0</td>\n",
       "    </tr>\n",
       "    <tr>\n",
       "      <th>max</th>\n",
       "      <td>1.0</td>\n",
       "      <td>5.5</td>\n",
       "      <td>3.3</td>\n",
       "      <td>3.3</td>\n",
       "      <td>5.4</td>\n",
       "      <td>1.0</td>\n",
       "      <td>1.9</td>\n",
       "      <td>1.7</td>\n",
       "      <td>2.0</td>\n",
       "      <td>1.4</td>\n",
       "      <td>...</td>\n",
       "      <td>43.5</td>\n",
       "      <td>61.6</td>\n",
       "      <td>61.6</td>\n",
       "      <td>43.5</td>\n",
       "      <td>61.6</td>\n",
       "      <td>61.6</td>\n",
       "      <td>61.6</td>\n",
       "      <td>2.6</td>\n",
       "      <td>12.8</td>\n",
       "      <td>1.0</td>\n",
       "    </tr>\n",
       "  </tbody>\n",
       "</table>\n",
       "<p>8 rows × 126 columns</p>\n",
       "</div>"
      ],
      "text/plain": [
       "       host_is_superhost  bathrooms  bedrooms    beds  minimum_nights  \\\n",
       "count             3793.0     3793.0    3793.0  3793.0          3793.0   \n",
       "mean                 0.0       -0.0      -0.0    -0.0            -0.0   \n",
       "std                  1.0        1.0       1.0     1.0             1.0   \n",
       "min                 -1.1       -0.7      -0.9    -1.1            -0.6   \n",
       "25%                 -1.1       -0.7      -0.9    -1.1            -0.5   \n",
       "50%                  1.0       -0.7      -0.1     0.2            -0.5   \n",
       "75%                  1.0        0.9       0.8     0.2            -0.4   \n",
       "max                  1.0        5.5       3.3     3.3             5.4   \n",
       "\n",
       "       maximum_nights  availability_30  availability_365  number_of_reviews  \\\n",
       "count          3793.0           3793.0            3793.0             3793.0   \n",
       "mean             -0.0              0.0               0.0                0.0   \n",
       "std               1.0              1.0               1.0                1.0   \n",
       "min              -1.3             -1.2              -1.2               -1.6   \n",
       "25%              -1.1             -1.2              -0.9               -0.8   \n",
       "50%               0.5             -0.1              -0.2                0.1   \n",
       "75%               1.0              0.8               1.0                0.8   \n",
       "max               1.0              1.9               1.7                2.0   \n",
       "\n",
       "       review_scores_rating  ...  property_type_Shared room in tiny house  \\\n",
       "count                3793.0  ...                                   3793.0   \n",
       "mean                    0.0  ...                                     -0.0   \n",
       "std                     1.0  ...                                      1.0   \n",
       "min                    -2.2  ...                                     -0.0   \n",
       "25%                    -0.7  ...                                     -0.0   \n",
       "50%                    -0.1  ...                                     -0.0   \n",
       "75%                     0.8  ...                                     -0.0   \n",
       "max                     1.4  ...                                     43.5   \n",
       "\n",
       "       property_type_Barn  property_type_Room in serviced apartment  \\\n",
       "count              3793.0                                    3793.0   \n",
       "mean                 -0.0                                      -0.0   \n",
       "std                   1.0                                       1.0   \n",
       "min                  -0.0                                      -0.0   \n",
       "25%                  -0.0                                      -0.0   \n",
       "50%                  -0.0                                      -0.0   \n",
       "75%                  -0.0                                      -0.0   \n",
       "max                  61.6                                      61.6   \n",
       "\n",
       "       property_type_Farm stay  property_type_Room in resort  \\\n",
       "count                   3793.0                        3793.0   \n",
       "mean                       0.0                          -0.0   \n",
       "std                        1.0                           1.0   \n",
       "min                       -0.0                          -0.0   \n",
       "25%                       -0.0                          -0.0   \n",
       "50%                       -0.0                          -0.0   \n",
       "75%                       -0.0                          -0.0   \n",
       "max                       43.5                          61.6   \n",
       "\n",
       "       property_type_Entire home/apt  \\\n",
       "count                         3793.0   \n",
       "mean                            -0.0   \n",
       "std                              1.0   \n",
       "min                             -0.0   \n",
       "25%                             -0.0   \n",
       "50%                             -0.0   \n",
       "75%                             -0.0   \n",
       "max                             61.6   \n",
       "\n",
       "       property_type_Shared room in condominium (condo)  \\\n",
       "count                                            3793.0   \n",
       "mean                                               -0.0   \n",
       "std                                                 1.0   \n",
       "min                                                -0.0   \n",
       "25%                                                -0.0   \n",
       "50%                                                -0.0   \n",
       "75%                                                -0.0   \n",
       "max                                                61.6   \n",
       "\n",
       "       room_type_Private room  room_type_Shared room  instant_bookable_t  \n",
       "count                  3793.0                 3793.0              3793.0  \n",
       "mean                      0.0                    0.0                -0.0  \n",
       "std                       1.0                    1.0                 1.0  \n",
       "min                      -0.4                   -0.1                -1.0  \n",
       "25%                      -0.4                   -0.1                -1.0  \n",
       "50%                      -0.4                   -0.1                 1.0  \n",
       "75%                      -0.4                   -0.1                 1.0  \n",
       "max                       2.6                   12.8                 1.0  \n",
       "\n",
       "[8 rows x 126 columns]"
      ]
     },
     "execution_count": 71,
     "metadata": {},
     "output_type": "execute_result"
    }
   ],
   "source": [
    "# turn scaled data back into dataframes\n",
    "X_train = pd.DataFrame(X_train_scaled, columns=X_train_bc.columns)\n",
    "X_test = pd.DataFrame(X_test_scaled, columns=X_test_bc.columns)\n",
    "y_train = pd.DataFrame(y_train_scaled, columns=y_train_bc.columns)\n",
    "y_test = pd.DataFrame(y_test_scaled, columns=y_test_bc.columns)\n",
    "np.round(X_train.describe(), 1)"
   ]
  },
  {
   "cell_type": "markdown",
   "id": "f29a25c6",
   "metadata": {},
   "source": [
    "# 2. Modeling\n",
    "The baseline model will be a Linear Regression model.\n",
    "\n",
    "I will make a function to evaluate our model's performance. A brief overview of the different metrics:\n",
    "- Mean Absolute Error (MAE): A basic metric that gives us the absolute difference between actual and predicted values. Ideally the final model would have a smaller MAE than the baseline model since we aim to lower the amount of error by tuning models.\n",
    "- Mean Squared Error (MSE): Finds the squared difference between the actual and predicted values. The MSE is helpful since it avoids the cancellation of negative terms (unlike MAE). However, outliers will be more damaging since it penalizes the outliers more than MAE. \n",
    "- Root Mean Square Error(RMSE): Is the square root of the MSE. RMSE is easier to interpret than MSE since the output is in the same units as the variable"
   ]
  },
  {
   "cell_type": "code",
   "execution_count": 72,
   "id": "1f4db633",
   "metadata": {},
   "outputs": [],
   "source": [
    "# function to view model's performance\n",
    "def performance_metrics(model, X_test, y_test):\n",
    "    \n",
    "    # need to set up standard scaler to transform predictions back to original form for interpretation\n",
    "    scaler_y = StandardScaler()\n",
    "    scaler_y.fit(y_train)\n",
    "    \n",
    "    # get prediction on X_train\n",
    "    train_pred = model.predict(X_train)\n",
    "    # reshape to work with tree models\n",
    "    train_pred = train_pred.reshape(-1,1)\n",
    "    # inverse transform StandardScaler\n",
    "    train_pred_inv_SS = scaler_y.inverse_transform(train_pred)\n",
    "    # inverse transform BoxCox, lambda was found during transformation\n",
    "    train_pred_inv_BC = (inv_boxcox(train_pred_inv_SS,-0.0207010))\n",
    "    \n",
    "    # get prediction on X_test\n",
    "    test_pred = model.predict(X_test)\n",
    "    # reshape to work with tree models\n",
    "    test_pred = test_pred.reshape(-1,1)\n",
    "    # inverse transform StandardScaler\n",
    "    test_pred_inv_SS = scaler_y.inverse_transform(test_pred)\n",
    "    # inverse transform BoxCox, lambda was found during transformation\n",
    "    test_pred_inv_BC = (inv_boxcox(test_pred_inv_SS,-0.0207010))\n",
    "    \n",
    "    print(f'Test Mean Absolute Error : {round(mean_absolute_error(y_test,test_pred_inv_BC),2)}')\n",
    "    print(f'Test Mean Squared Error: {round(mean_squared_error(y_test,test_pred_inv_BC),2)}')\n",
    "    print(f'Test Root Mean Square Error :$ {round(np.sqrt(mean_squared_error(y_test,test_pred_inv_BC)),2)}')\n",
    "    print(f'Train Root Mean Square Error :$ {round(np.sqrt(mean_squared_error(y_train,train_pred_inv_BC)),2)}')"
   ]
  },
  {
   "cell_type": "markdown",
   "id": "d33ce7f1",
   "metadata": {},
   "source": [
    "### Baseline Model\n",
    "For the baseline model I am choosing to do linear regression since it is a simple model. "
   ]
  },
  {
   "cell_type": "code",
   "execution_count": 73,
   "id": "2e78f40b",
   "metadata": {},
   "outputs": [
    {
     "name": "stdout",
     "output_type": "stream",
     "text": [
      "Test Mean Absolute Error : 1.79\n",
      "Test Mean Squared Error: 10.11\n",
      "Test Root Mean Square Error :$ 3.18\n",
      "Train Root Mean Square Error :$ 2.07\n"
     ]
    }
   ],
   "source": [
    "# Linear regression is base model\n",
    "lr_base = LinearRegression()\n",
    "lr_base.fit(X_train, y_train)\n",
    "\n",
    "# view performance\n",
    "performance_metrics(lr_base, X_test, y_test)"
   ]
  },
  {
   "cell_type": "code",
   "execution_count": 74,
   "id": "0e0ffc1e",
   "metadata": {},
   "outputs": [],
   "source": [
    "# save baseline results so we can view later on\n",
    "base_results = {'Test Mean Absolute Error : 1.79',\n",
    "                'Test Mean Squared Error: 10.11',\n",
    "                'Test Root Mean Square Error :$ 3.18',\n",
    "                'Train Root Mean Square Error :$ 2.07'}"
   ]
  },
  {
   "cell_type": "markdown",
   "id": "f8f3c9ed",
   "metadata": {},
   "source": [
    "To rely on a linear regression model it must meet the assumptions of linear regression. We will take a look at the assumptions next, "
   ]
  },
  {
   "cell_type": "code",
   "execution_count": 75,
   "id": "e1a144e3",
   "metadata": {},
   "outputs": [],
   "source": [
    "# get residuals to look at assumptions of linear regression\n",
    "test_pred = lr_base.predict(X_test)\n",
    "residuals = y_test - test_pred"
   ]
  },
  {
   "cell_type": "code",
   "execution_count": 76,
   "id": "ab4f264e",
   "metadata": {},
   "outputs": [
    {
     "data": {
      "text/plain": [
       "<AxesSubplot:ylabel='Density'>"
      ]
     },
     "execution_count": 76,
     "metadata": {},
     "output_type": "execute_result"
    },
    {
     "data": {
      "image/png": "[encoded data removed]",
      "text/plain": [
       "<Figure size 432x288 with 1 Axes>"
      ]
     },
     "metadata": {
      "needs_background": "light"
     },
     "output_type": "display_data"
    }
   ],
   "source": [
    "# look at normality\n",
    "warnings.filterwarnings('ignore')\n",
    "sns.distplot(residuals)"
   ]
  },
  {
   "cell_type": "code",
   "execution_count": 77,
   "id": "50be572d",
   "metadata": {},
   "outputs": [
    {
     "data": {
      "image/png": "[encoded data removed]",
      "text/plain": [
       "<Figure size 432x180 with 1 Axes>"
      ]
     },
     "metadata": {
      "needs_background": "light"
     },
     "output_type": "display_data"
    }
   ],
   "source": [
    "#The residuals do not show a pattern \n",
    "fig, ax = plt.subplots(figsize=(6,2.5))\n",
    "_ = ax.scatter(test_pred, residuals)"
   ]
  },
  {
   "cell_type": "code",
   "execution_count": 78,
   "id": "79327533",
   "metadata": {},
   "outputs": [
    {
     "name": "stdout",
     "output_type": "stream",
     "text": [
      "                       feature       VIF\n",
      "0               maximum_nights  1.007739\n",
      "1              availability_30  1.268117\n",
      "2             availability_365  1.270027\n",
      "3            number_of_reviews  1.111386\n",
      "4         review_scores_rating  3.491498\n",
      "5    review_scores_cleanliness  2.255183\n",
      "6        review_scores_checkin  2.052931\n",
      "7  review_scores_communication  2.405259\n",
      "8       review_scores_location  1.320121\n"
     ]
    }
   ],
   "source": [
    "# Double check for multicollinearity\n",
    "X_num = X_train[['maximum_nights', 'availability_30', 'availability_365',\n",
    "       'number_of_reviews', 'review_scores_rating',\n",
    "       'review_scores_cleanliness', 'review_scores_checkin',\n",
    "       'review_scores_communication', 'review_scores_location']]\n",
    "\n",
    "# VIF dataframe\n",
    "vif_data = pd.DataFrame()\n",
    "vif_data[\"feature\"] = X_num.columns\n",
    "  \n",
    "# calculating VIF for each feature\n",
    "vif_data[\"VIF\"] = [variance_inflation_factor(X_num.values, i)\n",
    "                          for i in range(len(X_num.columns))]\n",
    "  \n",
    "print(vif_data)"
   ]
  },
  {
   "cell_type": "markdown",
   "id": "dbd77710",
   "metadata": {},
   "source": [
    "We see the baseline model has a RMSE of $\\$$3.18 which indicates from the start this is a pretty well performing model. Since the average price overall is around $\\$$190, an error of $\\$$3.18 is not very off from the actual price."
   ]
  },
  {
   "cell_type": "markdown",
   "id": "a00ebd80",
   "metadata": {},
   "source": [
    "## Model 2\n",
    "For regression there are many different model types to choose from. Next, I am going to try a Random Forest Model which is a little more robust to outliers than a Linear Regression model is. "
   ]
  },
  {
   "cell_type": "code",
   "execution_count": 79,
   "id": "6343fc83",
   "metadata": {},
   "outputs": [
    {
     "name": "stdout",
     "output_type": "stream",
     "text": [
      "Test Mean Absolute Error : 1.81\n",
      "Test Mean Squared Error: 7.87\n",
      "Test Root Mean Square Error :$ 2.81\n",
      "Train Root Mean Square Error :$ 3.28\n"
     ]
    }
   ],
   "source": [
    "# Import Random Forest\n",
    "forest_baseline = RandomForestRegressor(random_state=42)\n",
    "forest_baseline.fit(X_train, y_train.values.ravel())\n",
    "\n",
    "# view performance metrics\n",
    "performance_metrics(forest_baseline, X_test, y_test)"
   ]
  },
  {
   "cell_type": "markdown",
   "id": "368b74ed",
   "metadata": {},
   "source": [
    "The RandomForest model did perform better than the linear regression model"
   ]
  },
  {
   "cell_type": "code",
   "execution_count": 80,
   "id": "8ce574b2",
   "metadata": {},
   "outputs": [
    {
     "data": {
      "text/plain": [
       "{'criterion': 'squared_error',\n",
       " 'max_depth': 50,\n",
       " 'max_features': 'auto',\n",
       " 'min_samples_leaf': 10,\n",
       " 'min_samples_split': 2}"
      ]
     },
     "execution_count": 80,
     "metadata": {},
     "output_type": "execute_result"
    }
   ],
   "source": [
    "# Use gridsearch to find a better RandomForest model\n",
    "# I will start with a spread of different parameter options\n",
    "param = {\n",
    "    'criterion': ['squared_error'],\n",
    "    'max_depth': [10, 50, 75],\n",
    "    'max_features': ['auto', 'sqrt'],\n",
    "    'min_samples_leaf': [10, 30, 50],\n",
    "    'min_samples_split': [2, 5, 10],\n",
    "}\n",
    "\n",
    "gridsearch_rf1 = GridSearchCV(estimator=forest_baseline,\n",
    "                          param_grid=param, cv= 3, scoring='neg_mean_squared_error')\n",
    "\n",
    "# Run search & takes a while to run\n",
    "gridsearch_rf1.fit(X_train, y_train.values.ravel())\n",
    "gridsearch_rf1.best_params_"
   ]
  },
  {
   "cell_type": "code",
   "execution_count": 81,
   "id": "5370044c",
   "metadata": {},
   "outputs": [
    {
     "name": "stdout",
     "output_type": "stream",
     "text": [
      "Test Mean Absolute Error : 1.64\n",
      "Test Mean Squared Error: 5.43\n",
      "Test Root Mean Square Error :$ 2.33\n",
      "Train Root Mean Square Error :$ 2.01\n"
     ]
    }
   ],
   "source": [
    "# view performance metrics\n",
    "performance_metrics(gridsearch_rf1, X_test, y_test)"
   ]
  },
  {
   "cell_type": "code",
   "execution_count": 82,
   "id": "947c7f3d",
   "metadata": {},
   "outputs": [
    {
     "data": {
      "text/plain": [
       "{'criterion': 'squared_error',\n",
       " 'max_depth': 40,\n",
       " 'max_features': 'auto',\n",
       " 'min_samples_leaf': 5,\n",
       " 'min_samples_split': 2}"
      ]
     },
     "execution_count": 82,
     "metadata": {},
     "output_type": "execute_result"
    }
   ],
   "source": [
    "# Use first gridsearch to try to find a better RandomForest model\n",
    "param = {\n",
    "    'criterion': ['squared_error'],\n",
    "    'max_depth': [40, 50, 60],\n",
    "    'max_features': ['auto'],\n",
    "    'min_samples_leaf': [5, 10, 20],\n",
    "    'min_samples_split': [2, 3],\n",
    "}\n",
    "\n",
    "gridsearch_rf2 = GridSearchCV(estimator=forest_baseline,\n",
    "                          param_grid=param, cv= 3, scoring='neg_mean_squared_error')\n",
    "\n",
    "# Run search & takes a while to run\n",
    "gridsearch_rf2.fit(X_train, y_train.values.ravel())\n",
    "gridsearch_rf2.best_params_"
   ]
  },
  {
   "cell_type": "code",
   "execution_count": 83,
   "id": "451ca6ff",
   "metadata": {},
   "outputs": [
    {
     "name": "stdout",
     "output_type": "stream",
     "text": [
      "Test Mean Absolute Error : 1.71\n",
      "Test Mean Squared Error: 6.35\n",
      "Test Root Mean Square Error :$ 2.52\n",
      "Train Root Mean Square Error :$ 2.3\n"
     ]
    }
   ],
   "source": [
    "# view performance metrics\n",
    "performance_metrics(gridsearch_rf2, X_test, y_test)"
   ]
  },
  {
   "cell_type": "code",
   "execution_count": 84,
   "id": "ce64c15f",
   "metadata": {},
   "outputs": [
    {
     "name": "stdout",
     "output_type": "stream",
     "text": [
      "(54, 16)\n"
     ]
    },
    {
     "data": {
      "text/html": [
       "<div>\n",
       "<style scoped>\n",
       "    .dataframe tbody tr th:only-of-type {\n",
       "        vertical-align: middle;\n",
       "    }\n",
       "\n",
       "    .dataframe tbody tr th {\n",
       "        vertical-align: top;\n",
       "    }\n",
       "\n",
       "    .dataframe thead th {\n",
       "        text-align: right;\n",
       "    }\n",
       "</style>\n",
       "<table border=\"1\" class=\"dataframe\">\n",
       "  <thead>\n",
       "    <tr style=\"text-align: right;\">\n",
       "      <th></th>\n",
       "      <th>mean_fit_time</th>\n",
       "      <th>std_fit_time</th>\n",
       "      <th>mean_score_time</th>\n",
       "      <th>std_score_time</th>\n",
       "      <th>param_criterion</th>\n",
       "      <th>param_max_depth</th>\n",
       "      <th>param_max_features</th>\n",
       "      <th>param_min_samples_leaf</th>\n",
       "      <th>param_min_samples_split</th>\n",
       "      <th>params</th>\n",
       "      <th>split0_test_score</th>\n",
       "      <th>split1_test_score</th>\n",
       "      <th>split2_test_score</th>\n",
       "      <th>mean_test_score</th>\n",
       "      <th>std_test_score</th>\n",
       "      <th>rank_test_score</th>\n",
       "    </tr>\n",
       "  </thead>\n",
       "  <tbody>\n",
       "    <tr>\n",
       "      <th>0</th>\n",
       "      <td>1.088494</td>\n",
       "      <td>0.093245</td>\n",
       "      <td>0.024349</td>\n",
       "      <td>0.001767</td>\n",
       "      <td>squared_error</td>\n",
       "      <td>75</td>\n",
       "      <td>auto</td>\n",
       "      <td>10</td>\n",
       "      <td>5</td>\n",
       "      <td>{'criterion': 'squared_error', 'max_depth': 75...</td>\n",
       "      <td>-0.487326</td>\n",
       "      <td>-0.447478</td>\n",
       "      <td>-0.418773</td>\n",
       "      <td>-0.451192</td>\n",
       "      <td>0.028109</td>\n",
       "      <td>1</td>\n",
       "    </tr>\n",
       "    <tr>\n",
       "      <th>1</th>\n",
       "      <td>1.046143</td>\n",
       "      <td>0.100828</td>\n",
       "      <td>0.028730</td>\n",
       "      <td>0.014430</td>\n",
       "      <td>squared_error</td>\n",
       "      <td>75</td>\n",
       "      <td>auto</td>\n",
       "      <td>10</td>\n",
       "      <td>2</td>\n",
       "      <td>{'criterion': 'squared_error', 'max_depth': 75...</td>\n",
       "      <td>-0.487326</td>\n",
       "      <td>-0.447478</td>\n",
       "      <td>-0.418773</td>\n",
       "      <td>-0.451192</td>\n",
       "      <td>0.028109</td>\n",
       "      <td>1</td>\n",
       "    </tr>\n",
       "  </tbody>\n",
       "</table>\n",
       "</div>"
      ],
      "text/plain": [
       "   mean_fit_time  std_fit_time  mean_score_time  std_score_time  \\\n",
       "0       1.088494      0.093245         0.024349        0.001767   \n",
       "1       1.046143      0.100828         0.028730        0.014430   \n",
       "\n",
       "  param_criterion param_max_depth param_max_features param_min_samples_leaf  \\\n",
       "0   squared_error              75               auto                     10   \n",
       "1   squared_error              75               auto                     10   \n",
       "\n",
       "  param_min_samples_split                                             params  \\\n",
       "0                       5  {'criterion': 'squared_error', 'max_depth': 75...   \n",
       "1                       2  {'criterion': 'squared_error', 'max_depth': 75...   \n",
       "\n",
       "   split0_test_score  split1_test_score  split2_test_score  mean_test_score  \\\n",
       "0          -0.487326          -0.447478          -0.418773        -0.451192   \n",
       "1          -0.487326          -0.447478          -0.418773        -0.451192   \n",
       "\n",
       "   std_test_score  rank_test_score  \n",
       "0        0.028109                1  \n",
       "1        0.028109                1  "
      ]
     },
     "execution_count": 84,
     "metadata": {},
     "output_type": "execute_result"
    }
   ],
   "source": [
    "# to better understand how the different parameters performed we can visualize the data\n",
    "results = pd.DataFrame(gridsearch_rf1.cv_results_)\n",
    "results.sort_values(by='mean_test_score', ascending=False, inplace=True)\n",
    "results.reset_index(drop=True, inplace=True)\n",
    "print(results.shape)\n",
    "\n",
    "results.head(2)"
   ]
  },
  {
   "cell_type": "code",
   "execution_count": 85,
   "id": "426027f7",
   "metadata": {},
   "outputs": [
    {
     "data": {
      "text/plain": [
       "Text(0.5, 0, 'Hyperparameter combinations')"
      ]
     },
     "execution_count": 85,
     "metadata": {},
     "output_type": "execute_result"
    },
    {
     "data": {
      "image/png": "[encoded data removed]",
      "text/plain": [
       "<Figure size 432x288 with 1 Axes>"
      ]
     },
     "metadata": {
      "needs_background": "light"
     },
     "output_type": "display_data"
    }
   ],
   "source": [
    "# plot model performance and error\n",
    "results['mean_test_score'].plot(yerr=[results['std_test_score'], results['std_test_score']], subplots=True)\n",
    "plt.ylabel('Mean test score')\n",
    "plt.xlabel('Hyperparameter combinations')"
   ]
  },
  {
   "cell_type": "markdown",
   "id": "2f46f856",
   "metadata": {},
   "source": [
    "Random Forest model improved after hyperparameter tuning and is a little better than the baseline model."
   ]
  },
  {
   "cell_type": "markdown",
   "id": "2b0e99ef",
   "metadata": {},
   "source": [
    "## Model 4\n",
    "XGBoost"
   ]
  },
  {
   "cell_type": "code",
   "execution_count": 86,
   "id": "e0b2d527",
   "metadata": {},
   "outputs": [
    {
     "name": "stdout",
     "output_type": "stream",
     "text": [
      "Test Mean Absolute Error : 2.21\n",
      "Test Mean Squared Error: 19.21\n",
      "Test Root Mean Square Error :$ 4.38\n",
      "Train Root Mean Square Error :$ 4.38\n"
     ]
    }
   ],
   "source": [
    "# set up xgboost model\n",
    "warnings.filterwarnings('ignore')\n",
    "\n",
    "xgbr = xgb.XGBRegressor(random_state=42)\n",
    "xgbr.fit(X_train, y_train)\n",
    "\n",
    "performance_metrics(xgbr, X_test, y_test)\n"
   ]
  },
  {
   "cell_type": "code",
   "execution_count": 87,
   "id": "e77a07f4",
   "metadata": {},
   "outputs": [
    {
     "data": {
      "text/plain": [
       "{'learning_rate': 0.015, 'max_depth': 5, 'n_estimators': 800}"
      ]
     },
     "execution_count": 87,
     "metadata": {},
     "output_type": "execute_result"
    }
   ],
   "source": [
    "# block warning about deprecated int64\n",
    "warnings.filterwarnings('ignore')\n",
    "\n",
    "param_grid = {\"max_depth\":    [5, 6, 7],\n",
    "              \"n_estimators\": [600, 700, 800],\n",
    "              \"learning_rate\": [0.01, 0.015, 0.25]}\n",
    "\n",
    "xgb_search = GridSearchCV(xgbr, param_grid, cv=3, scoring='neg_mean_squared_error').fit(X_train, y_train)\n",
    "\n",
    "# Run search & takes a min or two\n",
    "xgb_search.fit(X_train, y_train.values.ravel())\n",
    "xgb_search.best_params_"
   ]
  },
  {
   "cell_type": "code",
   "execution_count": 88,
   "id": "ca84060a",
   "metadata": {},
   "outputs": [
    {
     "name": "stdout",
     "output_type": "stream",
     "text": [
      "Test Mean Absolute Error : 1.9\n",
      "Test Mean Squared Error: 11.24\n",
      "Test Root Mean Square Error :$ 3.35\n",
      "Train Root Mean Square Error :$ 2.74\n"
     ]
    }
   ],
   "source": [
    "# view performance metrics\n",
    "performance_metrics(xgb_search, X_test, y_test)"
   ]
  },
  {
   "cell_type": "code",
   "execution_count": 89,
   "id": "c539402a",
   "metadata": {},
   "outputs": [
    {
     "name": "stdout",
     "output_type": "stream",
     "text": [
      "Test Mean Absolute Error : 3.35\n",
      "Test Mean Squared Error: 85.72\n",
      "Test Root Mean Square Error :$ 9.26\n",
      "Train Root Mean Square Error :$ 6.64\n"
     ]
    }
   ],
   "source": [
    "# make basic decision tree model\n",
    "from sklearn.tree import DecisionTreeRegressor\n",
    "\n",
    "tree_baseline = DecisionTreeRegressor(random_state=42)\n",
    "tree_baseline.fit(X_train, y_train)\n",
    "\n",
    "#view results\n",
    "performance_metrics(tree_baseline,X_test,y_test)"
   ]
  },
  {
   "cell_type": "markdown",
   "id": "6728c3cc",
   "metadata": {},
   "source": [
    "Decision Tree and Xgboost did much worse than the baseline model and the Random Forest models."
   ]
  },
  {
   "cell_type": "markdown",
   "id": "ec8ab0f9",
   "metadata": {},
   "source": [
    "## 3. Feature Selection\n",
    "Feature selection algorithms can be seen as a combination of search techniques for suggesting which features to use in a model. During Preprocessing basic filter methods were used for feature selection, such as looking at correlation.\n",
    " \n",
    "To gain a better understanding of different feature selection methods out there I found a great series of notebooks written by data scientist and teacher, Galli Sole. Sole gives detailed descriptions of different feature selection methods, [click here to view her notebooks.](https://github.com/solegalli/feature-selection-for-machine-learning) \n",
    " \n",
    "A review of Sole's descriptions for the feature selection methods I used are summarized below:\n",
    "- Filter Methods: \n",
    "    - Univariate feature selection: works by selecting features based on statistical tests. In this notebook I used ANOVA. This method estimates the degree of linear dependency between the target variable and random variables. ANOVA assumes a linear relationship between the target and different features. In preprocessing we removed outliers, transformed skewed data using the Box-Cox method and standardized all the variables to insure the data followed a Gaussian distribution. \n",
    "    - Lasso Regularization: is an embedded feature selection method that adds penalty to the different parameters to reduce freedom of the model and therefore avoid overfitting. Features where coefficients are reduced to zero can be removed from the model. The higher the penalization is, the more features will be removed. \n",
    "    - Embedded Importance: In this method features are selected based on the coefficient values and if the coefficient is greater than the overall mean coefficient. For random forest models each tree is built over a random extraction of the observations from the dataset and a random extraction of the features. In general, features that are selected at the top of the trees are more important than features that are selected at the end of the nodes of the trees. "
   ]
  },
  {
   "cell_type": "code",
   "execution_count": 90,
   "id": "1980a834",
   "metadata": {},
   "outputs": [],
   "source": [
    "# make the performance function again this time using selecet_test\n",
    "def performance_selection(model, select_test, y_test):\n",
    "    \n",
    "    scaler_y = StandardScaler()\n",
    "    scaler_y.fit(y_train)\n",
    "    \n",
    "    # get prediction on X_train\n",
    "    train_pred = model.predict(select_train)\n",
    "    # get prediction on X_test\n",
    "    # reshape to work with tree models\n",
    "    train_pred = train_pred.reshape(-1,1)\n",
    "    # inverse transform StandardScaler\n",
    "    train_pred_inv_SS = scaler_y.inverse_transform(train_pred)\n",
    "    # inverse transform BoxCox, lambda is from transformation\n",
    "    train_pred_inv_BC = (inv_boxcox(train_pred_inv_SS,-0.0207010))\n",
    "    \n",
    "    # get prediction on X_test\n",
    "    test_pred = model.predict(select_test)\n",
    "    # reshape to work with tree models\n",
    "    test_pred = test_pred.reshape(-1,1)\n",
    "    # inverse transform StandardScaler\n",
    "    test_pred_inv_SS = scaler_y.inverse_transform(test_pred)\n",
    "    # inverse transform BoxCox, lambda is from transformation\n",
    "    test_pred_inv_BC = (inv_boxcox(test_pred_inv_SS,-0.0207010))\n",
    "    \n",
    "    print(f'Test Mean Absolute Error : {round(mean_absolute_error(y_test,test_pred_inv_BC),2)}')\n",
    "    print(f'Test Mean Squared Error: {round(mean_squared_error(y_test,test_pred_inv_BC),2)}')\n",
    "    print(f'Test Root Mean Square Error :$ {round(np.sqrt(mean_squared_error(y_test,test_pred_inv_BC)),2)}')\n",
    "    print(f'Train Root Mean Square Error :$ {round(np.sqrt(mean_squared_error(y_train,train_pred_inv_BC)),2)}')"
   ]
  },
  {
   "cell_type": "markdown",
   "id": "aff8faa3",
   "metadata": {},
   "source": [
    "The following code is modified from [Galli Sole's notebook on Feature Selection.](https://github.com/solegalli/feature-selection-for-machine-learning)"
   ]
  },
  {
   "cell_type": "code",
   "execution_count": 91,
   "id": "fb498650",
   "metadata": {},
   "outputs": [
    {
     "data": {
      "text/plain": [
       "SelectFromModel(estimator=LinearRegression())"
      ]
     },
     "execution_count": 91,
     "metadata": {},
     "output_type": "execute_result"
    }
   ],
   "source": [
    "# try feature selection on linear regression model\n",
    "sel_linear = SelectFromModel(LinearRegression())\n",
    "\n",
    "sel_linear.fit(X_train, y_train)"
   ]
  },
  {
   "cell_type": "code",
   "execution_count": 92,
   "id": "e1b04aa0",
   "metadata": {},
   "outputs": [
    {
     "data": {
      "text/plain": [
       "43"
      ]
     },
     "execution_count": 92,
     "metadata": {},
     "output_type": "execute_result"
    }
   ],
   "source": [
    "# number of variables selected\n",
    "selected_feat_linear = X_train.columns[(sel_linear.get_support())]\n",
    "\n",
    "len(selected_feat_linear)"
   ]
  },
  {
   "cell_type": "code",
   "execution_count": 93,
   "id": "28d17b58",
   "metadata": {},
   "outputs": [
    {
     "name": "stdout",
     "output_type": "stream",
     "text": [
      "total features: 126\n",
      "selected features: 43\n",
      "features with coefficients greater than the mean coefficient: 43\n"
     ]
    }
   ],
   "source": [
    "# print features and number of selected features\n",
    "print('total features: {}'.format((X_train.shape[1])))\n",
    "\n",
    "print('selected features: {}'.format(len(selected_feat_linear)))\n",
    "\n",
    "print(\n",
    "    'features with coefficients greater than the mean coefficient: {}'.format(\n",
    "        np.sum(\n",
    "            np.abs(sel_linear.estimator_.coef_) > np.abs(\n",
    "                sel_linear.estimator_.coef_).mean())))"
   ]
  },
  {
   "cell_type": "code",
   "execution_count": 94,
   "id": "9de54634",
   "metadata": {},
   "outputs": [],
   "source": [
    "# create X train and test for just selected features\n",
    "select_train = X_train[selected_feat_linear]\n",
    "select_test = X_test[selected_feat_linear]"
   ]
  },
  {
   "cell_type": "code",
   "execution_count": 95,
   "id": "eb967569",
   "metadata": {},
   "outputs": [
    {
     "name": "stdout",
     "output_type": "stream",
     "text": [
      "Test Mean Absolute Error : 1.76\n",
      "Test Mean Squared Error: 9.25\n",
      "Test Root Mean Square Error :$ 3.04\n",
      "Train Root Mean Square Error :$ 1.99\n"
     ]
    }
   ],
   "source": [
    "# fit selected features to linear regression model\n",
    "linear_sel = LinearRegression()\n",
    "linear_sel.fit(select_train, y_train)\n",
    "\n",
    "# view performance of model\n",
    "performance_selection(linear_sel, select_test, y_test)"
   ]
  },
  {
   "cell_type": "markdown",
   "id": "fc135e6d",
   "metadata": {},
   "source": [
    "Next, try on Random Forest model to see if feature selection method helps"
   ]
  },
  {
   "cell_type": "code",
   "execution_count": 96,
   "id": "19cbbd03",
   "metadata": {},
   "outputs": [
    {
     "data": {
      "text/plain": [
       "SelectFromModel(estimator=RandomForestRegressor(max_depth=75,\n",
       "                                                min_samples_leaf=10,\n",
       "                                                random_state=42))"
      ]
     },
     "execution_count": 96,
     "metadata": {},
     "output_type": "execute_result"
    }
   ],
   "source": [
    "# set random forest regressor to the best parameters we found during GridsearchCV\n",
    "sel_rf1 = SelectFromModel(RandomForestRegressor(criterion = 'squared_error',max_depth= 75, max_features= 'auto', \n",
    "                                                min_samples_leaf= 10,min_samples_split= 2, random_state=42))\n",
    "sel_rf1.fit(X_train, y_train)"
   ]
  },
  {
   "cell_type": "code",
   "execution_count": 97,
   "id": "b39bc235",
   "metadata": {},
   "outputs": [
    {
     "data": {
      "text/plain": [
       "15"
      ]
     },
     "execution_count": 97,
     "metadata": {},
     "output_type": "execute_result"
    }
   ],
   "source": [
    "# let's make a list and count the selected features\n",
    "selected_feat_rf1 = X_train.columns[(sel_rf1.get_support())]\n",
    "len(selected_feat_rf1)"
   ]
  },
  {
   "cell_type": "code",
   "execution_count": 98,
   "id": "f7c09c80",
   "metadata": {},
   "outputs": [
    {
     "name": "stdout",
     "output_type": "stream",
     "text": [
      "total features: 126\n",
      "selected features: 15\n",
      "features with coefficients greater than the mean coefficient: 15\n"
     ]
    }
   ],
   "source": [
    "# print features and number of selected features\n",
    "print('total features: {}'.format((X_train.shape[1])))\n",
    "\n",
    "print('selected features: {}'.format(len(selected_feat_rf1)))\n",
    "\n",
    "print(\n",
    "    'features with coefficients greater than the mean coefficient: {}'.format(\n",
    "        np.sum(sel_rf1.estimator_.feature_importances_ >\n",
    "               sel_rf1.estimator_.feature_importances_.mean())))"
   ]
  },
  {
   "cell_type": "code",
   "execution_count": 99,
   "id": "7f736f3b",
   "metadata": {},
   "outputs": [],
   "source": [
    "# create X train and test for just selected features\n",
    "select_train = X_train[selected_feat_rf1]\n",
    "select_test = X_test[selected_feat_rf1]"
   ]
  },
  {
   "cell_type": "code",
   "execution_count": 100,
   "id": "5f71b986",
   "metadata": {},
   "outputs": [
    {
     "name": "stdout",
     "output_type": "stream",
     "text": [
      "Test Mean Absolute Error : 1.65\n",
      "Test Mean Squared Error: 5.5\n",
      "Test Root Mean Square Error :$ 2.35\n",
      "Train Root Mean Square Error :$ 2.02\n"
     ]
    }
   ],
   "source": [
    "# fit selected features to random forest model\n",
    "RandomForest_sel = gridsearch_rf1\n",
    "RandomForest_sel.fit(select_train, y_train)\n",
    "\n",
    "# view performance of model\n",
    "performance_selection(RandomForest_sel, select_test, y_test)"
   ]
  },
  {
   "cell_type": "markdown",
   "id": "06de21a1",
   "metadata": {},
   "source": [
    "RMSE improved going from $\\$$2.35 to $\\$$2.30"
   ]
  },
  {
   "cell_type": "code",
   "execution_count": 101,
   "id": "9cb53635",
   "metadata": {},
   "outputs": [
    {
     "data": {
      "text/plain": [
       "SelectFromModel(estimator=Lasso(alpha=1, random_state=42))"
      ]
     },
     "execution_count": 101,
     "metadata": {},
     "output_type": "execute_result"
    }
   ],
   "source": [
    "# set up Lasso for linear regression\n",
    "from sklearn.feature_selection import SelectFromModel\n",
    "from sklearn.linear_model import Lasso\n",
    "lasso = SelectFromModel(Lasso(alpha=1, random_state=42))\n",
    "lasso.fit(X_train, y_train)"
   ]
  },
  {
   "cell_type": "code",
   "execution_count": 102,
   "id": "a3000e37",
   "metadata": {},
   "outputs": [
    {
     "name": "stdout",
     "output_type": "stream",
     "text": [
      "total features: 126\n",
      "selected features: 0\n",
      "features with coefficients shrank to zero: 126\n"
     ]
    }
   ],
   "source": [
    "# make a list with the selected features and print the outputs\n",
    "selected_feat = X_train.columns[(lasso.get_support())]\n",
    "\n",
    "print('total features: {}'.format((X_train.shape[1])))\n",
    "print('selected features: {}'.format(len(selected_feat)))\n",
    "print('features with coefficients shrank to zero: {}'.format(\n",
    "    np.sum(lasso.estimator_.coef_ == 0)))"
   ]
  },
  {
   "cell_type": "markdown",
   "id": "25cd9913",
   "metadata": {},
   "source": [
    "Lasso shows to be not helpful as all coefficients were shrank to zero. "
   ]
  },
  {
   "cell_type": "markdown",
   "id": "f003b8a3",
   "metadata": {},
   "source": [
    "### Using filter method ANOVA "
   ]
  },
  {
   "cell_type": "code",
   "execution_count": 103,
   "id": "4f52febd",
   "metadata": {},
   "outputs": [
    {
     "data": {
      "text/plain": [
       "<AxesSubplot:>"
      ]
     },
     "execution_count": 103,
     "metadata": {},
     "output_type": "execute_result"
    },
    {
     "data": {
      "image/png": "[encoded data removed]",
      "text/plain": [
       "<Figure size 1440x432 with 1 Axes>"
      ]
     },
     "metadata": {
      "needs_background": "light"
     },
     "output_type": "display_data"
    }
   ],
   "source": [
    "# Run ANOVA test to get a understanding of possible dependency \n",
    "from sklearn.feature_selection import f_regression\n",
    "anova = f_regression(X_train, y_train)\n",
    "\n",
    "# plot values\n",
    "anova = pd.Series(anova[1])\n",
    "anova.index = X_train.columns\n",
    "anova.sort_values(ascending=False).plot.bar(figsize=(20,6))"
   ]
  },
  {
   "cell_type": "code",
   "execution_count": 104,
   "id": "03c43b63",
   "metadata": {},
   "outputs": [],
   "source": [
    "# select the top 20% of features based on dependency\n",
    "from sklearn.feature_selection import SelectKBest, SelectPercentile\n",
    "percentile = SelectPercentile(f_regression,\n",
    "                        percentile=20).fit(X_train, y_train)\n",
    "\n",
    "# display selected feature names\n",
    "precent20_cols = X_train.columns[percentile.get_support()]"
   ]
  },
  {
   "cell_type": "code",
   "execution_count": 105,
   "id": "f13e6cc1",
   "metadata": {},
   "outputs": [
    {
     "data": {
      "text/plain": [
       "Index(['bathrooms', 'bedrooms', 'beds', 'minimum_nights', 'availability_30',\n",
       "       'availability_365', 'number_of_reviews', 'review_scores_rating',\n",
       "       'review_scores_location', 'neighbourhood_Leonidas',\n",
       "       'neighbourhood_Central Business District',\n",
       "       'neighbourhood_French Quarter', 'neighbourhood_St. Claude',\n",
       "       'property_type_Entire rental unit',\n",
       "       'property_type_Entire residential home',\n",
       "       'property_type_Private room in guest suite',\n",
       "       'property_type_Private room in residential home',\n",
       "       'property_type_Entire guest suite', 'property_type_Entire townhouse',\n",
       "       'property_type_Entire condominium (condo)',\n",
       "       'property_type_Private room in rental unit',\n",
       "       'property_type_Entire serviced apartment', 'room_type_Private room',\n",
       "       'room_type_Shared room', 'instant_bookable_t'],\n",
       "      dtype='object')"
      ]
     },
     "execution_count": 105,
     "metadata": {},
     "output_type": "execute_result"
    }
   ],
   "source": [
    "# We see that many of these features are categorical\n",
    "precent20_cols "
   ]
  },
  {
   "cell_type": "code",
   "execution_count": 106,
   "id": "80bb6438",
   "metadata": {},
   "outputs": [],
   "source": [
    "# create X train and test for just selected features\n",
    "select_train = X_train.drop(precent20_cols, axis=1)\n",
    "select_test = X_test.drop(precent20_cols, axis=1)"
   ]
  },
  {
   "cell_type": "code",
   "execution_count": 107,
   "id": "06728a16",
   "metadata": {},
   "outputs": [
    {
     "name": "stdout",
     "output_type": "stream",
     "text": [
      "Test Mean Absolute Error : 1.47\n",
      "Test Mean Squared Error: 4.18\n",
      "Test Root Mean Square Error :$ 2.04\n",
      "Train Root Mean Square Error :$ 1.43\n"
     ]
    }
   ],
   "source": [
    "# fit the selected features from ANOVA to linear regression\n",
    "precent20 = LinearRegression()\n",
    "precent20.fit(select_train, y_train)\n",
    "\n",
    "# view performance\n",
    "performance_selection(precent20, select_test, y_test)"
   ]
  },
  {
   "cell_type": "code",
   "execution_count": 110,
   "id": "2584c2f4",
   "metadata": {},
   "outputs": [
    {
     "name": "stdout",
     "output_type": "stream",
     "text": [
      "Test Mean Absolute Error : 1.45\n",
      "Test Mean Squared Error: 4.08\n",
      "Test Root Mean Square Error :$ 2.02\n",
      "Train Root Mean Square Error :$ 1.39\n"
     ]
    }
   ],
   "source": [
    "# fit the selected features from ANOVA to random forest\n",
    "precent20_rf = gridsearch_rf1\n",
    "precent20_rf.fit(select_train, y_train)\n",
    "\n",
    "# view performance\n",
    "performance_selection(precent20_rf, select_test, y_test)"
   ]
  },
  {
   "cell_type": "code",
   "execution_count": 111,
   "id": "972e253f",
   "metadata": {},
   "outputs": [],
   "source": [
    "# save results so we can talk about in conclusion\n",
    "final_model_results = {'Test Mean Absolute Error : 1.45',\n",
    "                       'Test Mean Squared Error: 4.08',\n",
    "                       'Test Root Mean Square Error :$ 2.02',\n",
    "                       'Train Root Mean Square Error :$ 1.39'}"
   ]
  },
  {
   "cell_type": "markdown",
   "id": "25d2d21c",
   "metadata": {},
   "source": [
    "Feature selection method ANOVA performed on the Random Forest Model has showed to produce the best model so far. RMSE for Random Forest improved, going from $\\$$2.33 to $\\$$2.02"
   ]
  },
  {
   "cell_type": "markdown",
   "id": "f26ede7b",
   "metadata": {},
   "source": [
    "Over half the features in this analysis are different neighborhoods, we can see if there is any change if we don't take the neighborhood features into account. Some models can be biased or in a way confused by the weak relationships it finds between the categorical features. "
   ]
  },
  {
   "cell_type": "code",
   "execution_count": 112,
   "id": "7c97dac4",
   "metadata": {},
   "outputs": [],
   "source": [
    "# remove all neighborhood columns for both test and train sets\n",
    "select_train = X_train[X_train.columns.drop(list(X_train.filter(regex='neighbourhood')))]\n",
    "select_test = X_test[X_test.columns.drop(list(X_test.filter(regex='neighbourhood')))]"
   ]
  },
  {
   "cell_type": "code",
   "execution_count": 113,
   "id": "5ab823d3",
   "metadata": {},
   "outputs": [
    {
     "name": "stdout",
     "output_type": "stream",
     "text": [
      "Test Mean Absolute Error : 1.65\n",
      "Test Mean Squared Error: 5.56\n",
      "Test Root Mean Square Error :$ 2.36\n",
      "Train Root Mean Square Error :$ 2.01\n"
     ]
    }
   ],
   "source": [
    "# fit model\n",
    "rf_no_location = gridsearch_rf1.fit(select_train, y_train)\n",
    "\n",
    "# view performance \n",
    "performance_selection(rf_no_location, select_test, y_test)"
   ]
  },
  {
   "cell_type": "markdown",
   "id": "0dbc2d75",
   "metadata": {},
   "source": [
    "We see that removing the neighbourhood data did not prove to help the model."
   ]
  },
  {
   "cell_type": "markdown",
   "id": "96cbc78f",
   "metadata": {},
   "source": [
    "### Exploring other options\n",
    "Similar to feature selection we can look at principal component analysis to help reduce dimensionality of the dataset."
   ]
  },
  {
   "cell_type": "code",
   "execution_count": 114,
   "id": "fe781a22",
   "metadata": {},
   "outputs": [
    {
     "data": {
      "text/plain": [
       "PCA(n_components=115)"
      ]
     },
     "execution_count": 114,
     "metadata": {},
     "output_type": "execute_result"
    }
   ],
   "source": [
    "# set up pca\n",
    "pca_model = PCA(n_components=115)\n",
    "\n",
    "# fit on X_train\n",
    "pca_model.fit(X_train)"
   ]
  },
  {
   "cell_type": "code",
   "execution_count": 115,
   "id": "7c5d2142",
   "metadata": {},
   "outputs": [
    {
     "data": {
      "text/plain": [
       "0.9787343987773642"
      ]
     },
     "execution_count": 115,
     "metadata": {},
     "output_type": "execute_result"
    }
   ],
   "source": [
    "# view\n",
    "np.sum(pca_model.explained_variance_ratio_)"
   ]
  },
  {
   "cell_type": "code",
   "execution_count": 116,
   "id": "b5b46116",
   "metadata": {},
   "outputs": [],
   "source": [
    "# get explained variance for X_train\n",
    "explained_variance = []\n",
    "\n",
    "for n in range(1,115):\n",
    "    \n",
    "    pca= PCA(n_components=n)\n",
    "    pca.fit(X_train)\n",
    "    \n",
    "    explained_variance.append(np.sum(pca.explained_variance_ratio_))"
   ]
  },
  {
   "cell_type": "code",
   "execution_count": 117,
   "id": "9519a662",
   "metadata": {},
   "outputs": [
    {
     "data": {
      "text/plain": [
       "Text(0, 0.5, 'Variance Explained')"
      ]
     },
     "execution_count": 117,
     "metadata": {},
     "output_type": "execute_result"
    },
    {
     "data": {
      "image/png": "[encoded data removed]",
      "text/plain": [
       "<Figure size 432x288 with 1 Axes>"
      ]
     },
     "metadata": {
      "needs_background": "light"
     },
     "output_type": "display_data"
    }
   ],
   "source": [
    "# view the explained variance for the different number of features\n",
    "plt.plot(range(1,115), explained_variance)\n",
    "plt.xlabel('Num of Componets')\n",
    "plt.ylabel('Variance Explained')"
   ]
  },
  {
   "cell_type": "code",
   "execution_count": 118,
   "id": "819ea4f5",
   "metadata": {},
   "outputs": [],
   "source": [
    "# pick number of features to use for model based of of plot\n",
    "pca_model_95 = PCA(n_components=95)"
   ]
  },
  {
   "cell_type": "code",
   "execution_count": 119,
   "id": "45f3fb3f",
   "metadata": {},
   "outputs": [],
   "source": [
    "# create X train and test for just selected features\n",
    "select_train = pca_model_95.fit_transform(X_train)\n",
    "select_test = pca_model_95.transform(X_test)"
   ]
  },
  {
   "cell_type": "code",
   "execution_count": 120,
   "id": "2755808e",
   "metadata": {},
   "outputs": [
    {
     "data": {
      "text/plain": [
       "LinearRegression()"
      ]
     },
     "execution_count": 120,
     "metadata": {},
     "output_type": "execute_result"
    }
   ],
   "source": [
    "# fit on linear regression model\n",
    "lr_base.fit(select_train, y_train)"
   ]
  },
  {
   "cell_type": "code",
   "execution_count": 121,
   "id": "5af9eff8",
   "metadata": {
    "scrolled": true
   },
   "outputs": [
    {
     "name": "stdout",
     "output_type": "stream",
     "text": [
      "Test Mean Absolute Error : 1.57\n",
      "Test Mean Squared Error: 5.05\n",
      "Test Root Mean Square Error :$ 2.25\n",
      "Train Root Mean Square Error :$ 1.98\n"
     ]
    }
   ],
   "source": [
    "# view performance\n",
    "performance_selection(lr_base, select_test, y_test)"
   ]
  },
  {
   "cell_type": "markdown",
   "id": "c1266a0f",
   "metadata": {},
   "source": [
    "PCA was not helpful and the plot did not show a clear point where the performance stopped improving. This could be because there are so many categorical features. "
   ]
  },
  {
   "cell_type": "markdown",
   "id": "7764af97",
   "metadata": {},
   "source": [
    "## 5. Results\n",
    "---\n",
    "\n",
    "### The Final Model:\n",
    "The final model in this analysis is the model with the lowest RMSE which was a Random Forest model. The random forest model went through hyperparameter tuning using GridsearchCV and feature selection was performed using the top 20 percent of features found by using filter method ANOVA. The RMSE improved from $\\$$3.18 to $\\$$2.02"
   ]
  },
  {
   "cell_type": "code",
   "execution_count": 122,
   "id": "e3dda88f",
   "metadata": {},
   "outputs": [
    {
     "data": {
      "text/plain": [
       "{'criterion': 'squared_error',\n",
       " 'max_depth': 50,\n",
       " 'max_features': 'auto',\n",
       " 'min_samples_leaf': 10,\n",
       " 'min_samples_split': 2}"
      ]
     },
     "execution_count": 122,
     "metadata": {},
     "output_type": "execute_result"
    }
   ],
   "source": [
    "# recall the parameters of the best performing Random Forest model\n",
    "gridsearch_rf1.best_params_"
   ]
  },
  {
   "cell_type": "code",
   "execution_count": 123,
   "id": "b6a02a16",
   "metadata": {},
   "outputs": [
    {
     "name": "stdout",
     "output_type": "stream",
     "text": [
      "Baseline Model Metrics:\n"
     ]
    },
    {
     "data": {
      "text/plain": [
       "{'Test Mean Absolute Error : 1.79',\n",
       " 'Test Mean Squared Error: 10.11',\n",
       " 'Test Root Mean Square Error :$ 3.18',\n",
       " 'Train Root Mean Square Error :$ 2.07'}"
      ]
     },
     "execution_count": 123,
     "metadata": {},
     "output_type": "execute_result"
    }
   ],
   "source": [
    "# recall results of base model\n",
    "print('Baseline Model Metrics:')\n",
    "base_results"
   ]
  },
  {
   "cell_type": "code",
   "execution_count": 124,
   "id": "dffdb31b",
   "metadata": {},
   "outputs": [
    {
     "name": "stdout",
     "output_type": "stream",
     "text": [
      "Final Random Forest Model Metrics:\n"
     ]
    },
    {
     "data": {
      "text/plain": [
       "{'Test Mean Absolute Error : 1.45',\n",
       " 'Test Mean Squared Error: 4.08',\n",
       " 'Test Root Mean Square Error :$ 2.02',\n",
       " 'Train Root Mean Square Error :$ 1.39'}"
      ]
     },
     "execution_count": 124,
     "metadata": {},
     "output_type": "execute_result"
    }
   ],
   "source": [
    "# recall results of best performing model after tuning and feature selection\n",
    "print('Final Random Forest Model Metrics:')\n",
    "final_model_results"
   ]
  },
  {
   "cell_type": "markdown",
   "id": "e98adb42",
   "metadata": {},
   "source": [
    "Possible reasons why a Random Forest model works well here is that they are typically more robust to outliers and have a lower risk of overfitting than some other models. However it is important to keep in mind that Random Forest models are sensitive to categorical data which this dataset does contain a good amount of."
   ]
  },
  {
   "cell_type": "markdown",
   "id": "52fb7c0e",
   "metadata": {},
   "source": [
    "#### What can be learned from this analysis?\n",
    "\n",
    "The goal of this analysis was to gain information about the New Orleans short term rental market using exploratory data analysis and a price predictive model that Ms. Alter could use as in aid while searching for an investment property.\n",
    "\n",
    "The exploratory Data Analysis (EDA) can assist in making general assumptions about New Orleans' short term rental market, that you can use to help narrow down properties in your search. EDA showed which neighborhoods had the most airbnbs and which neighborhoods had the most expensive rentals. EDA also showed that entire properties book more and rent for more than shared properties. \n",
    "\n",
    "The final model had a RMSE of $\\$$2.02 which is the root square error of the entire model's error. The RMSE helps us understand how spread out the data is around the line of best fit by using the difference between the observed values and the predicted values. The final model went through feature selection. The baseline model had a RMSE of $\\$$3.18 for comparison. The final model had an MAE of 1.45 on the test set. The MAE is a metric that gives us the absolute difference between actual and predicted values. Having a well performing predictive model will prove helpful when comparing properties to buy and help you determine not only the price point you should expect to rent a property at but also help you decide what your purchase price for a property should be around to get the ROI that works for you. "
   ]
  },
  {
   "cell_type": "markdown",
   "id": "ff1319b9",
   "metadata": {},
   "source": [
    "## 6. Conclusion\n",
    "---\n",
    "\n",
    "This analysis was completed for Sarah Alter, a private investor, who is interested in expanding her vacation rental portfolio to New Orleans. The business problem was to gain a general understanding of the New Orleans short term rental market and make a predictive model for the nightly price of Airbnbs in New Orleans. This analysis is to be used as a guide as Alter starts her search for a new property. To help Alter reach her goal, exploratory data analysis is used to get an overview of the market. The predictive model would be informative when applied to current properties on the market to help Alter get a grasp on what nightly rates she can expect based on specific features of the property. \n",
    "\n",
    "The final model was a Random Forest model. In summary this analysis showed:\n",
    "- The final model had an RMSE of $2.02 on the test set.\n",
    "- The final model had a MAE of 1.45 on the test set.\n",
    "- The Exploratory Data Analysis shows to be informative in getting an general understanding of the New Orleans' Short term rental market to aid Alter in her property search. Such as which neighborhoods have the highest priced airbnbs and the lowest availability. "
   ]
  },
  {
   "cell_type": "markdown",
   "id": "a2271821",
   "metadata": {},
   "source": [
    "#### Next steps:\n",
    "\n",
    "Adding more continuous & relevant variables. New Orleans is a large city and even within each neighborhood price data can vary. Reflecting on what makes a Short Term Rental attractive to tourists and adding those features into the model can help get even a better representation of the New Orleans market. Such features which might be interesting to add is distance to the airport and top tourist attractions. More features can be added to this model using API to source this data from places such as Google Earth. \n",
    "\n",
    "Take into consideration seasonality. This dataset is based around November 7, 2021. However, it is not noted whether it is the main season for New Orleans or not. Importing data from Inside Airbnb for different times of the year might show different price predictions and endup changing your expected ROI.  \n",
    "\n",
    "Use what was gathered from EDA to further investigate specific neighborhoods. EDA showed which neighborhoods had the most Airbnbs. Researching those neighborhoods might show that they have benefits that other neighborhoods don't, such as less restrictions or qualifications placed on them by the city or county."
   ]
  }
 ],
 "metadata": {
  "kernelspec": {
   "display_name": "predictive-env",
   "language": "python",
   "name": "nlp-env"
  },
  "language_info": {
   "codemirror_mode": {
    "name": "ipython",
    "version": 3
   },
   "file_extension": ".py",
   "mimetype": "text/x-python",
   "name": "python",
   "nbconvert_exporter": "python",
   "pygments_lexer": "ipython3",
   "version": "3.9.12"
  }
 },
 "nbformat": 4,
 "nbformat_minor": 5
}
